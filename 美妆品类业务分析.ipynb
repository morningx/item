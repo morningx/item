{
 "cells": [
  {
   "cell_type": "markdown",
   "metadata": {
    "id": "F5635199441E45B98301D82E5C86BF8F",
    "jupyter": {},
    "mdEditEnable": false,
    "slideshow": {
     "slide_type": "slide"
    },
    "tags": []
   },
   "source": [
    "# 读取数据"
   ]
  },
  {
   "cell_type": "code",
   "execution_count": 303,
   "metadata": {
    "ExecuteTime": {
     "end_time": "2020-03-12T10:01:34.814966Z",
     "start_time": "2020-03-12T10:01:34.802975Z"
    },
    "id": "AEBF15455D5445799CE13A742CA85A86",
    "jupyter": {},
    "scrolled": false,
    "slideshow": {
     "slide_type": "slide"
    },
    "tags": []
   },
   "outputs": [],
   "source": [
    "import pandas as pd\n",
    "import numpy as np\n",
    "import matplotlib.pyplot as plt\n",
    "import warnings\n",
    "warnings.filterwarnings('ignore')\n",
    "import seaborn as sns\n",
    "%matplotlib inline\n",
    "plt.rcParams['font.sans-serif']=['SimHei']  #指定默认字体  \n",
    "plt.rcParams['axes.unicode_minus']=False  #解决负号'-'显示为方块的问题"
   ]
  },
  {
   "cell_type": "code",
   "execution_count": 139,
   "metadata": {
    "ExecuteTime": {
     "end_time": "2020-03-12T08:12:15.479789Z",
     "start_time": "2020-03-12T08:12:15.391482Z"
    },
    "id": "63063C83E8FE42FA8479EACF44234667",
    "jupyter": {},
    "scrolled": false,
    "slideshow": {
     "slide_type": "slide"
    },
    "tags": []
   },
   "outputs": [
    {
     "data": {
      "text/html": [
       "<div>\n",
       "<style scoped>\n",
       "    .dataframe tbody tr th:only-of-type {\n",
       "        vertical-align: middle;\n",
       "    }\n",
       "\n",
       "    .dataframe tbody tr th {\n",
       "        vertical-align: top;\n",
       "    }\n",
       "\n",
       "    .dataframe thead th {\n",
       "        text-align: right;\n",
       "    }\n",
       "</style>\n",
       "<table border=\"1\" class=\"dataframe\">\n",
       "  <thead>\n",
       "    <tr style=\"text-align: right;\">\n",
       "      <th></th>\n",
       "      <th>update_time</th>\n",
       "      <th>id</th>\n",
       "      <th>title</th>\n",
       "      <th>price</th>\n",
       "      <th>sale_count</th>\n",
       "      <th>comment_count</th>\n",
       "      <th>店名</th>\n",
       "    </tr>\n",
       "  </thead>\n",
       "  <tbody>\n",
       "    <tr>\n",
       "      <td>0</td>\n",
       "      <td>2016/11/14</td>\n",
       "      <td>A18164178225</td>\n",
       "      <td>CHANDO/自然堂 雪域精粹纯粹滋润霜50g 补水保湿 滋润水润面霜</td>\n",
       "      <td>139.0</td>\n",
       "      <td>26719.0</td>\n",
       "      <td>2704.0</td>\n",
       "      <td>自然堂</td>\n",
       "    </tr>\n",
       "    <tr>\n",
       "      <td>1</td>\n",
       "      <td>2016/11/14</td>\n",
       "      <td>A18177105952</td>\n",
       "      <td>CHANDO/自然堂凝时鲜颜肌活乳液120ML 淡化细纹补水滋润专柜正品</td>\n",
       "      <td>194.0</td>\n",
       "      <td>8122.0</td>\n",
       "      <td>1492.0</td>\n",
       "      <td>自然堂</td>\n",
       "    </tr>\n",
       "  </tbody>\n",
       "</table>\n",
       "</div>"
      ],
      "text/plain": [
       "  update_time            id                                 title  price  \\\n",
       "0  2016/11/14  A18164178225   CHANDO/自然堂 雪域精粹纯粹滋润霜50g 补水保湿 滋润水润面霜  139.0   \n",
       "1  2016/11/14  A18177105952  CHANDO/自然堂凝时鲜颜肌活乳液120ML 淡化细纹补水滋润专柜正品  194.0   \n",
       "\n",
       "   sale_count  comment_count   店名  \n",
       "0     26719.0         2704.0  自然堂  \n",
       "1      8122.0         1492.0  自然堂  "
      ]
     },
     "execution_count": 139,
     "metadata": {},
     "output_type": "execute_result"
    }
   ],
   "source": [
    "road = r\"E:\\双十一美妆业务.csv\"\n",
    "data = pd.read_csv(road)\n",
    "data.head(2)"
   ]
  },
  {
   "cell_type": "code",
   "execution_count": 140,
   "metadata": {
    "ExecuteTime": {
     "end_time": "2020-03-12T08:12:19.053104Z",
     "start_time": "2020-03-12T08:12:19.028123Z"
    }
   },
   "outputs": [
    {
     "data": {
      "text/html": [
       "<div>\n",
       "<style scoped>\n",
       "    .dataframe tbody tr th:only-of-type {\n",
       "        vertical-align: middle;\n",
       "    }\n",
       "\n",
       "    .dataframe tbody tr th {\n",
       "        vertical-align: top;\n",
       "    }\n",
       "\n",
       "    .dataframe thead th {\n",
       "        text-align: right;\n",
       "    }\n",
       "</style>\n",
       "<table border=\"1\" class=\"dataframe\">\n",
       "  <thead>\n",
       "    <tr style=\"text-align: right;\">\n",
       "      <th></th>\n",
       "      <th>update_time</th>\n",
       "      <th>id</th>\n",
       "      <th>title</th>\n",
       "      <th>price</th>\n",
       "      <th>sale_count</th>\n",
       "      <th>comment_count</th>\n",
       "      <th>店名</th>\n",
       "    </tr>\n",
       "  </thead>\n",
       "  <tbody>\n",
       "    <tr>\n",
       "      <td>0</td>\n",
       "      <td>2016/11/14</td>\n",
       "      <td>A18164178225</td>\n",
       "      <td>CHANDO/自然堂 雪域精粹纯粹滋润霜50g 补水保湿 滋润水润面霜</td>\n",
       "      <td>139.0</td>\n",
       "      <td>26719.0</td>\n",
       "      <td>2704.0</td>\n",
       "      <td>自然堂</td>\n",
       "    </tr>\n",
       "    <tr>\n",
       "      <td>1</td>\n",
       "      <td>2016/11/14</td>\n",
       "      <td>A18177105952</td>\n",
       "      <td>CHANDO/自然堂凝时鲜颜肌活乳液120ML 淡化细纹补水滋润专柜正品</td>\n",
       "      <td>194.0</td>\n",
       "      <td>8122.0</td>\n",
       "      <td>1492.0</td>\n",
       "      <td>自然堂</td>\n",
       "    </tr>\n",
       "  </tbody>\n",
       "</table>\n",
       "</div>"
      ],
      "text/plain": [
       "  update_time            id                                 title  price  \\\n",
       "0  2016/11/14  A18164178225   CHANDO/自然堂 雪域精粹纯粹滋润霜50g 补水保湿 滋润水润面霜  139.0   \n",
       "1  2016/11/14  A18177105952  CHANDO/自然堂凝时鲜颜肌活乳液120ML 淡化细纹补水滋润专柜正品  194.0   \n",
       "\n",
       "   sale_count  comment_count   店名  \n",
       "0     26719.0         2704.0  自然堂  \n",
       "1      8122.0         1492.0  自然堂  "
      ]
     },
     "execution_count": 140,
     "metadata": {},
     "output_type": "execute_result"
    }
   ],
   "source": [
    "import copy \n",
    "df1 = copy.deepcopy(data)\n",
    "df1.head(2)"
   ]
  },
  {
   "cell_type": "code",
   "execution_count": 141,
   "metadata": {
    "ExecuteTime": {
     "end_time": "2020-03-12T08:12:21.049077Z",
     "start_time": "2020-03-12T08:12:21.041083Z"
    },
    "id": "A067B6FF04724F84AE2EC30052D5C885",
    "jupyter": {},
    "scrolled": false,
    "slideshow": {
     "slide_type": "slide"
    },
    "tags": []
   },
   "outputs": [
    {
     "data": {
      "text/plain": [
       "(27598, 7)"
      ]
     },
     "execution_count": 141,
     "metadata": {},
     "output_type": "execute_result"
    }
   ],
   "source": [
    "data.shape"
   ]
  },
  {
   "cell_type": "code",
   "execution_count": 142,
   "metadata": {
    "ExecuteTime": {
     "end_time": "2020-03-12T08:12:21.587815Z",
     "start_time": "2020-03-12T08:12:21.568829Z"
    },
    "id": "57C4DBBFC0EA44D283B7EFD1EC4BA734",
    "jupyter": {},
    "scrolled": false,
    "slideshow": {
     "slide_type": "slide"
    },
    "tags": []
   },
   "outputs": [
    {
     "name": "stdout",
     "output_type": "stream",
     "text": [
      "<class 'pandas.core.frame.DataFrame'>\n",
      "RangeIndex: 27598 entries, 0 to 27597\n",
      "Data columns (total 7 columns):\n",
      "update_time      27598 non-null object\n",
      "id               27598 non-null object\n",
      "title            27598 non-null object\n",
      "price            27598 non-null float64\n",
      "sale_count       25244 non-null float64\n",
      "comment_count    25244 non-null float64\n",
      "店名               27598 non-null object\n",
      "dtypes: float64(3), object(4)\n",
      "memory usage: 1.5+ MB\n"
     ]
    }
   ],
   "source": [
    "# 查看各字段信息\n",
    "data.info()"
   ]
  },
  {
   "cell_type": "code",
   "execution_count": 143,
   "metadata": {
    "ExecuteTime": {
     "end_time": "2020-03-12T08:12:22.552078Z",
     "start_time": "2020-03-12T08:12:22.537089Z"
    },
    "id": "630902AA308B46908140D6570BC9FA22",
    "jupyter": {},
    "slideshow": {
     "slide_type": "slide"
    },
    "tags": []
   },
   "outputs": [
    {
     "data": {
      "text/plain": [
       "悦诗风吟    3021\n",
       "佰草集     2265\n",
       "欧莱雅     1974\n",
       "雅诗兰黛    1810\n",
       "倩碧      1704\n",
       "美加净     1678\n",
       "欧珀莱     1359\n",
       "妮维雅     1329\n",
       "相宜本草    1313\n",
       "兰蔻      1285\n",
       "娇兰      1193\n",
       "自然堂     1190\n",
       "玉兰油     1135\n",
       "兰芝      1091\n",
       "美宝莲      825\n",
       "资生堂      821\n",
       "植村秀      750\n",
       "薇姿       746\n",
       "雅漾       663\n",
       "雪花秀      543\n",
       "SKII     469\n",
       "蜜丝佛陀     434\n",
       "Name: 店名, dtype: int64"
      ]
     },
     "execution_count": 143,
     "metadata": {},
     "output_type": "execute_result"
    }
   ],
   "source": [
    "data['店名'].value_counts()"
   ]
  },
  {
   "cell_type": "code",
   "execution_count": 408,
   "metadata": {
    "ExecuteTime": {
     "end_time": "2020-03-12T12:52:30.093628Z",
     "start_time": "2020-03-12T12:52:30.084634Z"
    }
   },
   "outputs": [
    {
     "data": {
      "text/plain": [
       "27512"
      ]
     },
     "execution_count": 408,
     "metadata": {},
     "output_type": "execute_result"
    }
   ],
   "source": [
    "data['price'].count()          #非空元素计算"
   ]
  },
  {
   "cell_type": "code",
   "execution_count": 409,
   "metadata": {
    "ExecuteTime": {
     "end_time": "2020-03-12T12:52:39.796614Z",
     "start_time": "2020-03-12T12:52:39.787619Z"
    }
   },
   "outputs": [
    {
     "data": {
      "text/plain": [
       "1.0"
      ]
     },
     "execution_count": 409,
     "metadata": {},
     "output_type": "execute_result"
    }
   ],
   "source": [
    "data['price'].min()            #最小值"
   ]
  },
  {
   "cell_type": "code",
   "execution_count": 410,
   "metadata": {
    "ExecuteTime": {
     "end_time": "2020-03-12T12:52:45.559182Z",
     "start_time": "2020-03-12T12:52:45.551190Z"
    }
   },
   "outputs": [
    {
     "data": {
      "text/plain": [
       "11100.0"
      ]
     },
     "execution_count": 410,
     "metadata": {},
     "output_type": "execute_result"
    }
   ],
   "source": [
    "data['price'].max()            #最大值"
   ]
  },
  {
   "cell_type": "code",
   "execution_count": 411,
   "metadata": {
    "ExecuteTime": {
     "end_time": "2020-03-12T12:52:52.978671Z",
     "start_time": "2020-03-12T12:52:52.957687Z"
    }
   },
   "outputs": [
    {
     "data": {
      "text/plain": [
       "Timestamp('2016-11-14 00:00:00')"
      ]
     },
     "execution_count": 411,
     "metadata": {},
     "output_type": "execute_result"
    }
   ],
   "source": [
    "data['price'].idxmin()         #最小值的位置，类似于R中的which.min函数"
   ]
  },
  {
   "cell_type": "code",
   "execution_count": 412,
   "metadata": {
    "ExecuteTime": {
     "end_time": "2020-03-12T12:52:58.531335Z",
     "start_time": "2020-03-12T12:52:58.522342Z"
    }
   },
   "outputs": [
    {
     "data": {
      "text/plain": [
       "Timestamp('2016-11-14 00:00:00')"
      ]
     },
     "execution_count": 412,
     "metadata": {},
     "output_type": "execute_result"
    }
   ],
   "source": [
    "data['price'].idxmax()         #最大值的位置，类似于R中的which.max函数"
   ]
  },
  {
   "cell_type": "code",
   "execution_count": 413,
   "metadata": {
    "ExecuteTime": {
     "end_time": "2020-03-12T12:53:04.873503Z",
     "start_time": "2020-03-12T12:53:04.863509Z"
    }
   },
   "outputs": [
    {
     "data": {
      "text/plain": [
       "46.0"
      ]
     },
     "execution_count": 413,
     "metadata": {},
     "output_type": "execute_result"
    }
   ],
   "source": [
    "data['price'].quantile(0.1)    #10%分位数"
   ]
  },
  {
   "cell_type": "code",
   "execution_count": 423,
   "metadata": {
    "ExecuteTime": {
     "end_time": "2020-03-12T12:56:27.377756Z",
     "start_time": "2020-03-12T12:56:27.368761Z"
    }
   },
   "outputs": [
    {
     "data": {
      "text/plain": [
       "9998507.65"
      ]
     },
     "execution_count": 423,
     "metadata": {},
     "output_type": "execute_result"
    }
   ],
   "source": [
    "data['price'].sum()            #求和"
   ]
  },
  {
   "cell_type": "code",
   "execution_count": 420,
   "metadata": {
    "ExecuteTime": {
     "end_time": "2020-03-12T12:53:53.104016Z",
     "start_time": "2020-03-12T12:53:53.092024Z"
    }
   },
   "outputs": [
    {
     "data": {
      "text/plain": [
       "301.0366029611354"
      ]
     },
     "execution_count": 420,
     "metadata": {},
     "output_type": "execute_result"
    }
   ],
   "source": [
    "data['price'].mad()            #平均绝对偏差"
   ]
  },
  {
   "cell_type": "code",
   "execution_count": null,
   "metadata": {},
   "outputs": [],
   "source": [
    "data['price'].skew()           #偏度"
   ]
  },
  {
   "cell_type": "code",
   "execution_count": 421,
   "metadata": {
    "ExecuteTime": {
     "end_time": "2020-03-12T12:54:04.122224Z",
     "start_time": "2020-03-12T12:54:04.113229Z"
    }
   },
   "outputs": [
    {
     "data": {
      "text/plain": [
       "108.79996757948028"
      ]
     },
     "execution_count": 421,
     "metadata": {},
     "output_type": "execute_result"
    }
   ],
   "source": [
    "data['price'].kurt()           #峰度"
   ]
  },
  {
   "cell_type": "code",
   "execution_count": 424,
   "metadata": {
    "ExecuteTime": {
     "end_time": "2020-03-12T12:56:30.686706Z",
     "start_time": "2020-03-12T12:56:30.678708Z"
    }
   },
   "outputs": [
    {
     "data": {
      "text/plain": [
       "363.42351155859717"
      ]
     },
     "execution_count": 424,
     "metadata": {},
     "output_type": "execute_result"
    }
   ],
   "source": [
    "data['price'].mean()           #均值"
   ]
  },
  {
   "cell_type": "code",
   "execution_count": 425,
   "metadata": {
    "ExecuteTime": {
     "end_time": "2020-03-12T12:56:59.681122Z",
     "start_time": "2020-03-12T12:56:59.669130Z"
    }
   },
   "outputs": [
    {
     "data": {
      "text/plain": [
       "86.0"
      ]
     },
     "execution_count": 425,
     "metadata": {},
     "output_type": "execute_result"
    }
   ],
   "source": [
    "data['price'].quantile(0.2)"
   ]
  },
  {
   "cell_type": "code",
   "execution_count": 416,
   "metadata": {
    "ExecuteTime": {
     "end_time": "2020-03-12T12:53:22.099078Z",
     "start_time": "2020-03-12T12:53:22.091082Z"
    }
   },
   "outputs": [
    {
     "data": {
      "text/plain": [
       "205.0"
      ]
     },
     "execution_count": 416,
     "metadata": {},
     "output_type": "execute_result"
    }
   ],
   "source": [
    "data['price'].median()         #中位数"
   ]
  },
  {
   "cell_type": "code",
   "execution_count": 417,
   "metadata": {
    "ExecuteTime": {
     "end_time": "2020-03-12T12:53:27.217907Z",
     "start_time": "2020-03-12T12:53:27.206912Z"
    }
   },
   "outputs": [
    {
     "data": {
      "text/plain": [
       "0    260.0\n",
       "dtype: float64"
      ]
     },
     "execution_count": 417,
     "metadata": {},
     "output_type": "execute_result"
    }
   ],
   "source": [
    "data['price'].mode()           #众数"
   ]
  },
  {
   "cell_type": "code",
   "execution_count": 418,
   "metadata": {
    "ExecuteTime": {
     "end_time": "2020-03-12T12:53:34.291576Z",
     "start_time": "2020-03-12T12:53:34.283585Z"
    }
   },
   "outputs": [
    {
     "data": {
      "text/plain": [
       "378072.6836377042"
      ]
     },
     "execution_count": 418,
     "metadata": {},
     "output_type": "execute_result"
    }
   ],
   "source": [
    "data['price'].var()            #方差"
   ]
  },
  {
   "cell_type": "code",
   "execution_count": 419,
   "metadata": {
    "ExecuteTime": {
     "end_time": "2020-03-12T12:53:39.335454Z",
     "start_time": "2020-03-12T12:53:39.326457Z"
    }
   },
   "outputs": [
    {
     "data": {
      "text/plain": [
       "614.8761530891438"
      ]
     },
     "execution_count": 419,
     "metadata": {},
     "output_type": "execute_result"
    }
   ],
   "source": [
    "data['price'].std()            #标准差"
   ]
  },
  {
   "cell_type": "code",
   "execution_count": 422,
   "metadata": {
    "ExecuteTime": {
     "end_time": "2020-03-12T12:54:06.736600Z",
     "start_time": "2020-03-12T12:54:06.720611Z"
    }
   },
   "outputs": [
    {
     "data": {
      "text/plain": [
       "count    27512.000000\n",
       "mean       363.423512\n",
       "std        614.876153\n",
       "min          1.000000\n",
       "25%         99.000000\n",
       "50%        205.000000\n",
       "75%        390.000000\n",
       "max      11100.000000\n",
       "Name: price, dtype: float64"
      ]
     },
     "execution_count": 422,
     "metadata": {},
     "output_type": "execute_result"
    }
   ],
   "source": [
    "data['price'].describe()       #一次性输出多个描述性统计指标"
   ]
  },
  {
   "cell_type": "code",
   "execution_count": 432,
   "metadata": {
    "ExecuteTime": {
     "end_time": "2020-03-12T12:59:12.903630Z",
     "start_time": "2020-03-12T12:59:12.859655Z"
    }
   },
   "outputs": [
    {
     "name": "stdout",
     "output_type": "stream",
     "text": [
      "0 分位数： 1.0\n",
      "1 分位数： 46.0\n",
      "2 分位数： 86.0\n",
      "3 分位数： 118.0\n",
      "4 分位数： 160.0\n",
      "5 分位数： 205.0\n",
      "6 分位数： 260.0\n",
      "7 分位数： 340.0\n",
      "8 分位数： 490.0\n",
      "9 分位数： 760.0\n",
      "10 分位数： 11100.0\n"
     ]
    }
   ],
   "source": [
    "for i in range(11):\n",
    "    print(i,'分位数：',data['price'].quantile(i*0.1))"
   ]
  },
  {
   "cell_type": "code",
   "execution_count": 435,
   "metadata": {
    "ExecuteTime": {
     "end_time": "2020-03-12T13:00:20.712296Z",
     "start_time": "2020-03-12T13:00:20.703302Z"
    }
   },
   "outputs": [
    {
     "name": "stdout",
     "output_type": "stream",
     "text": [
      "0.7826325504212567\n",
      "-0.2631655441038463\n"
     ]
    }
   ],
   "source": [
    "x = [53, 61, 49, 66, 78, 47]\n",
    "s = pd.Series(x)\n",
    "\n",
    "# 偏度能够反应分布的对称情况，右偏（也叫正偏），在图像上表现为数据右边脱了一个长长的尾巴\n",
    "# 这时大多数值分布在左侧，有一小部分值分布在右侧\n",
    "print(s.skew())\n",
    "\n",
    "# skew倾斜；偏移；偏斜\n",
    "# 峰度反应的是图像的尖锐程度：峰度越大，表现在图像上面是中心点越尖锐\n",
    "# 在相同方差的情况下，中间一大部分的值方差都很小，为了达到和正太分布方差相同的目的\n",
    "# 必须有一些值离中心点越远，所以这就是所说的“厚尾”，反应的是异常点增多这一现象\n",
    "# kurt返回数据集的峰值\n",
    "print(s.kurt())"
   ]
  },
  {
   "cell_type": "markdown",
   "metadata": {
    "id": "551BF7DF7B1A4F1EA7B918AB30EFFF63",
    "jupyter": {},
    "slideshow": {
     "slide_type": "slide"
    },
    "tags": []
   },
   "source": [
    "# 数据清洗"
   ]
  },
  {
   "cell_type": "markdown",
   "metadata": {
    "id": "3DE5744D945F442A8459649FEEBED310",
    "jupyter": {},
    "slideshow": {
     "slide_type": "slide"
    },
    "tags": []
   },
   "source": [
    "## 重复数据处理"
   ]
  },
  {
   "cell_type": "code",
   "execution_count": 144,
   "metadata": {
    "ExecuteTime": {
     "end_time": "2020-03-12T08:12:26.718021Z",
     "start_time": "2020-03-12T08:12:26.681043Z"
    },
    "id": "BB0F16B18E1E482E93722CC34ACF5A36",
    "jupyter": {},
    "scrolled": false,
    "slideshow": {
     "slide_type": "slide"
    },
    "tags": []
   },
   "outputs": [],
   "source": [
    "# 对重复数据做删除\n",
    "\n",
    "data = data.drop_duplicates(inplace=False)"
   ]
  },
  {
   "cell_type": "code",
   "execution_count": 145,
   "metadata": {
    "ExecuteTime": {
     "end_time": "2020-03-12T08:12:27.537038Z",
     "start_time": "2020-03-12T08:12:27.529041Z"
    },
    "id": "4EA2A23C9E5243758BE1903E2684DBA6",
    "jupyter": {},
    "scrolled": false,
    "slideshow": {
     "slide_type": "slide"
    },
    "tags": []
   },
   "outputs": [
    {
     "data": {
      "text/plain": [
       "(27512, 7)"
      ]
     },
     "execution_count": 145,
     "metadata": {},
     "output_type": "execute_result"
    }
   ],
   "source": [
    "data.shape"
   ]
  },
  {
   "cell_type": "code",
   "execution_count": 146,
   "metadata": {
    "ExecuteTime": {
     "end_time": "2020-03-12T08:12:29.142003Z",
     "start_time": "2020-03-12T08:12:29.137006Z"
    },
    "id": "45AD340AD3F44757B30403177B60E6DC",
    "jupyter": {},
    "scrolled": false,
    "slideshow": {
     "slide_type": "slide"
    },
    "tags": []
   },
   "outputs": [],
   "source": [
    "# 删除重复值但没改动索引，需重新顺序排列进行重置索引\n",
    "\n",
    "data.reset_index(inplace=True,drop=True)"
   ]
  },
  {
   "cell_type": "code",
   "execution_count": 147,
   "metadata": {
    "ExecuteTime": {
     "end_time": "2020-03-12T08:12:47.965945Z",
     "start_time": "2020-03-12T08:12:47.943958Z"
    }
   },
   "outputs": [
    {
     "data": {
      "text/html": [
       "<div>\n",
       "<style scoped>\n",
       "    .dataframe tbody tr th:only-of-type {\n",
       "        vertical-align: middle;\n",
       "    }\n",
       "\n",
       "    .dataframe tbody tr th {\n",
       "        vertical-align: top;\n",
       "    }\n",
       "\n",
       "    .dataframe thead th {\n",
       "        text-align: right;\n",
       "    }\n",
       "</style>\n",
       "<table border=\"1\" class=\"dataframe\">\n",
       "  <thead>\n",
       "    <tr style=\"text-align: right;\">\n",
       "      <th></th>\n",
       "      <th>update_time</th>\n",
       "      <th>id</th>\n",
       "      <th>title</th>\n",
       "      <th>price</th>\n",
       "      <th>sale_count</th>\n",
       "      <th>comment_count</th>\n",
       "      <th>店名</th>\n",
       "    </tr>\n",
       "  </thead>\n",
       "  <tbody>\n",
       "    <tr>\n",
       "      <td>0</td>\n",
       "      <td>2016/11/14</td>\n",
       "      <td>A18164178225</td>\n",
       "      <td>CHANDO/自然堂 雪域精粹纯粹滋润霜50g 补水保湿 滋润水润面霜</td>\n",
       "      <td>139.0</td>\n",
       "      <td>26719.0</td>\n",
       "      <td>2704.0</td>\n",
       "      <td>自然堂</td>\n",
       "    </tr>\n",
       "    <tr>\n",
       "      <td>1</td>\n",
       "      <td>2016/11/14</td>\n",
       "      <td>A18177105952</td>\n",
       "      <td>CHANDO/自然堂凝时鲜颜肌活乳液120ML 淡化细纹补水滋润专柜正品</td>\n",
       "      <td>194.0</td>\n",
       "      <td>8122.0</td>\n",
       "      <td>1492.0</td>\n",
       "      <td>自然堂</td>\n",
       "    </tr>\n",
       "  </tbody>\n",
       "</table>\n",
       "</div>"
      ],
      "text/plain": [
       "  update_time            id                                 title  price  \\\n",
       "0  2016/11/14  A18164178225   CHANDO/自然堂 雪域精粹纯粹滋润霜50g 补水保湿 滋润水润面霜  139.0   \n",
       "1  2016/11/14  A18177105952  CHANDO/自然堂凝时鲜颜肌活乳液120ML 淡化细纹补水滋润专柜正品  194.0   \n",
       "\n",
       "   sale_count  comment_count   店名  \n",
       "0     26719.0         2704.0  自然堂  \n",
       "1      8122.0         1492.0  自然堂  "
      ]
     },
     "execution_count": 147,
     "metadata": {},
     "output_type": "execute_result"
    }
   ],
   "source": [
    "import copy \n",
    "df2 = copy.deepcopy(data)\n",
    "df2.head(2)"
   ]
  },
  {
   "cell_type": "markdown",
   "metadata": {
    "id": "A4E3876DA1B24E05898C904992266FE6",
    "jupyter": {},
    "mdEditEnable": false,
    "slideshow": {
     "slide_type": "slide"
    },
    "tags": []
   },
   "source": [
    "## 缺失值处理"
   ]
  },
  {
   "cell_type": "code",
   "execution_count": 148,
   "metadata": {
    "ExecuteTime": {
     "end_time": "2020-03-12T08:12:54.361400Z",
     "start_time": "2020-03-12T08:12:54.344410Z"
    },
    "id": "80BC0E1924F1478489BE261D8E523C10",
    "jupyter": {},
    "scrolled": false,
    "slideshow": {
     "slide_type": "slide"
    },
    "tags": []
   },
   "outputs": [
    {
     "data": {
      "text/plain": [
       "update_time      False\n",
       "id               False\n",
       "title            False\n",
       "price            False\n",
       "sale_count        True\n",
       "comment_count     True\n",
       "店名               False\n",
       "dtype: bool"
      ]
     },
     "execution_count": 148,
     "metadata": {},
     "output_type": "execute_result"
    }
   ],
   "source": [
    "# 缺失值\n",
    "# 有两列数据存在缺失值：sale_count, comment_count\n",
    "\n",
    "data.isnull().any()"
   ]
  },
  {
   "cell_type": "code",
   "execution_count": 149,
   "metadata": {
    "ExecuteTime": {
     "end_time": "2020-03-12T08:12:55.207465Z",
     "start_time": "2020-03-12T08:12:55.177483Z"
    },
    "id": "3ABF624C38C94970906B1E2666B35F6D",
    "jupyter": {},
    "scrolled": false,
    "slideshow": {
     "slide_type": "slide"
    },
    "tags": []
   },
   "outputs": [
    {
     "data": {
      "text/html": [
       "<div>\n",
       "<style scoped>\n",
       "    .dataframe tbody tr th:only-of-type {\n",
       "        vertical-align: middle;\n",
       "    }\n",
       "\n",
       "    .dataframe tbody tr th {\n",
       "        vertical-align: top;\n",
       "    }\n",
       "\n",
       "    .dataframe thead th {\n",
       "        text-align: right;\n",
       "    }\n",
       "</style>\n",
       "<table border=\"1\" class=\"dataframe\">\n",
       "  <thead>\n",
       "    <tr style=\"text-align: right;\">\n",
       "      <th></th>\n",
       "      <th>price</th>\n",
       "      <th>sale_count</th>\n",
       "      <th>comment_count</th>\n",
       "    </tr>\n",
       "  </thead>\n",
       "  <tbody>\n",
       "    <tr>\n",
       "      <td>count</td>\n",
       "      <td>27512.000000</td>\n",
       "      <td>2.516200e+04</td>\n",
       "      <td>25162.000000</td>\n",
       "    </tr>\n",
       "    <tr>\n",
       "      <td>mean</td>\n",
       "      <td>363.423512</td>\n",
       "      <td>1.231605e+04</td>\n",
       "      <td>1121.741197</td>\n",
       "    </tr>\n",
       "    <tr>\n",
       "      <td>std</td>\n",
       "      <td>614.876153</td>\n",
       "      <td>5.241236e+04</td>\n",
       "      <td>5277.781581</td>\n",
       "    </tr>\n",
       "    <tr>\n",
       "      <td>min</td>\n",
       "      <td>1.000000</td>\n",
       "      <td>0.000000e+00</td>\n",
       "      <td>0.000000</td>\n",
       "    </tr>\n",
       "    <tr>\n",
       "      <td>25%</td>\n",
       "      <td>99.000000</td>\n",
       "      <td>2.780000e+02</td>\n",
       "      <td>21.000000</td>\n",
       "    </tr>\n",
       "    <tr>\n",
       "      <td>50%</td>\n",
       "      <td>205.000000</td>\n",
       "      <td>1.443000e+03</td>\n",
       "      <td>153.000000</td>\n",
       "    </tr>\n",
       "    <tr>\n",
       "      <td>75%</td>\n",
       "      <td>390.000000</td>\n",
       "      <td>6.353000e+03</td>\n",
       "      <td>669.000000</td>\n",
       "    </tr>\n",
       "    <tr>\n",
       "      <td>max</td>\n",
       "      <td>11100.000000</td>\n",
       "      <td>1.923160e+06</td>\n",
       "      <td>202930.000000</td>\n",
       "    </tr>\n",
       "  </tbody>\n",
       "</table>\n",
       "</div>"
      ],
      "text/plain": [
       "              price    sale_count  comment_count\n",
       "count  27512.000000  2.516200e+04   25162.000000\n",
       "mean     363.423512  1.231605e+04    1121.741197\n",
       "std      614.876153  5.241236e+04    5277.781581\n",
       "min        1.000000  0.000000e+00       0.000000\n",
       "25%       99.000000  2.780000e+02      21.000000\n",
       "50%      205.000000  1.443000e+03     153.000000\n",
       "75%      390.000000  6.353000e+03     669.000000\n",
       "max    11100.000000  1.923160e+06  202930.000000"
      ]
     },
     "execution_count": 149,
     "metadata": {},
     "output_type": "execute_result"
    }
   ],
   "source": [
    "data.describe()"
   ]
  },
  {
   "cell_type": "code",
   "execution_count": 150,
   "metadata": {
    "ExecuteTime": {
     "end_time": "2020-03-12T08:12:55.962367Z",
     "start_time": "2020-03-12T08:12:55.946379Z"
    },
    "id": "7E3D8BE9100748B0A939A48ACC32C7C9",
    "jupyter": {},
    "scrolled": true,
    "slideshow": {
     "slide_type": "slide"
    },
    "tags": []
   },
   "outputs": [
    {
     "data": {
      "text/html": [
       "<div>\n",
       "<style scoped>\n",
       "    .dataframe tbody tr th:only-of-type {\n",
       "        vertical-align: middle;\n",
       "    }\n",
       "\n",
       "    .dataframe tbody tr th {\n",
       "        vertical-align: top;\n",
       "    }\n",
       "\n",
       "    .dataframe thead th {\n",
       "        text-align: right;\n",
       "    }\n",
       "</style>\n",
       "<table border=\"1\" class=\"dataframe\">\n",
       "  <thead>\n",
       "    <tr style=\"text-align: right;\">\n",
       "      <th></th>\n",
       "      <th>update_time</th>\n",
       "      <th>id</th>\n",
       "      <th>title</th>\n",
       "      <th>price</th>\n",
       "      <th>sale_count</th>\n",
       "      <th>comment_count</th>\n",
       "      <th>店名</th>\n",
       "    </tr>\n",
       "  </thead>\n",
       "  <tbody>\n",
       "    <tr>\n",
       "      <td>0</td>\n",
       "      <td>2016/11/14</td>\n",
       "      <td>A18164178225</td>\n",
       "      <td>CHANDO/自然堂 雪域精粹纯粹滋润霜50g 补水保湿 滋润水润面霜</td>\n",
       "      <td>139.0</td>\n",
       "      <td>26719.0</td>\n",
       "      <td>2704.0</td>\n",
       "      <td>自然堂</td>\n",
       "    </tr>\n",
       "    <tr>\n",
       "      <td>1</td>\n",
       "      <td>2016/11/14</td>\n",
       "      <td>A18177105952</td>\n",
       "      <td>CHANDO/自然堂凝时鲜颜肌活乳液120ML 淡化细纹补水滋润专柜正品</td>\n",
       "      <td>194.0</td>\n",
       "      <td>8122.0</td>\n",
       "      <td>1492.0</td>\n",
       "      <td>自然堂</td>\n",
       "    </tr>\n",
       "  </tbody>\n",
       "</table>\n",
       "</div>"
      ],
      "text/plain": [
       "  update_time            id                                 title  price  \\\n",
       "0  2016/11/14  A18164178225   CHANDO/自然堂 雪域精粹纯粹滋润霜50g 补水保湿 滋润水润面霜  139.0   \n",
       "1  2016/11/14  A18177105952  CHANDO/自然堂凝时鲜颜肌活乳液120ML 淡化细纹补水滋润专柜正品  194.0   \n",
       "\n",
       "   sale_count  comment_count   店名  \n",
       "0     26719.0         2704.0  自然堂  \n",
       "1      8122.0         1492.0  自然堂  "
      ]
     },
     "execution_count": 150,
     "metadata": {},
     "output_type": "execute_result"
    }
   ],
   "source": [
    "data.head(2)"
   ]
  },
  {
   "cell_type": "code",
   "execution_count": 151,
   "metadata": {
    "ExecuteTime": {
     "end_time": "2020-03-12T08:12:56.889670Z",
     "start_time": "2020-03-12T08:12:56.864688Z"
    },
    "id": "C7246CBB60824E5A8E3A853BE60DD05F",
    "jupyter": {},
    "scrolled": false,
    "slideshow": {
     "slide_type": "slide"
    },
    "tags": []
   },
   "outputs": [
    {
     "data": {
      "text/html": [
       "<div>\n",
       "<style scoped>\n",
       "    .dataframe tbody tr th:only-of-type {\n",
       "        vertical-align: middle;\n",
       "    }\n",
       "\n",
       "    .dataframe tbody tr th {\n",
       "        vertical-align: top;\n",
       "    }\n",
       "\n",
       "    .dataframe thead th {\n",
       "        text-align: right;\n",
       "    }\n",
       "</style>\n",
       "<table border=\"1\" class=\"dataframe\">\n",
       "  <thead>\n",
       "    <tr style=\"text-align: right;\">\n",
       "      <th></th>\n",
       "      <th>sale_count</th>\n",
       "    </tr>\n",
       "  </thead>\n",
       "  <tbody>\n",
       "    <tr>\n",
       "      <td>count</td>\n",
       "      <td>2.516200e+04</td>\n",
       "    </tr>\n",
       "    <tr>\n",
       "      <td>mean</td>\n",
       "      <td>1.231605e+04</td>\n",
       "    </tr>\n",
       "    <tr>\n",
       "      <td>std</td>\n",
       "      <td>5.241236e+04</td>\n",
       "    </tr>\n",
       "    <tr>\n",
       "      <td>min</td>\n",
       "      <td>0.000000e+00</td>\n",
       "    </tr>\n",
       "    <tr>\n",
       "      <td>25%</td>\n",
       "      <td>2.780000e+02</td>\n",
       "    </tr>\n",
       "    <tr>\n",
       "      <td>50%</td>\n",
       "      <td>1.443000e+03</td>\n",
       "    </tr>\n",
       "    <tr>\n",
       "      <td>75%</td>\n",
       "      <td>6.353000e+03</td>\n",
       "    </tr>\n",
       "    <tr>\n",
       "      <td>max</td>\n",
       "      <td>1.923160e+06</td>\n",
       "    </tr>\n",
       "  </tbody>\n",
       "</table>\n",
       "</div>"
      ],
      "text/plain": [
       "         sale_count\n",
       "count  2.516200e+04\n",
       "mean   1.231605e+04\n",
       "std    5.241236e+04\n",
       "min    0.000000e+00\n",
       "25%    2.780000e+02\n",
       "50%    1.443000e+03\n",
       "75%    6.353000e+03\n",
       "max    1.923160e+06"
      ]
     },
     "execution_count": 151,
     "metadata": {},
     "output_type": "execute_result"
    }
   ],
   "source": [
    "pd.DataFrame(data.sale_count).describe()"
   ]
  },
  {
   "cell_type": "code",
   "execution_count": 152,
   "metadata": {
    "ExecuteTime": {
     "end_time": "2020-03-12T08:12:59.981663Z",
     "start_time": "2020-03-12T08:12:59.967673Z"
    },
    "id": "3593A0D51A354807A6FF41099FFCB37A",
    "jupyter": {},
    "scrolled": false,
    "slideshow": {
     "slide_type": "slide"
    },
    "tags": []
   },
   "outputs": [
    {
     "data": {
      "text/plain": [
       "(1923160.0, 12316.054208727446, 0.0, 0    0.0\n",
       " dtype: float64)"
      ]
     },
     "execution_count": 152,
     "metadata": {},
     "output_type": "execute_result"
    }
   ],
   "source": [
    "data.sale_count.max(),data.sale_count.mean(),data.sale_count.min(),data.sale_count.mode()"
   ]
  },
  {
   "cell_type": "code",
   "execution_count": 153,
   "metadata": {
    "ExecuteTime": {
     "end_time": "2020-03-12T08:13:00.522368Z",
     "start_time": "2020-03-12T08:13:00.512376Z"
    },
    "id": "22F6CBE61EF84D6CB3CA7FC4D2360240",
    "jupyter": {},
    "slideshow": {
     "slide_type": "slide"
    },
    "tags": []
   },
   "outputs": [
    {
     "data": {
      "text/plain": [
       "0    0.0\n",
       "dtype: float64"
      ]
     },
     "execution_count": 153,
     "metadata": {},
     "output_type": "execute_result"
    }
   ],
   "source": [
    "# sale_count列的众数\n",
    "\n",
    "sale_count_mode = data.sale_count.mode()\n",
    "sale_count_mode"
   ]
  },
  {
   "cell_type": "code",
   "execution_count": 154,
   "metadata": {
    "ExecuteTime": {
     "end_time": "2020-03-12T08:13:01.107128Z",
     "start_time": "2020-03-12T08:13:01.096136Z"
    },
    "id": "71E390FDA6C8483D9DB2B1FCE6E611A6",
    "jupyter": {},
    "scrolled": false,
    "slideshow": {
     "slide_type": "slide"
    },
    "tags": []
   },
   "outputs": [
    {
     "data": {
      "text/plain": [
       "0    0.0\n",
       "dtype: float64"
      ]
     },
     "execution_count": 154,
     "metadata": {},
     "output_type": "execute_result"
    }
   ],
   "source": [
    "# comment_count列的众数\n",
    "comment_count_mode = data.comment_count.mode()\n",
    "comment_count_mode"
   ]
  },
  {
   "cell_type": "code",
   "execution_count": 155,
   "metadata": {
    "ExecuteTime": {
     "end_time": "2020-03-12T08:13:03.411334Z",
     "start_time": "2020-03-12T08:13:03.376354Z"
    },
    "id": "FEED5639C78943D2841BDED6D2E2D05A",
    "jupyter": {},
    "scrolled": false,
    "slideshow": {
     "slide_type": "slide"
    },
    "tags": []
   },
   "outputs": [
    {
     "data": {
      "text/plain": [
       "update_time      0\n",
       "id               0\n",
       "title            0\n",
       "price            0\n",
       "sale_count       0\n",
       "comment_count    0\n",
       "店名               0\n",
       "dtype: int64"
      ]
     },
     "execution_count": 155,
     "metadata": {},
     "output_type": "execute_result"
    }
   ],
   "source": [
    "# 使用0来填充缺失值\n",
    "\n",
    "data = data.fillna(0)\n",
    "\n",
    "data.isnull().sum()"
   ]
  },
  {
   "cell_type": "code",
   "execution_count": 156,
   "metadata": {
    "ExecuteTime": {
     "end_time": "2020-03-12T08:13:12.126102Z",
     "start_time": "2020-03-12T08:13:12.104118Z"
    }
   },
   "outputs": [
    {
     "data": {
      "text/html": [
       "<div>\n",
       "<style scoped>\n",
       "    .dataframe tbody tr th:only-of-type {\n",
       "        vertical-align: middle;\n",
       "    }\n",
       "\n",
       "    .dataframe tbody tr th {\n",
       "        vertical-align: top;\n",
       "    }\n",
       "\n",
       "    .dataframe thead th {\n",
       "        text-align: right;\n",
       "    }\n",
       "</style>\n",
       "<table border=\"1\" class=\"dataframe\">\n",
       "  <thead>\n",
       "    <tr style=\"text-align: right;\">\n",
       "      <th></th>\n",
       "      <th>update_time</th>\n",
       "      <th>id</th>\n",
       "      <th>title</th>\n",
       "      <th>price</th>\n",
       "      <th>sale_count</th>\n",
       "      <th>comment_count</th>\n",
       "      <th>店名</th>\n",
       "    </tr>\n",
       "  </thead>\n",
       "  <tbody>\n",
       "    <tr>\n",
       "      <td>0</td>\n",
       "      <td>2016/11/14</td>\n",
       "      <td>A18164178225</td>\n",
       "      <td>CHANDO/自然堂 雪域精粹纯粹滋润霜50g 补水保湿 滋润水润面霜</td>\n",
       "      <td>139.0</td>\n",
       "      <td>26719.0</td>\n",
       "      <td>2704.0</td>\n",
       "      <td>自然堂</td>\n",
       "    </tr>\n",
       "    <tr>\n",
       "      <td>1</td>\n",
       "      <td>2016/11/14</td>\n",
       "      <td>A18177105952</td>\n",
       "      <td>CHANDO/自然堂凝时鲜颜肌活乳液120ML 淡化细纹补水滋润专柜正品</td>\n",
       "      <td>194.0</td>\n",
       "      <td>8122.0</td>\n",
       "      <td>1492.0</td>\n",
       "      <td>自然堂</td>\n",
       "    </tr>\n",
       "  </tbody>\n",
       "</table>\n",
       "</div>"
      ],
      "text/plain": [
       "  update_time            id                                 title  price  \\\n",
       "0  2016/11/14  A18164178225   CHANDO/自然堂 雪域精粹纯粹滋润霜50g 补水保湿 滋润水润面霜  139.0   \n",
       "1  2016/11/14  A18177105952  CHANDO/自然堂凝时鲜颜肌活乳液120ML 淡化细纹补水滋润专柜正品  194.0   \n",
       "\n",
       "   sale_count  comment_count   店名  \n",
       "0     26719.0         2704.0  自然堂  \n",
       "1      8122.0         1492.0  自然堂  "
      ]
     },
     "execution_count": 156,
     "metadata": {},
     "output_type": "execute_result"
    }
   ],
   "source": [
    "import copy \n",
    "df3 = copy.deepcopy(data)\n",
    "df3.head(2)"
   ]
  },
  {
   "cell_type": "markdown",
   "metadata": {
    "id": "82CC25A9D30F49CAA5A56D2CFE72174D",
    "jupyter": {},
    "slideshow": {
     "slide_type": "slide"
    },
    "tags": []
   },
   "source": [
    "# 特征构造"
   ]
  },
  {
   "cell_type": "markdown",
   "metadata": {
    "id": "6141A2883D294672845DA2A121B4F153",
    "jupyter": {},
    "mdEditEnable": false,
    "slideshow": {
     "slide_type": "slide"
    },
    "tags": []
   },
   "source": [
    "## 商品标题jieba分词\n",
    "\n",
    "https://github.com/morningx/files/blob/master/Python/jieba-lcut-%E7%B2%BE%E7%A1%AE%E6%A8%A1%E5%BC%8F-%E6%AF%8F%E4%B8%AA%E8%AF%8D%E6%B1%87%E5%94%AF%E4%B8%80-cutall-%E5%85%A8%E6%A8%A1%E5%BC%8F-%E5%AD%98%E5%9C%A8%E9%87%8D%E5%A4%8D%E5%AD%97.png"
   ]
  },
  {
   "cell_type": "markdown",
   "metadata": {
    "id": "82AEDB5351A847F583F8E71338BD0DFD",
    "jupyter": {},
    "mdEditEnable": false,
    "slideshow": {
     "slide_type": "slide"
    },
    "tags": []
   },
   "source": [
    "\n",
    "![Image Name](https://cdn.kesci.com/upload/image/q71i5yl3e2.png?imageView2/0/w/960/h/960)\n"
   ]
  },
  {
   "cell_type": "code",
   "execution_count": 157,
   "metadata": {
    "ExecuteTime": {
     "end_time": "2020-03-12T08:13:23.445262Z",
     "start_time": "2020-03-12T08:13:23.440267Z"
    },
    "id": "37F37715E4AC4E9F8BC2941CD2C91F64",
    "jupyter": {},
    "scrolled": false,
    "slideshow": {
     "slide_type": "slide"
    },
    "tags": []
   },
   "outputs": [],
   "source": [
    "import jieba"
   ]
  },
  {
   "cell_type": "code",
   "execution_count": 158,
   "metadata": {
    "ExecuteTime": {
     "end_time": "2020-03-12T08:13:24.035044Z",
     "start_time": "2020-03-12T08:13:24.016057Z"
    },
    "id": "DB1CF91364BB424CBC6022B0CA003D2B",
    "jupyter": {},
    "scrolled": false,
    "slideshow": {
     "slide_type": "slide"
    },
    "tags": []
   },
   "outputs": [
    {
     "data": {
      "text/html": [
       "<div>\n",
       "<style scoped>\n",
       "    .dataframe tbody tr th:only-of-type {\n",
       "        vertical-align: middle;\n",
       "    }\n",
       "\n",
       "    .dataframe tbody tr th {\n",
       "        vertical-align: top;\n",
       "    }\n",
       "\n",
       "    .dataframe thead th {\n",
       "        text-align: right;\n",
       "    }\n",
       "</style>\n",
       "<table border=\"1\" class=\"dataframe\">\n",
       "  <thead>\n",
       "    <tr style=\"text-align: right;\">\n",
       "      <th></th>\n",
       "      <th>update_time</th>\n",
       "      <th>id</th>\n",
       "      <th>title</th>\n",
       "      <th>price</th>\n",
       "      <th>sale_count</th>\n",
       "      <th>comment_count</th>\n",
       "      <th>店名</th>\n",
       "    </tr>\n",
       "  </thead>\n",
       "  <tbody>\n",
       "    <tr>\n",
       "      <td>0</td>\n",
       "      <td>2016/11/14</td>\n",
       "      <td>A18164178225</td>\n",
       "      <td>CHANDO/自然堂 雪域精粹纯粹滋润霜50g 补水保湿 滋润水润面霜</td>\n",
       "      <td>139.0</td>\n",
       "      <td>26719.0</td>\n",
       "      <td>2704.0</td>\n",
       "      <td>自然堂</td>\n",
       "    </tr>\n",
       "    <tr>\n",
       "      <td>1</td>\n",
       "      <td>2016/11/14</td>\n",
       "      <td>A18177105952</td>\n",
       "      <td>CHANDO/自然堂凝时鲜颜肌活乳液120ML 淡化细纹补水滋润专柜正品</td>\n",
       "      <td>194.0</td>\n",
       "      <td>8122.0</td>\n",
       "      <td>1492.0</td>\n",
       "      <td>自然堂</td>\n",
       "    </tr>\n",
       "  </tbody>\n",
       "</table>\n",
       "</div>"
      ],
      "text/plain": [
       "  update_time            id                                 title  price  \\\n",
       "0  2016/11/14  A18164178225   CHANDO/自然堂 雪域精粹纯粹滋润霜50g 补水保湿 滋润水润面霜  139.0   \n",
       "1  2016/11/14  A18177105952  CHANDO/自然堂凝时鲜颜肌活乳液120ML 淡化细纹补水滋润专柜正品  194.0   \n",
       "\n",
       "   sale_count  comment_count   店名  \n",
       "0     26719.0         2704.0  自然堂  \n",
       "1      8122.0         1492.0  自然堂  "
      ]
     },
     "execution_count": 158,
     "metadata": {},
     "output_type": "execute_result"
    }
   ],
   "source": [
    "data.head(2)"
   ]
  },
  {
   "cell_type": "code",
   "execution_count": 159,
   "metadata": {
    "ExecuteTime": {
     "end_time": "2020-03-12T08:13:37.083022Z",
     "start_time": "2020-03-12T08:13:30.304329Z"
    },
    "id": "30450C4894504520B2B1AC8584555354",
    "jupyter": {},
    "scrolled": true,
    "slideshow": {
     "slide_type": "slide"
    },
    "tags": []
   },
   "outputs": [],
   "source": [
    "# lcut方式进行精准分解词汇 不存在重复\n",
    "\n",
    "title_cut = []\n",
    "\n",
    "for i in data.title:\n",
    "    j = jieba.lcut(i)\n",
    "    title_cut.append(j)\n",
    "\n",
    "# print(title_cut)"
   ]
  },
  {
   "cell_type": "code",
   "execution_count": 162,
   "metadata": {
    "ExecuteTime": {
     "end_time": "2020-03-12T08:13:42.944311Z",
     "start_time": "2020-03-12T08:13:42.939312Z"
    }
   },
   "outputs": [],
   "source": [
    "# list(title_cut)\n",
    "\n",
    "# [['CHANDO', '/', '自然', '堂', ' ', '雪域', '精粹', '纯粹', '滋润霜', '50g',"
   ]
  },
  {
   "cell_type": "code",
   "execution_count": 161,
   "metadata": {
    "ExecuteTime": {
     "end_time": "2020-03-12T08:13:40.059726Z",
     "start_time": "2020-03-12T08:13:37.466378Z"
    },
    "id": "0F53805B815445DC8A4D6E5AA326BD35",
    "jupyter": {},
    "scrolled": false,
    "slideshow": {
     "slide_type": "slide"
    },
    "tags": []
   },
   "outputs": [
    {
     "name": "stdout",
     "output_type": "stream",
     "text": [
      "['CHANDO', '', '自然', '堂', '', '', '雪域', '精粹', '纯粹', '滋润', '滋润霜', '50g', '', '补水', '保湿', '', '', '滋润', '水', '润', '面霜']\n"
     ]
    }
   ],
   "source": [
    "# 全模式cut_all True,可以分词出有重复的文字存在\n",
    "\n",
    "title_cut_all = []\n",
    "\n",
    "for i in data.title:\n",
    "    j = jieba.lcut(i,cut_all=True)\n",
    "    title_cut_all.append(j)\n",
    "\n",
    "print(title_cut_all[0])"
   ]
  },
  {
   "cell_type": "code",
   "execution_count": 163,
   "metadata": {
    "ExecuteTime": {
     "end_time": "2020-03-12T08:13:51.027014Z",
     "start_time": "2020-03-12T08:13:51.016023Z"
    },
    "id": "A1C596F3EDA6493C89CFCAF40E1E1632",
    "jupyter": {},
    "scrolled": false,
    "slideshow": {
     "slide_type": "slide"
    },
    "tags": []
   },
   "outputs": [
    {
     "name": "stdout",
     "output_type": "stream",
     "text": [
      "['CHANDO', '/', '自然', '堂', ' ', '雪域', '精粹', '纯粹', '滋润霜', '50g', ' ', '补水', '保湿', ' ', '滋润', '水润', '面霜']\n",
      "['CHANDO', '', '自然', '堂', '', '', '雪域', '精粹', '纯粹', '滋润', '滋润霜', '50g', '', '补水', '保湿', '', '', '滋润', '水', '润', '面霜']\n"
     ]
    },
    {
     "data": {
      "text/plain": [
       "'CHANDO/自然堂 雪域精粹纯粹滋润霜50g 补水保湿 滋润水润面霜'"
      ]
     },
     "execution_count": 163,
     "metadata": {},
     "output_type": "execute_result"
    }
   ],
   "source": [
    "print(title_cut[0])\n",
    "print(title_cut_all[0])\n",
    "data['title'][0]"
   ]
  },
  {
   "cell_type": "code",
   "execution_count": 164,
   "metadata": {
    "ExecuteTime": {
     "end_time": "2020-03-12T08:13:54.857945Z",
     "start_time": "2020-03-12T08:13:54.831962Z"
    },
    "id": "AB0FBD79AA734909BC2FE74771377AF6",
    "jupyter": {},
    "scrolled": false,
    "slideshow": {
     "slide_type": "slide"
    },
    "tags": []
   },
   "outputs": [],
   "source": [
    "data['item_name_cut'] = title_cut"
   ]
  },
  {
   "cell_type": "code",
   "execution_count": 165,
   "metadata": {
    "ExecuteTime": {
     "end_time": "2020-03-12T08:13:58.749936Z",
     "start_time": "2020-03-12T08:13:58.728950Z"
    },
    "id": "F3A40C04AA9047818643BB66107704AB",
    "jupyter": {},
    "scrolled": true,
    "slideshow": {
     "slide_type": "slide"
    },
    "tags": []
   },
   "outputs": [
    {
     "data": {
      "text/html": [
       "<div>\n",
       "<style scoped>\n",
       "    .dataframe tbody tr th:only-of-type {\n",
       "        vertical-align: middle;\n",
       "    }\n",
       "\n",
       "    .dataframe tbody tr th {\n",
       "        vertical-align: top;\n",
       "    }\n",
       "\n",
       "    .dataframe thead th {\n",
       "        text-align: right;\n",
       "    }\n",
       "</style>\n",
       "<table border=\"1\" class=\"dataframe\">\n",
       "  <thead>\n",
       "    <tr style=\"text-align: right;\">\n",
       "      <th></th>\n",
       "      <th>title</th>\n",
       "      <th>item_name_cut</th>\n",
       "    </tr>\n",
       "  </thead>\n",
       "  <tbody>\n",
       "    <tr>\n",
       "      <td>0</td>\n",
       "      <td>CHANDO/自然堂 雪域精粹纯粹滋润霜50g 补水保湿 滋润水润面霜</td>\n",
       "      <td>[CHANDO, /, 自然, 堂,  , 雪域, 精粹, 纯粹, 滋润霜, 50g,  ,...</td>\n",
       "    </tr>\n",
       "    <tr>\n",
       "      <td>1</td>\n",
       "      <td>CHANDO/自然堂凝时鲜颜肌活乳液120ML 淡化细纹补水滋润专柜正品</td>\n",
       "      <td>[CHANDO, /, 自然, 堂, 凝, 时鲜, 颜肌活, 乳液, 120ML,  , 淡...</td>\n",
       "    </tr>\n",
       "  </tbody>\n",
       "</table>\n",
       "</div>"
      ],
      "text/plain": [
       "                                  title  \\\n",
       "0   CHANDO/自然堂 雪域精粹纯粹滋润霜50g 补水保湿 滋润水润面霜   \n",
       "1  CHANDO/自然堂凝时鲜颜肌活乳液120ML 淡化细纹补水滋润专柜正品   \n",
       "\n",
       "                                       item_name_cut  \n",
       "0  [CHANDO, /, 自然, 堂,  , 雪域, 精粹, 纯粹, 滋润霜, 50g,  ,...  \n",
       "1  [CHANDO, /, 自然, 堂, 凝, 时鲜, 颜肌活, 乳液, 120ML,  , 淡...  "
      ]
     },
     "execution_count": 165,
     "metadata": {},
     "output_type": "execute_result"
    }
   ],
   "source": [
    "data[['title','item_name_cut']].head(2)"
   ]
  },
  {
   "cell_type": "code",
   "execution_count": 166,
   "metadata": {
    "ExecuteTime": {
     "end_time": "2020-03-12T08:14:04.168813Z",
     "start_time": "2020-03-12T08:14:04.144828Z"
    }
   },
   "outputs": [
    {
     "data": {
      "text/html": [
       "<div>\n",
       "<style scoped>\n",
       "    .dataframe tbody tr th:only-of-type {\n",
       "        vertical-align: middle;\n",
       "    }\n",
       "\n",
       "    .dataframe tbody tr th {\n",
       "        vertical-align: top;\n",
       "    }\n",
       "\n",
       "    .dataframe thead th {\n",
       "        text-align: right;\n",
       "    }\n",
       "</style>\n",
       "<table border=\"1\" class=\"dataframe\">\n",
       "  <thead>\n",
       "    <tr style=\"text-align: right;\">\n",
       "      <th></th>\n",
       "      <th>update_time</th>\n",
       "      <th>id</th>\n",
       "      <th>title</th>\n",
       "      <th>price</th>\n",
       "      <th>sale_count</th>\n",
       "      <th>comment_count</th>\n",
       "      <th>店名</th>\n",
       "      <th>item_name_cut</th>\n",
       "    </tr>\n",
       "  </thead>\n",
       "  <tbody>\n",
       "    <tr>\n",
       "      <td>0</td>\n",
       "      <td>2016/11/14</td>\n",
       "      <td>A18164178225</td>\n",
       "      <td>CHANDO/自然堂 雪域精粹纯粹滋润霜50g 补水保湿 滋润水润面霜</td>\n",
       "      <td>139.0</td>\n",
       "      <td>26719.0</td>\n",
       "      <td>2704.0</td>\n",
       "      <td>自然堂</td>\n",
       "      <td>[CHANDO, /, 自然, 堂,  , 雪域, 精粹, 纯粹, 滋润霜, 50g,  ,...</td>\n",
       "    </tr>\n",
       "    <tr>\n",
       "      <td>1</td>\n",
       "      <td>2016/11/14</td>\n",
       "      <td>A18177105952</td>\n",
       "      <td>CHANDO/自然堂凝时鲜颜肌活乳液120ML 淡化细纹补水滋润专柜正品</td>\n",
       "      <td>194.0</td>\n",
       "      <td>8122.0</td>\n",
       "      <td>1492.0</td>\n",
       "      <td>自然堂</td>\n",
       "      <td>[CHANDO, /, 自然, 堂, 凝, 时鲜, 颜肌活, 乳液, 120ML,  , 淡...</td>\n",
       "    </tr>\n",
       "  </tbody>\n",
       "</table>\n",
       "</div>"
      ],
      "text/plain": [
       "  update_time            id                                 title  price  \\\n",
       "0  2016/11/14  A18164178225   CHANDO/自然堂 雪域精粹纯粹滋润霜50g 补水保湿 滋润水润面霜  139.0   \n",
       "1  2016/11/14  A18177105952  CHANDO/自然堂凝时鲜颜肌活乳液120ML 淡化细纹补水滋润专柜正品  194.0   \n",
       "\n",
       "   sale_count  comment_count   店名  \\\n",
       "0     26719.0         2704.0  自然堂   \n",
       "1      8122.0         1492.0  自然堂   \n",
       "\n",
       "                                       item_name_cut  \n",
       "0  [CHANDO, /, 自然, 堂,  , 雪域, 精粹, 纯粹, 滋润霜, 50g,  ,...  \n",
       "1  [CHANDO, /, 自然, 堂, 凝, 时鲜, 颜肌活, 乳液, 120ML,  , 淡...  "
      ]
     },
     "execution_count": 166,
     "metadata": {},
     "output_type": "execute_result"
    }
   ],
   "source": [
    "import copy \n",
    "df4 = copy.deepcopy(data)\n",
    "df4.head(2)"
   ]
  },
  {
   "cell_type": "markdown",
   "metadata": {},
   "source": [
    "## 初始化商品对应的一二级分类数据"
   ]
  },
  {
   "cell_type": "code",
   "execution_count": 167,
   "metadata": {
    "ExecuteTime": {
     "end_time": "2020-03-12T08:14:22.764846Z",
     "start_time": "2020-03-12T08:14:22.759853Z"
    },
    "id": "074E8062BA7F42D6988F0B3853807A83",
    "jupyter": {},
    "scrolled": false,
    "slideshow": {
     "slide_type": "slide"
    },
    "tags": []
   },
   "outputs": [],
   "source": [
    "# 给商品添加分类\n",
    "sub_type = []   \n",
    "# 子类别\n",
    "main_type = []  \n",
    "# 主类别\n",
    "\n",
    "basic_config_data = \"\"\"护肤品 套装 套装\n",
    "护肤品 乳液类 乳液 美白乳 润肤乳 凝乳 柔肤液 亮肤乳 菁华乳 修护乳\n",
    "护肤品 眼部护理 眼霜 眼部精华 眼膜\n",
    "护肤品 面膜类 面膜\n",
    "护肤品 清洁类 洗面 洁面 清洁 卸妆 洁颜 洗颜 去角质 磨砂\n",
    "护肤品 化妆水 化妆水 爽肤水 柔肤水 补水露 凝露 柔肤液 精粹水 亮肤水 润肤水 保湿水 菁华水 保湿喷雾 舒缓喷雾\n",
    "护肤品 面霜类 面霜 日霜 晚霜 柔肤霜 滋润霜 保湿霜 凝霜 日间霜 晚间霜 乳霜 修护霜 亮肤霜 底霜 菁华霜\n",
    "护肤品 精华类 精华液 精华水 精华露 精华素\n",
    "护肤品 防晒类 防晒霜 防晒喷雾\n",
    "化妆品 口红类 唇釉 口红 唇彩\n",
    "化妆品 底妆类 散粉 蜜粉 粉底液 定妆粉 气垫 粉饼 BB CC 遮瑕 粉霜 粉底膏 粉底霜\n",
    "化妆品 眼部彩妆 眉粉 染眉膏 眼线 眼影 睫毛膏\n",
    "化妆品 修容类 鼻影 修容粉 高光 腮红\n",
    "其他 其他 其他\"\"\""
   ]
  },
  {
   "cell_type": "code",
   "execution_count": 168,
   "metadata": {
    "ExecuteTime": {
     "end_time": "2020-03-12T08:14:24.998454Z",
     "start_time": "2020-03-12T08:14:24.990461Z"
    }
   },
   "outputs": [
    {
     "data": {
      "text/plain": [
       "['护肤品 套装 套装',\n",
       " '护肤品 乳液类 乳液 美白乳 润肤乳 凝乳 柔肤液 亮肤乳 菁华乳 修护乳',\n",
       " '护肤品 眼部护理 眼霜 眼部精华 眼膜',\n",
       " '护肤品 面膜类 面膜',\n",
       " '护肤品 清洁类 洗面 洁面 清洁 卸妆 洁颜 洗颜 去角质 磨砂',\n",
       " '护肤品 化妆水 化妆水 爽肤水 柔肤水 补水露 凝露 柔肤液 精粹水 亮肤水 润肤水 保湿水 菁华水 保湿喷雾 舒缓喷雾',\n",
       " '护肤品 面霜类 面霜 日霜 晚霜 柔肤霜 滋润霜 保湿霜 凝霜 日间霜 晚间霜 乳霜 修护霜 亮肤霜 底霜 菁华霜',\n",
       " '护肤品 精华类 精华液 精华水 精华露 精华素',\n",
       " '护肤品 防晒类 防晒霜 防晒喷雾',\n",
       " '化妆品 口红类 唇釉 口红 唇彩',\n",
       " '化妆品 底妆类 散粉 蜜粉 粉底液 定妆粉 气垫 粉饼 BB CC 遮瑕 粉霜 粉底膏 粉底霜',\n",
       " '化妆品 眼部彩妆 眉粉 染眉膏 眼线 眼影 睫毛膏',\n",
       " '化妆品 修容类 鼻影 修容粉 高光 腮红',\n",
       " '其他 其他 其他']"
      ]
     },
     "execution_count": 168,
     "metadata": {},
     "output_type": "execute_result"
    }
   ],
   "source": [
    "basic_config_data.split('\\n')\n",
    "# split每一行进行拆分"
   ]
  },
  {
   "cell_type": "code",
   "execution_count": 169,
   "metadata": {
    "ExecuteTime": {
     "end_time": "2020-03-12T08:14:27.340547Z",
     "start_time": "2020-03-12T08:14:27.326556Z"
    },
    "scrolled": false
   },
   "outputs": [
    {
     "name": "stdout",
     "output_type": "stream",
     "text": [
      "0\n",
      "其他\n",
      "1\n",
      "其他\n",
      "2\n",
      "其他\n"
     ]
    },
    {
     "data": {
      "text/plain": [
       "('其他', '其他', '其他')"
      ]
     },
     "execution_count": 169,
     "metadata": {},
     "output_type": "execute_result"
    }
   ],
   "source": [
    "# 每一行的数据空格分割后，得到单个词汇后存储到数组array\n",
    "\n",
    "array = []\n",
    "\n",
    "for i in range(len(config_line.split(' '))):\n",
    "    print(i)\n",
    "    print(config_line.split(' ')[i])    \n",
    "    array.append(config_line.split(' ')[i])\n",
    "\n",
    "array[0],array[1],array[2]"
   ]
  },
  {
   "cell_type": "markdown",
   "metadata": {},
   "source": [
    "## 商品名称配对一级二级目录"
   ]
  },
  {
   "cell_type": "code",
   "execution_count": 170,
   "metadata": {
    "ExecuteTime": {
     "end_time": "2020-03-12T08:14:44.172873Z",
     "start_time": "2020-03-12T08:14:44.158885Z"
    }
   },
   "outputs": [],
   "source": [
    "# 获取每个商品名称对应的一级品类 二级品类，存储到字典\n",
    "category_config_map = {}\n",
    "\n",
    "# 遍历分好类的样本分类进行拆分\n",
    "for config_line in basic_config_data.split('\\n'):\n",
    "    \n",
    "    # 每次拆分均初始化数组\n",
    "    array = []\n",
    "    \n",
    "    # 对每行数据进行空格分割\n",
    "    for i in range(len(config_line.split(' '))):\n",
    "        \n",
    "        # 多个分割结果存append到数组内\n",
    "        array.append(config_line.split(' ')[i])\n",
    "    \n",
    "    # 全部的array则为每行数据\n",
    "    basic_cateogry_list = array\n",
    "    # print('basic_cateogry_list:',basic_cateogry_list)\n",
    "    \n",
    "    # 每行数据的第一个list表值为一级品类\n",
    "    main_category = array[0]\n",
    "    # print('main_category:',main_category)\n",
    "    \n",
    "    # 每行数据的第二个list表值为二级品类\n",
    "    sub_category = array[1]\n",
    "    # print('sub_category:',sub_category)\n",
    "    \n",
    "    # 每行数据多余的商品名称作为其余商品名称\n",
    "    unit_category_list = array[2:-1]\n",
    "    # print('unit_category_list:',unit_category_list)\n",
    "    \n",
    "    for unit_category in unit_category_list:\n",
    "        # 每个商品名称通过空格进行拆分\n",
    "        if unit_category and unit_category.strip().strip('\\t'):\n",
    "            \n",
    "            category_config_map[unit_category] = (main_category,sub_category)\n",
    "            # 翻转过来，对于 一级品类 二级品牌 后面的每个商品名称对于12级目录\n",
    "            # 商品为字典的键，一级二级品类为字典的值\n",
    "            \n",
    "    # print('category_config_map',category_config_map)\n",
    "\n",
    "# basic_cateogry_list: ['护肤品', '乳液类', '乳液', '美白乳', '润肤乳', '凝乳', '柔肤液', '亮肤乳', '菁华乳', '修护乳']\n",
    "# main_category: 护肤品\n",
    "# sub_category: 乳液类\n",
    "# unit_category_list: ['乳液', '美白乳', '润肤乳', '凝乳', '柔肤液', '亮肤乳', '菁华乳']\n",
    "# category_config_map {'乳液': ('护肤品', '乳液类'), '美白乳': ('护肤品', '乳液类'), '润肤乳': ('护肤品', '乳液类'), '凝乳': ('护肤品', '乳液类'), '柔肤液': ('护肤品', '乳液类'), '亮肤乳': ('护肤品', '乳液类'), '菁华乳': ('护肤品', '乳液类')}"
   ]
  },
  {
   "cell_type": "code",
   "execution_count": 171,
   "metadata": {
    "ExecuteTime": {
     "end_time": "2020-03-12T08:14:46.619306Z",
     "start_time": "2020-03-12T08:14:46.606313Z"
    }
   },
   "outputs": [
    {
     "data": {
      "text/plain": [
       "{'乳液': ('护肤品', '乳液类'),\n",
       " '美白乳': ('护肤品', '乳液类'),\n",
       " '润肤乳': ('护肤品', '乳液类'),\n",
       " '凝乳': ('护肤品', '乳液类'),\n",
       " '柔肤液': ('护肤品', '化妆水'),\n",
       " '亮肤乳': ('护肤品', '乳液类'),\n",
       " '菁华乳': ('护肤品', '乳液类'),\n",
       " '眼霜': ('护肤品', '眼部护理'),\n",
       " '眼部精华': ('护肤品', '眼部护理'),\n",
       " '洗面': ('护肤品', '清洁类'),\n",
       " '洁面': ('护肤品', '清洁类'),\n",
       " '清洁': ('护肤品', '清洁类'),\n",
       " '卸妆': ('护肤品', '清洁类'),\n",
       " '洁颜': ('护肤品', '清洁类'),\n",
       " '洗颜': ('护肤品', '清洁类'),\n",
       " '去角质': ('护肤品', '清洁类'),\n",
       " '化妆水': ('护肤品', '化妆水'),\n",
       " '爽肤水': ('护肤品', '化妆水'),\n",
       " '柔肤水': ('护肤品', '化妆水'),\n",
       " '补水露': ('护肤品', '化妆水'),\n",
       " '凝露': ('护肤品', '化妆水'),\n",
       " '精粹水': ('护肤品', '化妆水'),\n",
       " '亮肤水': ('护肤品', '化妆水'),\n",
       " '润肤水': ('护肤品', '化妆水'),\n",
       " '保湿水': ('护肤品', '化妆水'),\n",
       " '菁华水': ('护肤品', '化妆水'),\n",
       " '保湿喷雾': ('护肤品', '化妆水'),\n",
       " '面霜': ('护肤品', '面霜类'),\n",
       " '日霜': ('护肤品', '面霜类'),\n",
       " '晚霜': ('护肤品', '面霜类'),\n",
       " '柔肤霜': ('护肤品', '面霜类'),\n",
       " '滋润霜': ('护肤品', '面霜类'),\n",
       " '保湿霜': ('护肤品', '面霜类'),\n",
       " '凝霜': ('护肤品', '面霜类'),\n",
       " '日间霜': ('护肤品', '面霜类'),\n",
       " '晚间霜': ('护肤品', '面霜类'),\n",
       " '乳霜': ('护肤品', '面霜类'),\n",
       " '修护霜': ('护肤品', '面霜类'),\n",
       " '亮肤霜': ('护肤品', '面霜类'),\n",
       " '底霜': ('护肤品', '面霜类'),\n",
       " '精华液': ('护肤品', '精华类'),\n",
       " '精华水': ('护肤品', '精华类'),\n",
       " '精华露': ('护肤品', '精华类'),\n",
       " '防晒霜': ('护肤品', '防晒类'),\n",
       " '唇釉': ('化妆品', '口红类'),\n",
       " '口红': ('化妆品', '口红类'),\n",
       " '散粉': ('化妆品', '底妆类'),\n",
       " '蜜粉': ('化妆品', '底妆类'),\n",
       " '粉底液': ('化妆品', '底妆类'),\n",
       " '定妆粉': ('化妆品', '底妆类'),\n",
       " '气垫': ('化妆品', '底妆类'),\n",
       " '粉饼': ('化妆品', '底妆类'),\n",
       " 'BB': ('化妆品', '底妆类'),\n",
       " 'CC': ('化妆品', '底妆类'),\n",
       " '遮瑕': ('化妆品', '底妆类'),\n",
       " '粉霜': ('化妆品', '底妆类'),\n",
       " '粉底膏': ('化妆品', '底妆类'),\n",
       " '眉粉': ('化妆品', '眼部彩妆'),\n",
       " '染眉膏': ('化妆品', '眼部彩妆'),\n",
       " '眼线': ('化妆品', '眼部彩妆'),\n",
       " '眼影': ('化妆品', '眼部彩妆'),\n",
       " '鼻影': ('化妆品', '修容类'),\n",
       " '修容粉': ('化妆品', '修容类'),\n",
       " '高光': ('化妆品', '修容类')}"
      ]
     },
     "execution_count": 171,
     "metadata": {},
     "output_type": "execute_result"
    }
   ],
   "source": [
    "category_config_map"
   ]
  },
  {
   "cell_type": "markdown",
   "metadata": {},
   "source": [
    "## 切割的商品名称12级目录适配"
   ]
  },
  {
   "cell_type": "code",
   "execution_count": 172,
   "metadata": {
    "ExecuteTime": {
     "end_time": "2020-03-12T08:14:53.031321Z",
     "start_time": "2020-03-12T08:14:53.007338Z"
    },
    "scrolled": true
   },
   "outputs": [
    {
     "name": "stdout",
     "output_type": "stream",
     "text": [
      "27512\n"
     ]
    },
    {
     "data": {
      "text/html": [
       "<div>\n",
       "<style scoped>\n",
       "    .dataframe tbody tr th:only-of-type {\n",
       "        vertical-align: middle;\n",
       "    }\n",
       "\n",
       "    .dataframe tbody tr th {\n",
       "        vertical-align: top;\n",
       "    }\n",
       "\n",
       "    .dataframe thead th {\n",
       "        text-align: right;\n",
       "    }\n",
       "</style>\n",
       "<table border=\"1\" class=\"dataframe\">\n",
       "  <thead>\n",
       "    <tr style=\"text-align: right;\">\n",
       "      <th></th>\n",
       "      <th>update_time</th>\n",
       "      <th>id</th>\n",
       "      <th>title</th>\n",
       "      <th>price</th>\n",
       "      <th>sale_count</th>\n",
       "      <th>comment_count</th>\n",
       "      <th>店名</th>\n",
       "      <th>item_name_cut</th>\n",
       "    </tr>\n",
       "  </thead>\n",
       "  <tbody>\n",
       "    <tr>\n",
       "      <td>0</td>\n",
       "      <td>2016/11/14</td>\n",
       "      <td>A18164178225</td>\n",
       "      <td>CHANDO/自然堂 雪域精粹纯粹滋润霜50g 补水保湿 滋润水润面霜</td>\n",
       "      <td>139.0</td>\n",
       "      <td>26719.0</td>\n",
       "      <td>2704.0</td>\n",
       "      <td>自然堂</td>\n",
       "      <td>[CHANDO, /, 自然, 堂,  , 雪域, 精粹, 纯粹, 滋润霜, 50g,  ,...</td>\n",
       "    </tr>\n",
       "    <tr>\n",
       "      <td>1</td>\n",
       "      <td>2016/11/14</td>\n",
       "      <td>A18177105952</td>\n",
       "      <td>CHANDO/自然堂凝时鲜颜肌活乳液120ML 淡化细纹补水滋润专柜正品</td>\n",
       "      <td>194.0</td>\n",
       "      <td>8122.0</td>\n",
       "      <td>1492.0</td>\n",
       "      <td>自然堂</td>\n",
       "      <td>[CHANDO, /, 自然, 堂, 凝, 时鲜, 颜肌活, 乳液, 120ML,  , 淡...</td>\n",
       "    </tr>\n",
       "  </tbody>\n",
       "</table>\n",
       "</div>"
      ],
      "text/plain": [
       "  update_time            id                                 title  price  \\\n",
       "0  2016/11/14  A18164178225   CHANDO/自然堂 雪域精粹纯粹滋润霜50g 补水保湿 滋润水润面霜  139.0   \n",
       "1  2016/11/14  A18177105952  CHANDO/自然堂凝时鲜颜肌活乳液120ML 淡化细纹补水滋润专柜正品  194.0   \n",
       "\n",
       "   sale_count  comment_count   店名  \\\n",
       "0     26719.0         2704.0  自然堂   \n",
       "1      8122.0         1492.0  自然堂   \n",
       "\n",
       "                                       item_name_cut  \n",
       "0  [CHANDO, /, 自然, 堂,  , 雪域, 精粹, 纯粹, 滋润霜, 50g,  ,...  \n",
       "1  [CHANDO, /, 自然, 堂, 凝, 时鲜, 颜肌活, 乳液, 120ML,  , 淡...  "
      ]
     },
     "execution_count": 172,
     "metadata": {},
     "output_type": "execute_result"
    }
   ],
   "source": [
    "print(len(data))\n",
    "\n",
    "data.head(2)"
   ]
  },
  {
   "cell_type": "code",
   "execution_count": 173,
   "metadata": {
    "ExecuteTime": {
     "end_time": "2020-03-12T08:14:58.125295Z",
     "start_time": "2020-03-12T08:14:58.119299Z"
    }
   },
   "outputs": [
    {
     "name": "stdout",
     "output_type": "stream",
     "text": [
      "['CHANDO', '/', '自然', '堂', ' ', '雪域', '精粹', '纯粹', '滋润霜', '50g', ' ', '补水', '保湿', ' ', '滋润', '水润', '面霜']\n"
     ]
    }
   ],
   "source": [
    "temp1 = data.item_name_cut[0]\n",
    "print(temp1)"
   ]
  },
  {
   "cell_type": "code",
   "execution_count": 174,
   "metadata": {
    "ExecuteTime": {
     "end_time": "2020-03-12T08:15:00.975356Z",
     "start_time": "2020-03-12T08:15:00.969359Z"
    }
   },
   "outputs": [
    {
     "data": {
      "text/plain": [
       "('CHANDO', '/', '自然')"
      ]
     },
     "execution_count": 174,
     "metadata": {},
     "output_type": "execute_result"
    }
   ],
   "source": [
    "temp1[0],temp1[1],temp1[2]"
   ]
  },
  {
   "cell_type": "code",
   "execution_count": 175,
   "metadata": {
    "ExecuteTime": {
     "end_time": "2020-03-12T08:15:01.740406Z",
     "start_time": "2020-03-12T08:15:01.734407Z"
    }
   },
   "outputs": [
    {
     "data": {
      "text/plain": [
       "17"
      ]
     },
     "execution_count": 175,
     "metadata": {},
     "output_type": "execute_result"
    }
   ],
   "source": [
    "len(temp1)"
   ]
  },
  {
   "cell_type": "code",
   "execution_count": 177,
   "metadata": {
    "ExecuteTime": {
     "end_time": "2020-03-12T08:15:07.136079Z",
     "start_time": "2020-03-12T08:15:07.132084Z"
    },
    "scrolled": true
   },
   "outputs": [],
   "source": [
    "# category_config_map\n",
    "\n",
    "# {'乳液': ('护肤品', '乳液类'),\n",
    "# '美白乳': ('护肤品', '乳液类'),\n",
    "# '润肤乳': ('护肤品', '乳液类'),\n",
    "# '凝乳': ('护肤品', '乳液类'),"
   ]
  },
  {
   "cell_type": "code",
   "execution_count": 178,
   "metadata": {
    "ExecuteTime": {
     "end_time": "2020-03-12T08:15:12.775836Z",
     "start_time": "2020-03-12T08:15:12.767840Z"
    }
   },
   "outputs": [
    {
     "data": {
      "text/plain": [
       "(('护肤品', '乳液类'), '护肤品', '乳液类')"
      ]
     },
     "execution_count": 178,
     "metadata": {},
     "output_type": "execute_result"
    }
   ],
   "source": [
    "category_config_map.get('乳液'),category_config_map.get('乳液')[0],category_config_map.get('乳液')[1]"
   ]
  },
  {
   "cell_type": "code",
   "execution_count": 179,
   "metadata": {
    "ExecuteTime": {
     "end_time": "2020-03-12T08:15:14.854515Z",
     "start_time": "2020-03-12T08:15:14.843522Z"
    }
   },
   "outputs": [
    {
     "data": {
      "text/plain": [
       "(27, '!!!', 'no')"
      ]
     },
     "execution_count": 179,
     "metadata": {},
     "output_type": "execute_result"
    }
   ],
   "source": [
    "dict = {'Name': 'Zara', 'Age': 27}\n",
    "\n",
    "dict.get('Age'),'!!!',dict.get('Sex', \"no\")"
   ]
  },
  {
   "cell_type": "code",
   "execution_count": 180,
   "metadata": {
    "ExecuteTime": {
     "end_time": "2020-03-12T08:15:18.088173Z",
     "start_time": "2020-03-12T08:15:18.080179Z"
    }
   },
   "outputs": [
    {
     "data": {
      "text/plain": [
       "'no'"
      ]
     },
     "execution_count": 180,
     "metadata": {},
     "output_type": "execute_result"
    }
   ],
   "source": [
    "category_config_map.get('CHANDO','no')"
   ]
  },
  {
   "cell_type": "code",
   "execution_count": 182,
   "metadata": {
    "ExecuteTime": {
     "end_time": "2020-03-12T08:15:37.795157Z",
     "start_time": "2020-03-12T08:15:37.771173Z"
    }
   },
   "outputs": [
    {
     "data": {
      "text/html": [
       "<div>\n",
       "<style scoped>\n",
       "    .dataframe tbody tr th:only-of-type {\n",
       "        vertical-align: middle;\n",
       "    }\n",
       "\n",
       "    .dataframe tbody tr th {\n",
       "        vertical-align: top;\n",
       "    }\n",
       "\n",
       "    .dataframe thead th {\n",
       "        text-align: right;\n",
       "    }\n",
       "</style>\n",
       "<table border=\"1\" class=\"dataframe\">\n",
       "  <thead>\n",
       "    <tr style=\"text-align: right;\">\n",
       "      <th></th>\n",
       "      <th>update_time</th>\n",
       "      <th>id</th>\n",
       "      <th>title</th>\n",
       "      <th>price</th>\n",
       "      <th>sale_count</th>\n",
       "      <th>comment_count</th>\n",
       "      <th>店名</th>\n",
       "      <th>item_name_cut</th>\n",
       "    </tr>\n",
       "  </thead>\n",
       "  <tbody>\n",
       "    <tr>\n",
       "      <td>0</td>\n",
       "      <td>2016/11/14</td>\n",
       "      <td>A18164178225</td>\n",
       "      <td>CHANDO/自然堂 雪域精粹纯粹滋润霜50g 补水保湿 滋润水润面霜</td>\n",
       "      <td>139.0</td>\n",
       "      <td>26719.0</td>\n",
       "      <td>2704.0</td>\n",
       "      <td>自然堂</td>\n",
       "      <td>[CHANDO, /, 自然, 堂,  , 雪域, 精粹, 纯粹, 滋润霜, 50g,  ,...</td>\n",
       "    </tr>\n",
       "    <tr>\n",
       "      <td>1</td>\n",
       "      <td>2016/11/14</td>\n",
       "      <td>A18177105952</td>\n",
       "      <td>CHANDO/自然堂凝时鲜颜肌活乳液120ML 淡化细纹补水滋润专柜正品</td>\n",
       "      <td>194.0</td>\n",
       "      <td>8122.0</td>\n",
       "      <td>1492.0</td>\n",
       "      <td>自然堂</td>\n",
       "      <td>[CHANDO, /, 自然, 堂, 凝, 时鲜, 颜肌活, 乳液, 120ML,  , 淡...</td>\n",
       "    </tr>\n",
       "  </tbody>\n",
       "</table>\n",
       "</div>"
      ],
      "text/plain": [
       "  update_time            id                                 title  price  \\\n",
       "0  2016/11/14  A18164178225   CHANDO/自然堂 雪域精粹纯粹滋润霜50g 补水保湿 滋润水润面霜  139.0   \n",
       "1  2016/11/14  A18177105952  CHANDO/自然堂凝时鲜颜肌活乳液120ML 淡化细纹补水滋润专柜正品  194.0   \n",
       "\n",
       "   sale_count  comment_count   店名  \\\n",
       "0     26719.0         2704.0  自然堂   \n",
       "1      8122.0         1492.0  自然堂   \n",
       "\n",
       "                                       item_name_cut  \n",
       "0  [CHANDO, /, 自然, 堂,  , 雪域, 精粹, 纯粹, 滋润霜, 50g,  ,...  \n",
       "1  [CHANDO, /, 自然, 堂, 凝, 时鲜, 颜肌活, 乳液, 120ML,  , 淡...  "
      ]
     },
     "execution_count": 182,
     "metadata": {},
     "output_type": "execute_result"
    }
   ],
   "source": [
    "import copy \n",
    "df5 = copy.deepcopy(data)\n",
    "df5.head(2)"
   ]
  },
  {
   "cell_type": "code",
   "execution_count": 181,
   "metadata": {
    "ExecuteTime": {
     "end_time": "2020-03-12T08:15:21.308231Z",
     "start_time": "2020-03-12T08:15:21.290245Z"
    },
    "scrolled": false
   },
   "outputs": [
    {
     "data": {
      "text/html": [
       "<div>\n",
       "<style scoped>\n",
       "    .dataframe tbody tr th:only-of-type {\n",
       "        vertical-align: middle;\n",
       "    }\n",
       "\n",
       "    .dataframe tbody tr th {\n",
       "        vertical-align: top;\n",
       "    }\n",
       "\n",
       "    .dataframe thead th {\n",
       "        text-align: right;\n",
       "    }\n",
       "</style>\n",
       "<table border=\"1\" class=\"dataframe\">\n",
       "  <thead>\n",
       "    <tr style=\"text-align: right;\">\n",
       "      <th></th>\n",
       "      <th>update_time</th>\n",
       "      <th>id</th>\n",
       "      <th>title</th>\n",
       "      <th>price</th>\n",
       "      <th>sale_count</th>\n",
       "      <th>comment_count</th>\n",
       "      <th>店名</th>\n",
       "      <th>item_name_cut</th>\n",
       "    </tr>\n",
       "  </thead>\n",
       "  <tbody>\n",
       "    <tr>\n",
       "      <td>0</td>\n",
       "      <td>2016/11/14</td>\n",
       "      <td>A18164178225</td>\n",
       "      <td>CHANDO/自然堂 雪域精粹纯粹滋润霜50g 补水保湿 滋润水润面霜</td>\n",
       "      <td>139.0</td>\n",
       "      <td>26719.0</td>\n",
       "      <td>2704.0</td>\n",
       "      <td>自然堂</td>\n",
       "      <td>[CHANDO, /, 自然, 堂,  , 雪域, 精粹, 纯粹, 滋润霜, 50g,  ,...</td>\n",
       "    </tr>\n",
       "    <tr>\n",
       "      <td>1</td>\n",
       "      <td>2016/11/14</td>\n",
       "      <td>A18177105952</td>\n",
       "      <td>CHANDO/自然堂凝时鲜颜肌活乳液120ML 淡化细纹补水滋润专柜正品</td>\n",
       "      <td>194.0</td>\n",
       "      <td>8122.0</td>\n",
       "      <td>1492.0</td>\n",
       "      <td>自然堂</td>\n",
       "      <td>[CHANDO, /, 自然, 堂, 凝, 时鲜, 颜肌活, 乳液, 120ML,  , 淡...</td>\n",
       "    </tr>\n",
       "  </tbody>\n",
       "</table>\n",
       "</div>"
      ],
      "text/plain": [
       "  update_time            id                                 title  price  \\\n",
       "0  2016/11/14  A18164178225   CHANDO/自然堂 雪域精粹纯粹滋润霜50g 补水保湿 滋润水润面霜  139.0   \n",
       "1  2016/11/14  A18177105952  CHANDO/自然堂凝时鲜颜肌活乳液120ML 淡化细纹补水滋润专柜正品  194.0   \n",
       "\n",
       "   sale_count  comment_count   店名  \\\n",
       "0     26719.0         2704.0  自然堂   \n",
       "1      8122.0         1492.0  自然堂   \n",
       "\n",
       "                                       item_name_cut  \n",
       "0  [CHANDO, /, 自然, 堂,  , 雪域, 精粹, 纯粹, 滋润霜, 50g,  ,...  \n",
       "1  [CHANDO, /, 自然, 堂, 凝, 时鲜, 颜肌活, 乳液, 120ML,  , 淡...  "
      ]
     },
     "execution_count": 181,
     "metadata": {},
     "output_type": "execute_result"
    }
   ],
   "source": [
    "data.head(2)"
   ]
  },
  {
   "cell_type": "code",
   "execution_count": 190,
   "metadata": {
    "ExecuteTime": {
     "end_time": "2020-03-12T08:20:22.817259Z",
     "start_time": "2020-03-12T08:20:22.809265Z"
    },
    "scrolled": true
   },
   "outputs": [
    {
     "name": "stdout",
     "output_type": "stream",
     "text": [
      "CHANDO\n",
      "/\n",
      "自然\n",
      "堂\n",
      " \n",
      "雪域\n",
      "精粹\n",
      "纯粹\n",
      "滋润霜\n",
      "50g\n",
      " \n",
      "补水\n",
      "保湿\n",
      " \n",
      "滋润\n",
      "水润\n",
      "面霜\n"
     ]
    }
   ],
   "source": [
    "for i in temp1:\n",
    "    print(i)"
   ]
  },
  {
   "cell_type": "code",
   "execution_count": 192,
   "metadata": {
    "ExecuteTime": {
     "end_time": "2020-03-12T08:20:45.977759Z",
     "start_time": "2020-03-12T08:20:45.966766Z"
    }
   },
   "outputs": [
    {
     "data": {
      "text/plain": [
       "{'乳液': ('护肤品', '乳液类'),\n",
       " '美白乳': ('护肤品', '乳液类'),\n",
       " '润肤乳': ('护肤品', '乳液类'),\n",
       " '凝乳': ('护肤品', '乳液类'),\n",
       " '柔肤液': ('护肤品', '化妆水'),\n",
       " '亮肤乳': ('护肤品', '乳液类'),\n",
       " '菁华乳': ('护肤品', '乳液类'),\n",
       " '眼霜': ('护肤品', '眼部护理'),\n",
       " '眼部精华': ('护肤品', '眼部护理'),\n",
       " '洗面': ('护肤品', '清洁类'),\n",
       " '洁面': ('护肤品', '清洁类'),\n",
       " '清洁': ('护肤品', '清洁类'),\n",
       " '卸妆': ('护肤品', '清洁类'),\n",
       " '洁颜': ('护肤品', '清洁类'),\n",
       " '洗颜': ('护肤品', '清洁类'),\n",
       " '去角质': ('护肤品', '清洁类'),\n",
       " '化妆水': ('护肤品', '化妆水'),\n",
       " '爽肤水': ('护肤品', '化妆水'),\n",
       " '柔肤水': ('护肤品', '化妆水'),\n",
       " '补水露': ('护肤品', '化妆水'),\n",
       " '凝露': ('护肤品', '化妆水'),\n",
       " '精粹水': ('护肤品', '化妆水'),\n",
       " '亮肤水': ('护肤品', '化妆水'),\n",
       " '润肤水': ('护肤品', '化妆水'),\n",
       " '保湿水': ('护肤品', '化妆水'),\n",
       " '菁华水': ('护肤品', '化妆水'),\n",
       " '保湿喷雾': ('护肤品', '化妆水'),\n",
       " '面霜': ('护肤品', '面霜类'),\n",
       " '日霜': ('护肤品', '面霜类'),\n",
       " '晚霜': ('护肤品', '面霜类'),\n",
       " '柔肤霜': ('护肤品', '面霜类'),\n",
       " '滋润霜': ('护肤品', '面霜类'),\n",
       " '保湿霜': ('护肤品', '面霜类'),\n",
       " '凝霜': ('护肤品', '面霜类'),\n",
       " '日间霜': ('护肤品', '面霜类'),\n",
       " '晚间霜': ('护肤品', '面霜类'),\n",
       " '乳霜': ('护肤品', '面霜类'),\n",
       " '修护霜': ('护肤品', '面霜类'),\n",
       " '亮肤霜': ('护肤品', '面霜类'),\n",
       " '底霜': ('护肤品', '面霜类'),\n",
       " '精华液': ('护肤品', '精华类'),\n",
       " '精华水': ('护肤品', '精华类'),\n",
       " '精华露': ('护肤品', '精华类'),\n",
       " '防晒霜': ('护肤品', '防晒类'),\n",
       " '唇釉': ('化妆品', '口红类'),\n",
       " '口红': ('化妆品', '口红类'),\n",
       " '散粉': ('化妆品', '底妆类'),\n",
       " '蜜粉': ('化妆品', '底妆类'),\n",
       " '粉底液': ('化妆品', '底妆类'),\n",
       " '定妆粉': ('化妆品', '底妆类'),\n",
       " '气垫': ('化妆品', '底妆类'),\n",
       " '粉饼': ('化妆品', '底妆类'),\n",
       " 'BB': ('化妆品', '底妆类'),\n",
       " 'CC': ('化妆品', '底妆类'),\n",
       " '遮瑕': ('化妆品', '底妆类'),\n",
       " '粉霜': ('化妆品', '底妆类'),\n",
       " '粉底膏': ('化妆品', '底妆类'),\n",
       " '眉粉': ('化妆品', '眼部彩妆'),\n",
       " '染眉膏': ('化妆品', '眼部彩妆'),\n",
       " '眼线': ('化妆品', '眼部彩妆'),\n",
       " '眼影': ('化妆品', '眼部彩妆'),\n",
       " '鼻影': ('化妆品', '修容类'),\n",
       " '修容粉': ('化妆品', '修容类'),\n",
       " '高光': ('化妆品', '修容类')}"
      ]
     },
     "execution_count": 192,
     "metadata": {},
     "output_type": "execute_result"
    }
   ],
   "source": [
    "category_config_map"
   ]
  },
  {
   "cell_type": "code",
   "execution_count": 196,
   "metadata": {
    "ExecuteTime": {
     "end_time": "2020-03-12T08:22:16.011795Z",
     "start_time": "2020-03-12T08:22:16.004802Z"
    }
   },
   "outputs": [
    {
     "data": {
      "text/plain": [
       "('面霜类', '护肤品')"
      ]
     },
     "execution_count": 196,
     "metadata": {},
     "output_type": "execute_result"
    }
   ],
   "source": [
    "category_config_map.get('滋润霜')[1],category_config_map.get('滋润霜')[0]"
   ]
  },
  {
   "cell_type": "markdown",
   "metadata": {},
   "source": [
    "### 第1行进行适配品类"
   ]
  },
  {
   "cell_type": "code",
   "execution_count": 205,
   "metadata": {
    "ExecuteTime": {
     "end_time": "2020-03-12T08:24:47.294438Z",
     "start_time": "2020-03-12T08:24:47.279447Z"
    }
   },
   "outputs": [
    {
     "name": "stdout",
     "output_type": "stream",
     "text": [
      "CHANDO\n",
      "/\n",
      "自然\n",
      "堂\n",
      " \n",
      "雪域\n",
      "精粹\n",
      "纯粹\n",
      "滋润霜\n",
      "good\n"
     ]
    },
    {
     "data": {
      "text/plain": [
       "(['面霜类'], ['护肤品'])"
      ]
     },
     "execution_count": 205,
     "metadata": {},
     "output_type": "execute_result"
    }
   ],
   "source": [
    "sub_type1 = []\n",
    "main_type1 = []\n",
    "\n",
    "exist = False\n",
    "\n",
    "for i in temp1:\n",
    "    print(i)\n",
    "    if i in category_config_map:\n",
    "        # exist=True\n",
    "        sub_type1.append(category_config_map.get(i)[1])\n",
    "        main_type1.append(category_config_map.get(i)[0])\n",
    "        print('good')\n",
    "        break\n",
    "\n",
    "    if not exist:    \n",
    "        sub_type.append('其他')\n",
    "        main_type.append('其他')        \n",
    "\n",
    "sub_type1, main_type1"
   ]
  },
  {
   "cell_type": "markdown",
   "metadata": {
    "ExecuteTime": {
     "end_time": "2020-03-12T08:26:54.144088Z",
     "start_time": "2020-03-12T08:26:54.140091Z"
    }
   },
   "source": [
    "### 所有行进行适配品类"
   ]
  },
  {
   "cell_type": "code",
   "execution_count": 207,
   "metadata": {
    "ExecuteTime": {
     "end_time": "2020-03-12T08:28:42.133705Z",
     "start_time": "2020-03-12T08:28:42.113716Z"
    },
    "scrolled": false
   },
   "outputs": [
    {
     "data": {
      "text/html": [
       "<div>\n",
       "<style scoped>\n",
       "    .dataframe tbody tr th:only-of-type {\n",
       "        vertical-align: middle;\n",
       "    }\n",
       "\n",
       "    .dataframe tbody tr th {\n",
       "        vertical-align: top;\n",
       "    }\n",
       "\n",
       "    .dataframe thead th {\n",
       "        text-align: right;\n",
       "    }\n",
       "</style>\n",
       "<table border=\"1\" class=\"dataframe\">\n",
       "  <thead>\n",
       "    <tr style=\"text-align: right;\">\n",
       "      <th></th>\n",
       "      <th>update_time</th>\n",
       "      <th>id</th>\n",
       "      <th>title</th>\n",
       "      <th>price</th>\n",
       "      <th>sale_count</th>\n",
       "      <th>comment_count</th>\n",
       "      <th>店名</th>\n",
       "      <th>item_name_cut</th>\n",
       "    </tr>\n",
       "  </thead>\n",
       "  <tbody>\n",
       "    <tr>\n",
       "      <td>0</td>\n",
       "      <td>2016/11/14</td>\n",
       "      <td>A18164178225</td>\n",
       "      <td>CHANDO/自然堂 雪域精粹纯粹滋润霜50g 补水保湿 滋润水润面霜</td>\n",
       "      <td>139.0</td>\n",
       "      <td>26719.0</td>\n",
       "      <td>2704.0</td>\n",
       "      <td>自然堂</td>\n",
       "      <td>[CHANDO, /, 自然, 堂,  , 雪域, 精粹, 纯粹, 滋润霜, 50g,  ,...</td>\n",
       "    </tr>\n",
       "    <tr>\n",
       "      <td>1</td>\n",
       "      <td>2016/11/14</td>\n",
       "      <td>A18177105952</td>\n",
       "      <td>CHANDO/自然堂凝时鲜颜肌活乳液120ML 淡化细纹补水滋润专柜正品</td>\n",
       "      <td>194.0</td>\n",
       "      <td>8122.0</td>\n",
       "      <td>1492.0</td>\n",
       "      <td>自然堂</td>\n",
       "      <td>[CHANDO, /, 自然, 堂, 凝, 时鲜, 颜肌活, 乳液, 120ML,  , 淡...</td>\n",
       "    </tr>\n",
       "  </tbody>\n",
       "</table>\n",
       "</div>"
      ],
      "text/plain": [
       "  update_time            id                                 title  price  \\\n",
       "0  2016/11/14  A18164178225   CHANDO/自然堂 雪域精粹纯粹滋润霜50g 补水保湿 滋润水润面霜  139.0   \n",
       "1  2016/11/14  A18177105952  CHANDO/自然堂凝时鲜颜肌活乳液120ML 淡化细纹补水滋润专柜正品  194.0   \n",
       "\n",
       "   sale_count  comment_count   店名  \\\n",
       "0     26719.0         2704.0  自然堂   \n",
       "1      8122.0         1492.0  自然堂   \n",
       "\n",
       "                                       item_name_cut  \n",
       "0  [CHANDO, /, 自然, 堂,  , 雪域, 精粹, 纯粹, 滋润霜, 50g,  ,...  \n",
       "1  [CHANDO, /, 自然, 堂, 凝, 时鲜, 颜肌活, 乳液, 120ML,  , 淡...  "
      ]
     },
     "execution_count": 207,
     "metadata": {},
     "output_type": "execute_result"
    }
   ],
   "source": [
    "data.head(2)"
   ]
  },
  {
   "cell_type": "code",
   "execution_count": 245,
   "metadata": {
    "ExecuteTime": {
     "end_time": "2020-03-12T08:51:48.450548Z",
     "start_time": "2020-03-12T08:51:48.443552Z"
    }
   },
   "outputs": [
    {
     "data": {
      "text/plain": [
       "27512"
      ]
     },
     "execution_count": 245,
     "metadata": {},
     "output_type": "execute_result"
    }
   ],
   "source": [
    "len(data)"
   ]
  },
  {
   "cell_type": "code",
   "execution_count": 253,
   "metadata": {
    "ExecuteTime": {
     "end_time": "2020-03-12T09:00:50.077259Z",
     "start_time": "2020-03-12T09:00:50.063267Z"
    }
   },
   "outputs": [
    {
     "name": "stdout",
     "output_type": "stream",
     "text": [
      "样本数据： 2\n",
      "CHANDO\n",
      "/\n",
      "自然\n",
      "堂\n",
      " \n",
      "雪域\n",
      "精粹\n",
      "纯粹\n",
      "滋润霜\n",
      "商品切割的标题在字典找到对应的12级目录停止啦！\n",
      "['面霜类']\n",
      "['护肤品']\n",
      "CHANDO\n",
      "/\n",
      "自然\n",
      "堂\n",
      "凝\n",
      "时鲜\n",
      "颜肌活\n",
      "乳液\n",
      "商品切割的标题在字典找到对应的12级目录停止啦！\n",
      "['面霜类', '乳液类']\n",
      "['护肤品', '护肤品']\n",
      "2 2\n"
     ]
    }
   ],
   "source": [
    "data_sample = len(data)-27510\n",
    "print(\"样本数据：\",data_sample)\n",
    "\n",
    "sub_type_all = []\n",
    "main_type_all = []\n",
    "\n",
    "for i_data in range(data_sample):\n",
    "\n",
    "    exist = False\n",
    "\n",
    "    for i_temp in data.item_name_cut[i_data]:\n",
    "        print(i_temp)\n",
    "        if i_temp in category_config_map:\n",
    "            # exist=True\n",
    "            sub_type_all.append(category_config_map.get(i_temp)[1])\n",
    "            main_type_all.append(category_config_map.get(i_temp)[0])\n",
    "            print('商品切割的标题在字典找到对应的12级目录停止啦！')\n",
    "            print(sub_type_all)\n",
    "            print(main_type_all)\n",
    "            exist = True\n",
    "            break\n",
    "\n",
    "    if not exist:    \n",
    "        sub_type_all.append('其他')\n",
    "        main_type_all.append('其他')\n",
    "        print('没找到对应的12级目录停止了！')\n",
    "            \n",
    "print(len(sub_type_all) ,len(main_type_all) )\n",
    "            \n"
   ]
  },
  {
   "cell_type": "code",
   "execution_count": 252,
   "metadata": {
    "ExecuteTime": {
     "end_time": "2020-03-12T09:00:14.957808Z",
     "start_time": "2020-03-12T09:00:14.948814Z"
    },
    "scrolled": true
   },
   "outputs": [
    {
     "name": "stdout",
     "output_type": "stream",
     "text": [
      "12 <class 'list'> ['面霜类', '乳液类', '化妆水', '清洁类', '面霜类', '清洁类', '面霜类', '化妆水', '精华类', '其他', '化妆水', '面霜类']\n",
      "!!!!!!!!!!!!!!!!!!!!\n",
      "12 <class 'list'> ['护肤品', '护肤品', '护肤品', '护肤品', '护肤品', '护肤品', '护肤品', '护肤品', '护肤品', '其他', '护肤品', '护肤品']\n"
     ]
    }
   ],
   "source": [
    "print(len(sub_type_all),type(sub_type_all),sub_type_all)\n",
    "print('!!!!!!!!!!!!!!!!!!!!')\n",
    "print(len(main_type_all),type(main_type_all),main_type_all)"
   ]
  },
  {
   "cell_type": "code",
   "execution_count": 260,
   "metadata": {
    "ExecuteTime": {
     "end_time": "2020-03-12T09:09:26.138793Z",
     "start_time": "2020-03-12T09:09:25.072456Z"
    }
   },
   "outputs": [
    {
     "name": "stdout",
     "output_type": "stream",
     "text": [
      "样本数据数量： 27512\n",
      "27512 27512\n"
     ]
    }
   ],
   "source": [
    "data_sample = len(data)\n",
    "print(\"样本数据数量：\",data_sample)\n",
    "\n",
    "sub_type_all = []\n",
    "main_type_all = []\n",
    "\n",
    "for i_data in range(data_sample):\n",
    "\n",
    "    exist = False\n",
    "\n",
    "    for i_temp in data.item_name_cut[i_data]:\n",
    "        # print(i_temp)\n",
    "        if i_temp in category_config_map:\n",
    "            sub_type_all.append(category_config_map.get(i_temp)[1])\n",
    "            main_type_all.append(category_config_map.get(i_temp)[0])\n",
    "            # print('商品切割的标题在字典找到对应的12级目录停止啦！')\n",
    "            # print('sub_type_all：',sub_type_all)\n",
    "            # print('main_type_all：',main_type_all)\n",
    "            exist = True\n",
    "            break\n",
    "\n",
    "    if not exist:    \n",
    "        sub_type_all.append('其他')\n",
    "        main_type_all.append('其他')\n",
    "        # print('没找到对应的12级目录停止了！')\n",
    "        # print('sub_type_all：',sub_type_all)\n",
    "        # print('main_type_all：',main_type_all)\n",
    "            \n",
    "print(len(sub_type_all) ,len(main_type_all) )\n",
    "\n",
    "# 样本数据数量： 27512\n",
    "# 商品切割的标题在字典找到对应的12级目录停止啦！\n",
    "# 商品切割的标题在字典找到对应的12级目录停止啦！\n",
    "# 商品切割的标题在字典找到对应的12级目录停止啦！\n",
    "# ...\n",
    "# 没找到对应的12级目录停止了！\n",
    "# 没找到对应的12级目录停止了！\n",
    "# 没找到对应的12级目录停止了！\n",
    "# 27512 27512"
   ]
  },
  {
   "cell_type": "code",
   "execution_count": 259,
   "metadata": {
    "ExecuteTime": {
     "end_time": "2020-03-12T09:08:14.264060Z",
     "start_time": "2020-03-12T09:08:14.257066Z"
    }
   },
   "outputs": [
    {
     "data": {
      "text/plain": [
       "(27512, 27512)"
      ]
     },
     "execution_count": 259,
     "metadata": {},
     "output_type": "execute_result"
    }
   ],
   "source": [
    "len(sub_type_all),len(data)"
   ]
  },
  {
   "cell_type": "markdown",
   "metadata": {
    "id": "CF8586F998024FD58658395147C57CB7",
    "jupyter": {},
    "mdEditEnable": false,
    "slideshow": {
     "slide_type": "slide"
    },
    "tags": []
   },
   "source": [
    "### 一二级品类加入特征"
   ]
  },
  {
   "cell_type": "code",
   "execution_count": 261,
   "metadata": {
    "ExecuteTime": {
     "end_time": "2020-03-12T09:11:05.687951Z",
     "start_time": "2020-03-12T09:11:05.662968Z"
    },
    "id": "17A3598871C245A2AC9757B3673DCF37",
    "jupyter": {},
    "scrolled": false,
    "slideshow": {
     "slide_type": "slide"
    },
    "tags": []
   },
   "outputs": [
    {
     "data": {
      "text/html": [
       "<div>\n",
       "<style scoped>\n",
       "    .dataframe tbody tr th:only-of-type {\n",
       "        vertical-align: middle;\n",
       "    }\n",
       "\n",
       "    .dataframe tbody tr th {\n",
       "        vertical-align: top;\n",
       "    }\n",
       "\n",
       "    .dataframe thead th {\n",
       "        text-align: right;\n",
       "    }\n",
       "</style>\n",
       "<table border=\"1\" class=\"dataframe\">\n",
       "  <thead>\n",
       "    <tr style=\"text-align: right;\">\n",
       "      <th></th>\n",
       "      <th>update_time</th>\n",
       "      <th>id</th>\n",
       "      <th>title</th>\n",
       "      <th>price</th>\n",
       "      <th>sale_count</th>\n",
       "      <th>comment_count</th>\n",
       "      <th>店名</th>\n",
       "      <th>item_name_cut</th>\n",
       "      <th>sub_type_all</th>\n",
       "    </tr>\n",
       "  </thead>\n",
       "  <tbody>\n",
       "    <tr>\n",
       "      <td>0</td>\n",
       "      <td>2016/11/14</td>\n",
       "      <td>A18164178225</td>\n",
       "      <td>CHANDO/自然堂 雪域精粹纯粹滋润霜50g 补水保湿 滋润水润面霜</td>\n",
       "      <td>139.0</td>\n",
       "      <td>26719.0</td>\n",
       "      <td>2704.0</td>\n",
       "      <td>自然堂</td>\n",
       "      <td>[CHANDO, /, 自然, 堂,  , 雪域, 精粹, 纯粹, 滋润霜, 50g,  ,...</td>\n",
       "      <td>面霜类</td>\n",
       "    </tr>\n",
       "    <tr>\n",
       "      <td>1</td>\n",
       "      <td>2016/11/14</td>\n",
       "      <td>A18177105952</td>\n",
       "      <td>CHANDO/自然堂凝时鲜颜肌活乳液120ML 淡化细纹补水滋润专柜正品</td>\n",
       "      <td>194.0</td>\n",
       "      <td>8122.0</td>\n",
       "      <td>1492.0</td>\n",
       "      <td>自然堂</td>\n",
       "      <td>[CHANDO, /, 自然, 堂, 凝, 时鲜, 颜肌活, 乳液, 120ML,  , 淡...</td>\n",
       "      <td>乳液类</td>\n",
       "    </tr>\n",
       "  </tbody>\n",
       "</table>\n",
       "</div>"
      ],
      "text/plain": [
       "  update_time            id                                 title  price  \\\n",
       "0  2016/11/14  A18164178225   CHANDO/自然堂 雪域精粹纯粹滋润霜50g 补水保湿 滋润水润面霜  139.0   \n",
       "1  2016/11/14  A18177105952  CHANDO/自然堂凝时鲜颜肌活乳液120ML 淡化细纹补水滋润专柜正品  194.0   \n",
       "\n",
       "   sale_count  comment_count   店名  \\\n",
       "0     26719.0         2704.0  自然堂   \n",
       "1      8122.0         1492.0  自然堂   \n",
       "\n",
       "                                       item_name_cut sub_type_all  \n",
       "0  [CHANDO, /, 自然, 堂,  , 雪域, 精粹, 纯粹, 滋润霜, 50g,  ,...          面霜类  \n",
       "1  [CHANDO, /, 自然, 堂, 凝, 时鲜, 颜肌活, 乳液, 120ML,  , 淡...          乳液类  "
      ]
     },
     "execution_count": 261,
     "metadata": {},
     "output_type": "execute_result"
    }
   ],
   "source": [
    "data['sub_type_all'] = sub_type_all\n",
    "data.head(2)"
   ]
  },
  {
   "cell_type": "code",
   "execution_count": 262,
   "metadata": {
    "ExecuteTime": {
     "end_time": "2020-03-12T09:11:33.662324Z",
     "start_time": "2020-03-12T09:11:33.637340Z"
    },
    "id": "6B97D424E76543AD92D7B6D0A61449FA",
    "jupyter": {},
    "scrolled": false,
    "slideshow": {
     "slide_type": "slide"
    },
    "tags": []
   },
   "outputs": [
    {
     "data": {
      "text/html": [
       "<div>\n",
       "<style scoped>\n",
       "    .dataframe tbody tr th:only-of-type {\n",
       "        vertical-align: middle;\n",
       "    }\n",
       "\n",
       "    .dataframe tbody tr th {\n",
       "        vertical-align: top;\n",
       "    }\n",
       "\n",
       "    .dataframe thead th {\n",
       "        text-align: right;\n",
       "    }\n",
       "</style>\n",
       "<table border=\"1\" class=\"dataframe\">\n",
       "  <thead>\n",
       "    <tr style=\"text-align: right;\">\n",
       "      <th></th>\n",
       "      <th>update_time</th>\n",
       "      <th>id</th>\n",
       "      <th>title</th>\n",
       "      <th>price</th>\n",
       "      <th>sale_count</th>\n",
       "      <th>comment_count</th>\n",
       "      <th>店名</th>\n",
       "      <th>item_name_cut</th>\n",
       "      <th>sub_type_all</th>\n",
       "      <th>main_type_all</th>\n",
       "    </tr>\n",
       "  </thead>\n",
       "  <tbody>\n",
       "    <tr>\n",
       "      <td>0</td>\n",
       "      <td>2016/11/14</td>\n",
       "      <td>A18164178225</td>\n",
       "      <td>CHANDO/自然堂 雪域精粹纯粹滋润霜50g 补水保湿 滋润水润面霜</td>\n",
       "      <td>139.0</td>\n",
       "      <td>26719.0</td>\n",
       "      <td>2704.0</td>\n",
       "      <td>自然堂</td>\n",
       "      <td>[CHANDO, /, 自然, 堂,  , 雪域, 精粹, 纯粹, 滋润霜, 50g,  ,...</td>\n",
       "      <td>面霜类</td>\n",
       "      <td>护肤品</td>\n",
       "    </tr>\n",
       "    <tr>\n",
       "      <td>1</td>\n",
       "      <td>2016/11/14</td>\n",
       "      <td>A18177105952</td>\n",
       "      <td>CHANDO/自然堂凝时鲜颜肌活乳液120ML 淡化细纹补水滋润专柜正品</td>\n",
       "      <td>194.0</td>\n",
       "      <td>8122.0</td>\n",
       "      <td>1492.0</td>\n",
       "      <td>自然堂</td>\n",
       "      <td>[CHANDO, /, 自然, 堂, 凝, 时鲜, 颜肌活, 乳液, 120ML,  , 淡...</td>\n",
       "      <td>乳液类</td>\n",
       "      <td>护肤品</td>\n",
       "    </tr>\n",
       "  </tbody>\n",
       "</table>\n",
       "</div>"
      ],
      "text/plain": [
       "  update_time            id                                 title  price  \\\n",
       "0  2016/11/14  A18164178225   CHANDO/自然堂 雪域精粹纯粹滋润霜50g 补水保湿 滋润水润面霜  139.0   \n",
       "1  2016/11/14  A18177105952  CHANDO/自然堂凝时鲜颜肌活乳液120ML 淡化细纹补水滋润专柜正品  194.0   \n",
       "\n",
       "   sale_count  comment_count   店名  \\\n",
       "0     26719.0         2704.0  自然堂   \n",
       "1      8122.0         1492.0  自然堂   \n",
       "\n",
       "                                       item_name_cut sub_type_all  \\\n",
       "0  [CHANDO, /, 自然, 堂,  , 雪域, 精粹, 纯粹, 滋润霜, 50g,  ,...          面霜类   \n",
       "1  [CHANDO, /, 自然, 堂, 凝, 时鲜, 颜肌活, 乳液, 120ML,  , 淡...          乳液类   \n",
       "\n",
       "  main_type_all  \n",
       "0           护肤品  \n",
       "1           护肤品  "
      ]
     },
     "execution_count": 262,
     "metadata": {},
     "output_type": "execute_result"
    }
   ],
   "source": [
    "data['main_type_all'] = main_type_all\n",
    "data.head(2)"
   ]
  },
  {
   "cell_type": "code",
   "execution_count": 265,
   "metadata": {
    "ExecuteTime": {
     "end_time": "2020-03-12T09:12:38.255478Z",
     "start_time": "2020-03-12T09:12:38.221498Z"
    },
    "scrolled": true
   },
   "outputs": [
    {
     "data": {
      "text/html": [
       "<div>\n",
       "<style scoped>\n",
       "    .dataframe tbody tr th:only-of-type {\n",
       "        vertical-align: middle;\n",
       "    }\n",
       "\n",
       "    .dataframe tbody tr th {\n",
       "        vertical-align: top;\n",
       "    }\n",
       "\n",
       "    .dataframe thead th {\n",
       "        text-align: right;\n",
       "    }\n",
       "</style>\n",
       "<table border=\"1\" class=\"dataframe\">\n",
       "  <thead>\n",
       "    <tr style=\"text-align: right;\">\n",
       "      <th></th>\n",
       "      <th>update_time</th>\n",
       "      <th>id</th>\n",
       "      <th>title</th>\n",
       "      <th>price</th>\n",
       "      <th>sale_count</th>\n",
       "      <th>comment_count</th>\n",
       "      <th>店名</th>\n",
       "      <th>item_name_cut</th>\n",
       "      <th>sub_type_all</th>\n",
       "      <th>main_type_all</th>\n",
       "    </tr>\n",
       "  </thead>\n",
       "  <tbody>\n",
       "    <tr>\n",
       "      <td>0</td>\n",
       "      <td>2016/11/14</td>\n",
       "      <td>A18164178225</td>\n",
       "      <td>CHANDO/自然堂 雪域精粹纯粹滋润霜50g 补水保湿 滋润水润面霜</td>\n",
       "      <td>139.0</td>\n",
       "      <td>26719.0</td>\n",
       "      <td>2704.0</td>\n",
       "      <td>自然堂</td>\n",
       "      <td>[CHANDO, /, 自然, 堂,  , 雪域, 精粹, 纯粹, 滋润霜, 50g,  ,...</td>\n",
       "      <td>面霜类</td>\n",
       "      <td>护肤品</td>\n",
       "    </tr>\n",
       "    <tr>\n",
       "      <td>1</td>\n",
       "      <td>2016/11/14</td>\n",
       "      <td>A18177105952</td>\n",
       "      <td>CHANDO/自然堂凝时鲜颜肌活乳液120ML 淡化细纹补水滋润专柜正品</td>\n",
       "      <td>194.0</td>\n",
       "      <td>8122.0</td>\n",
       "      <td>1492.0</td>\n",
       "      <td>自然堂</td>\n",
       "      <td>[CHANDO, /, 自然, 堂, 凝, 时鲜, 颜肌活, 乳液, 120ML,  , 淡...</td>\n",
       "      <td>乳液类</td>\n",
       "      <td>护肤品</td>\n",
       "    </tr>\n",
       "  </tbody>\n",
       "</table>\n",
       "</div>"
      ],
      "text/plain": [
       "  update_time            id                                 title  price  \\\n",
       "0  2016/11/14  A18164178225   CHANDO/自然堂 雪域精粹纯粹滋润霜50g 补水保湿 滋润水润面霜  139.0   \n",
       "1  2016/11/14  A18177105952  CHANDO/自然堂凝时鲜颜肌活乳液120ML 淡化细纹补水滋润专柜正品  194.0   \n",
       "\n",
       "   sale_count  comment_count   店名  \\\n",
       "0     26719.0         2704.0  自然堂   \n",
       "1      8122.0         1492.0  自然堂   \n",
       "\n",
       "                                       item_name_cut sub_type_all  \\\n",
       "0  [CHANDO, /, 自然, 堂,  , 雪域, 精粹, 纯粹, 滋润霜, 50g,  ,...          面霜类   \n",
       "1  [CHANDO, /, 自然, 堂, 凝, 时鲜, 颜肌活, 乳液, 120ML,  , 淡...          乳液类   \n",
       "\n",
       "  main_type_all  \n",
       "0           护肤品  \n",
       "1           护肤品  "
      ]
     },
     "execution_count": 265,
     "metadata": {},
     "output_type": "execute_result"
    }
   ],
   "source": [
    "import copy \n",
    "df6 = copy.deepcopy(data)\n",
    "df6.head(2)"
   ]
  },
  {
   "cell_type": "code",
   "execution_count": 266,
   "metadata": {
    "ExecuteTime": {
     "end_time": "2020-03-12T09:12:51.133399Z",
     "start_time": "2020-03-12T09:12:51.121407Z"
    }
   },
   "outputs": [
    {
     "data": {
      "text/plain": [
       "其他      13100\n",
       "清洁类      2922\n",
       "面霜类      2675\n",
       "化妆水      1955\n",
       "底妆类      1790\n",
       "乳液类      1352\n",
       "眼部护理     1114\n",
       "精华类       727\n",
       "口红类       715\n",
       "眼部彩妆      604\n",
       "防晒类       494\n",
       "修容类        64\n",
       "Name: sub_type_all, dtype: int64"
      ]
     },
     "execution_count": 266,
     "metadata": {},
     "output_type": "execute_result"
    }
   ],
   "source": [
    "data['sub_type_all'].value_counts()"
   ]
  },
  {
   "cell_type": "code",
   "execution_count": 267,
   "metadata": {
    "ExecuteTime": {
     "end_time": "2020-03-12T09:13:10.481590Z",
     "start_time": "2020-03-12T09:13:10.469595Z"
    },
    "id": "E50875AB6AB04171BB01C0E2521BE91E",
    "jupyter": {},
    "scrolled": false,
    "slideshow": {
     "slide_type": "slide"
    },
    "tags": []
   },
   "outputs": [
    {
     "data": {
      "text/plain": [
       "其他     13100\n",
       "护肤品    11239\n",
       "化妆品     3173\n",
       "Name: main_type_all, dtype: int64"
      ]
     },
     "execution_count": 267,
     "metadata": {},
     "output_type": "execute_result"
    }
   ],
   "source": [
    "data['main_type_all'].value_counts()"
   ]
  },
  {
   "cell_type": "markdown",
   "metadata": {
    "id": "D4F8EDE0962E41268AD9BA2B4FA4401A",
    "jupyter": {},
    "mdEditEnable": false,
    "slideshow": {
     "slide_type": "slide"
    },
    "tags": []
   },
   "source": [
    "## 构造是否男士专用特征"
   ]
  },
  {
   "cell_type": "code",
   "execution_count": 268,
   "metadata": {
    "ExecuteTime": {
     "end_time": "2020-03-12T09:14:57.485380Z",
     "start_time": "2020-03-12T09:14:57.465391Z"
    },
    "scrolled": true
   },
   "outputs": [
    {
     "data": {
      "text/html": [
       "<div>\n",
       "<style scoped>\n",
       "    .dataframe tbody tr th:only-of-type {\n",
       "        vertical-align: middle;\n",
       "    }\n",
       "\n",
       "    .dataframe tbody tr th {\n",
       "        vertical-align: top;\n",
       "    }\n",
       "\n",
       "    .dataframe thead th {\n",
       "        text-align: right;\n",
       "    }\n",
       "</style>\n",
       "<table border=\"1\" class=\"dataframe\">\n",
       "  <thead>\n",
       "    <tr style=\"text-align: right;\">\n",
       "      <th></th>\n",
       "      <th>update_time</th>\n",
       "      <th>id</th>\n",
       "      <th>title</th>\n",
       "      <th>price</th>\n",
       "      <th>sale_count</th>\n",
       "      <th>comment_count</th>\n",
       "      <th>店名</th>\n",
       "      <th>item_name_cut</th>\n",
       "      <th>sub_type_all</th>\n",
       "      <th>main_type_all</th>\n",
       "    </tr>\n",
       "  </thead>\n",
       "  <tbody>\n",
       "    <tr>\n",
       "      <td>0</td>\n",
       "      <td>2016/11/14</td>\n",
       "      <td>A18164178225</td>\n",
       "      <td>CHANDO/自然堂 雪域精粹纯粹滋润霜50g 补水保湿 滋润水润面霜</td>\n",
       "      <td>139.0</td>\n",
       "      <td>26719.0</td>\n",
       "      <td>2704.0</td>\n",
       "      <td>自然堂</td>\n",
       "      <td>[CHANDO, /, 自然, 堂,  , 雪域, 精粹, 纯粹, 滋润霜, 50g,  ,...</td>\n",
       "      <td>面霜类</td>\n",
       "      <td>护肤品</td>\n",
       "    </tr>\n",
       "    <tr>\n",
       "      <td>1</td>\n",
       "      <td>2016/11/14</td>\n",
       "      <td>A18177105952</td>\n",
       "      <td>CHANDO/自然堂凝时鲜颜肌活乳液120ML 淡化细纹补水滋润专柜正品</td>\n",
       "      <td>194.0</td>\n",
       "      <td>8122.0</td>\n",
       "      <td>1492.0</td>\n",
       "      <td>自然堂</td>\n",
       "      <td>[CHANDO, /, 自然, 堂, 凝, 时鲜, 颜肌活, 乳液, 120ML,  , 淡...</td>\n",
       "      <td>乳液类</td>\n",
       "      <td>护肤品</td>\n",
       "    </tr>\n",
       "  </tbody>\n",
       "</table>\n",
       "</div>"
      ],
      "text/plain": [
       "  update_time            id                                 title  price  \\\n",
       "0  2016/11/14  A18164178225   CHANDO/自然堂 雪域精粹纯粹滋润霜50g 补水保湿 滋润水润面霜  139.0   \n",
       "1  2016/11/14  A18177105952  CHANDO/自然堂凝时鲜颜肌活乳液120ML 淡化细纹补水滋润专柜正品  194.0   \n",
       "\n",
       "   sale_count  comment_count   店名  \\\n",
       "0     26719.0         2704.0  自然堂   \n",
       "1      8122.0         1492.0  自然堂   \n",
       "\n",
       "                                       item_name_cut sub_type_all  \\\n",
       "0  [CHANDO, /, 自然, 堂,  , 雪域, 精粹, 纯粹, 滋润霜, 50g,  ,...          面霜类   \n",
       "1  [CHANDO, /, 自然, 堂, 凝, 时鲜, 颜肌活, 乳液, 120ML,  , 淡...          乳液类   \n",
       "\n",
       "  main_type_all  \n",
       "0           护肤品  \n",
       "1           护肤品  "
      ]
     },
     "execution_count": 268,
     "metadata": {},
     "output_type": "execute_result"
    }
   ],
   "source": [
    "data.head(2)"
   ]
  },
  {
   "cell_type": "code",
   "execution_count": 271,
   "metadata": {
    "ExecuteTime": {
     "end_time": "2020-03-12T09:16:40.867046Z",
     "start_time": "2020-03-12T09:16:40.860054Z"
    }
   },
   "outputs": [
    {
     "name": "stdout",
     "output_type": "stream",
     "text": [
      "['CHANDO', '/', '自然', '堂', ' ', '雪域', '精粹', '纯粹', '滋润霜', '50g', ' ', '补水', '保湿', ' ', '滋润', '水润', '面霜']\n"
     ]
    }
   ],
   "source": [
    "print(data.item_name_cut[0])"
   ]
  },
  {
   "cell_type": "code",
   "execution_count": 42,
   "metadata": {
    "id": "E5025F5952C24A3780E28CEBC95E7F0B",
    "jupyter": {},
    "scrolled": false,
    "slideshow": {
     "slide_type": "slide"
    },
    "tags": []
   },
   "outputs": [
    {
     "data": {
      "text/plain": [
       "False"
      ]
     },
     "execution_count": 42,
     "metadata": {},
     "output_type": "execute_result"
    }
   ],
   "source": [
    "'男' in data.item_name_cut[0]"
   ]
  },
  {
   "cell_type": "code",
   "execution_count": 270,
   "metadata": {
    "ExecuteTime": {
     "end_time": "2020-03-12T09:16:35.764517Z",
     "start_time": "2020-03-12T09:16:35.757521Z"
    },
    "id": "3B120DCC04364DA980B4715EC6BD0FE5",
    "jupyter": {},
    "scrolled": false,
    "slideshow": {
     "slide_type": "slide"
    },
    "tags": []
   },
   "outputs": [
    {
     "data": {
      "text/plain": [
       "True"
      ]
     },
     "execution_count": 270,
     "metadata": {},
     "output_type": "execute_result"
    }
   ],
   "source": [
    "'自然' in data.item_name_cut[0]"
   ]
  },
  {
   "cell_type": "code",
   "execution_count": 275,
   "metadata": {
    "ExecuteTime": {
     "end_time": "2020-03-12T09:21:07.933665Z",
     "start_time": "2020-03-12T09:21:06.097742Z"
    }
   },
   "outputs": [],
   "source": [
    "data['item_name_cut'].to_excel(\"./item_name_cut.xls\", index=False)"
   ]
  },
  {
   "cell_type": "code",
   "execution_count": 276,
   "metadata": {
    "ExecuteTime": {
     "end_time": "2020-03-12T09:44:57.537276Z",
     "start_time": "2020-03-12T09:44:53.897532Z"
    },
    "id": "5F97CE471AA74E1E8DF947E42CED7817",
    "jupyter": {},
    "scrolled": false,
    "slideshow": {
     "slide_type": "slide"
    },
    "tags": []
   },
   "outputs": [],
   "source": [
    "man = []\n",
    "\n",
    "for i in range(len(data)):\n",
    "    if '男' in data.item_name_cut[i]:\n",
    "        man.append('是')\n",
    "    elif '男士' in data.item_name_cut[i]:\n",
    "        man.append('是')\n",
    "    elif '男生' in data.item_name_cut[i]:\n",
    "        man.append('是')\n",
    "    else:\n",
    "        man.append('否')"
   ]
  },
  {
   "cell_type": "code",
   "execution_count": 279,
   "metadata": {
    "ExecuteTime": {
     "end_time": "2020-03-12T09:45:26.597267Z",
     "start_time": "2020-03-12T09:45:26.589273Z"
    }
   },
   "outputs": [
    {
     "data": {
      "text/plain": [
       "(['否', '否', '否', '是', '否', '否', '否', '否', '否', '否'], 27512, 27512)"
      ]
     },
     "execution_count": 279,
     "metadata": {},
     "output_type": "execute_result"
    }
   ],
   "source": [
    "man[0:10],len(man),len(data)"
   ]
  },
  {
   "cell_type": "code",
   "execution_count": 280,
   "metadata": {
    "ExecuteTime": {
     "end_time": "2020-03-12T09:45:50.138679Z",
     "start_time": "2020-03-12T09:45:50.111697Z"
    },
    "id": "C6F8B938F31F459A95CD7DB26F8275D9",
    "jupyter": {},
    "scrolled": false,
    "slideshow": {
     "slide_type": "slide"
    },
    "tags": []
   },
   "outputs": [
    {
     "data": {
      "text/html": [
       "<div>\n",
       "<style scoped>\n",
       "    .dataframe tbody tr th:only-of-type {\n",
       "        vertical-align: middle;\n",
       "    }\n",
       "\n",
       "    .dataframe tbody tr th {\n",
       "        vertical-align: top;\n",
       "    }\n",
       "\n",
       "    .dataframe thead th {\n",
       "        text-align: right;\n",
       "    }\n",
       "</style>\n",
       "<table border=\"1\" class=\"dataframe\">\n",
       "  <thead>\n",
       "    <tr style=\"text-align: right;\">\n",
       "      <th></th>\n",
       "      <th>update_time</th>\n",
       "      <th>id</th>\n",
       "      <th>title</th>\n",
       "      <th>price</th>\n",
       "      <th>sale_count</th>\n",
       "      <th>comment_count</th>\n",
       "      <th>店名</th>\n",
       "      <th>item_name_cut</th>\n",
       "      <th>sub_type_all</th>\n",
       "      <th>main_type_all</th>\n",
       "      <th>是否男士专用</th>\n",
       "    </tr>\n",
       "  </thead>\n",
       "  <tbody>\n",
       "    <tr>\n",
       "      <td>0</td>\n",
       "      <td>2016/11/14</td>\n",
       "      <td>A18164178225</td>\n",
       "      <td>CHANDO/自然堂 雪域精粹纯粹滋润霜50g 补水保湿 滋润水润面霜</td>\n",
       "      <td>139.0</td>\n",
       "      <td>26719.0</td>\n",
       "      <td>2704.0</td>\n",
       "      <td>自然堂</td>\n",
       "      <td>[CHANDO, /, 自然, 堂,  , 雪域, 精粹, 纯粹, 滋润霜, 50g,  ,...</td>\n",
       "      <td>面霜类</td>\n",
       "      <td>护肤品</td>\n",
       "      <td>否</td>\n",
       "    </tr>\n",
       "    <tr>\n",
       "      <td>1</td>\n",
       "      <td>2016/11/14</td>\n",
       "      <td>A18177105952</td>\n",
       "      <td>CHANDO/自然堂凝时鲜颜肌活乳液120ML 淡化细纹补水滋润专柜正品</td>\n",
       "      <td>194.0</td>\n",
       "      <td>8122.0</td>\n",
       "      <td>1492.0</td>\n",
       "      <td>自然堂</td>\n",
       "      <td>[CHANDO, /, 自然, 堂, 凝, 时鲜, 颜肌活, 乳液, 120ML,  , 淡...</td>\n",
       "      <td>乳液类</td>\n",
       "      <td>护肤品</td>\n",
       "      <td>否</td>\n",
       "    </tr>\n",
       "  </tbody>\n",
       "</table>\n",
       "</div>"
      ],
      "text/plain": [
       "  update_time            id                                 title  price  \\\n",
       "0  2016/11/14  A18164178225   CHANDO/自然堂 雪域精粹纯粹滋润霜50g 补水保湿 滋润水润面霜  139.0   \n",
       "1  2016/11/14  A18177105952  CHANDO/自然堂凝时鲜颜肌活乳液120ML 淡化细纹补水滋润专柜正品  194.0   \n",
       "\n",
       "   sale_count  comment_count   店名  \\\n",
       "0     26719.0         2704.0  自然堂   \n",
       "1      8122.0         1492.0  自然堂   \n",
       "\n",
       "                                       item_name_cut sub_type_all  \\\n",
       "0  [CHANDO, /, 自然, 堂,  , 雪域, 精粹, 纯粹, 滋润霜, 50g,  ,...          面霜类   \n",
       "1  [CHANDO, /, 自然, 堂, 凝, 时鲜, 颜肌活, 乳液, 120ML,  , 淡...          乳液类   \n",
       "\n",
       "  main_type_all 是否男士专用  \n",
       "0           护肤品      否  \n",
       "1           护肤品      否  "
      ]
     },
     "execution_count": 280,
     "metadata": {},
     "output_type": "execute_result"
    }
   ],
   "source": [
    "data['是否男士专用'] = man\n",
    "data.head(2)"
   ]
  },
  {
   "cell_type": "code",
   "execution_count": 281,
   "metadata": {
    "ExecuteTime": {
     "end_time": "2020-03-12T09:46:06.338637Z",
     "start_time": "2020-03-12T09:46:06.323648Z"
    }
   },
   "outputs": [
    {
     "data": {
      "text/plain": [
       "否    25310\n",
       "是     2202\n",
       "Name: 是否男士专用, dtype: int64"
      ]
     },
     "execution_count": 281,
     "metadata": {},
     "output_type": "execute_result"
    }
   ],
   "source": [
    "data['是否男士专用'].value_counts()"
   ]
  },
  {
   "cell_type": "code",
   "execution_count": 282,
   "metadata": {
    "ExecuteTime": {
     "end_time": "2020-03-12T09:46:35.053844Z",
     "start_time": "2020-03-12T09:46:35.020864Z"
    }
   },
   "outputs": [
    {
     "data": {
      "text/html": [
       "<div>\n",
       "<style scoped>\n",
       "    .dataframe tbody tr th:only-of-type {\n",
       "        vertical-align: middle;\n",
       "    }\n",
       "\n",
       "    .dataframe tbody tr th {\n",
       "        vertical-align: top;\n",
       "    }\n",
       "\n",
       "    .dataframe thead th {\n",
       "        text-align: right;\n",
       "    }\n",
       "</style>\n",
       "<table border=\"1\" class=\"dataframe\">\n",
       "  <thead>\n",
       "    <tr style=\"text-align: right;\">\n",
       "      <th></th>\n",
       "      <th>update_time</th>\n",
       "      <th>id</th>\n",
       "      <th>title</th>\n",
       "      <th>price</th>\n",
       "      <th>sale_count</th>\n",
       "      <th>comment_count</th>\n",
       "      <th>店名</th>\n",
       "      <th>item_name_cut</th>\n",
       "      <th>sub_type_all</th>\n",
       "      <th>main_type_all</th>\n",
       "      <th>是否男士专用</th>\n",
       "    </tr>\n",
       "  </thead>\n",
       "  <tbody>\n",
       "    <tr>\n",
       "      <td>0</td>\n",
       "      <td>2016/11/14</td>\n",
       "      <td>A18164178225</td>\n",
       "      <td>CHANDO/自然堂 雪域精粹纯粹滋润霜50g 补水保湿 滋润水润面霜</td>\n",
       "      <td>139.0</td>\n",
       "      <td>26719.0</td>\n",
       "      <td>2704.0</td>\n",
       "      <td>自然堂</td>\n",
       "      <td>[CHANDO, /, 自然, 堂,  , 雪域, 精粹, 纯粹, 滋润霜, 50g,  ,...</td>\n",
       "      <td>面霜类</td>\n",
       "      <td>护肤品</td>\n",
       "      <td>否</td>\n",
       "    </tr>\n",
       "    <tr>\n",
       "      <td>1</td>\n",
       "      <td>2016/11/14</td>\n",
       "      <td>A18177105952</td>\n",
       "      <td>CHANDO/自然堂凝时鲜颜肌活乳液120ML 淡化细纹补水滋润专柜正品</td>\n",
       "      <td>194.0</td>\n",
       "      <td>8122.0</td>\n",
       "      <td>1492.0</td>\n",
       "      <td>自然堂</td>\n",
       "      <td>[CHANDO, /, 自然, 堂, 凝, 时鲜, 颜肌活, 乳液, 120ML,  , 淡...</td>\n",
       "      <td>乳液类</td>\n",
       "      <td>护肤品</td>\n",
       "      <td>否</td>\n",
       "    </tr>\n",
       "  </tbody>\n",
       "</table>\n",
       "</div>"
      ],
      "text/plain": [
       "  update_time            id                                 title  price  \\\n",
       "0  2016/11/14  A18164178225   CHANDO/自然堂 雪域精粹纯粹滋润霜50g 补水保湿 滋润水润面霜  139.0   \n",
       "1  2016/11/14  A18177105952  CHANDO/自然堂凝时鲜颜肌活乳液120ML 淡化细纹补水滋润专柜正品  194.0   \n",
       "\n",
       "   sale_count  comment_count   店名  \\\n",
       "0     26719.0         2704.0  自然堂   \n",
       "1      8122.0         1492.0  自然堂   \n",
       "\n",
       "                                       item_name_cut sub_type_all  \\\n",
       "0  [CHANDO, /, 自然, 堂,  , 雪域, 精粹, 纯粹, 滋润霜, 50g,  ,...          面霜类   \n",
       "1  [CHANDO, /, 自然, 堂, 凝, 时鲜, 颜肌活, 乳液, 120ML,  , 淡...          乳液类   \n",
       "\n",
       "  main_type_all 是否男士专用  \n",
       "0           护肤品      否  \n",
       "1           护肤品      否  "
      ]
     },
     "execution_count": 282,
     "metadata": {},
     "output_type": "execute_result"
    }
   ],
   "source": [
    "import copy \n",
    "df7 = copy.deepcopy(data)\n",
    "df7.head(2)"
   ]
  },
  {
   "cell_type": "markdown",
   "metadata": {
    "id": "FF0623645DD543F58DF52BEA4CA59A95",
    "jupyter": {},
    "slideshow": {
     "slide_type": "slide"
    },
    "tags": []
   },
   "source": [
    "## 销售额特征"
   ]
  },
  {
   "cell_type": "code",
   "execution_count": 283,
   "metadata": {
    "ExecuteTime": {
     "end_time": "2020-03-12T09:47:50.427133Z",
     "start_time": "2020-03-12T09:47:50.405150Z"
    }
   },
   "outputs": [
    {
     "data": {
      "text/html": [
       "<div>\n",
       "<style scoped>\n",
       "    .dataframe tbody tr th:only-of-type {\n",
       "        vertical-align: middle;\n",
       "    }\n",
       "\n",
       "    .dataframe tbody tr th {\n",
       "        vertical-align: top;\n",
       "    }\n",
       "\n",
       "    .dataframe thead th {\n",
       "        text-align: right;\n",
       "    }\n",
       "</style>\n",
       "<table border=\"1\" class=\"dataframe\">\n",
       "  <thead>\n",
       "    <tr style=\"text-align: right;\">\n",
       "      <th></th>\n",
       "      <th>update_time</th>\n",
       "      <th>id</th>\n",
       "      <th>title</th>\n",
       "      <th>price</th>\n",
       "      <th>sale_count</th>\n",
       "      <th>comment_count</th>\n",
       "      <th>店名</th>\n",
       "      <th>item_name_cut</th>\n",
       "      <th>sub_type_all</th>\n",
       "      <th>main_type_all</th>\n",
       "      <th>是否男士专用</th>\n",
       "    </tr>\n",
       "  </thead>\n",
       "  <tbody>\n",
       "    <tr>\n",
       "      <td>0</td>\n",
       "      <td>2016/11/14</td>\n",
       "      <td>A18164178225</td>\n",
       "      <td>CHANDO/自然堂 雪域精粹纯粹滋润霜50g 补水保湿 滋润水润面霜</td>\n",
       "      <td>139.0</td>\n",
       "      <td>26719.0</td>\n",
       "      <td>2704.0</td>\n",
       "      <td>自然堂</td>\n",
       "      <td>[CHANDO, /, 自然, 堂,  , 雪域, 精粹, 纯粹, 滋润霜, 50g,  ,...</td>\n",
       "      <td>面霜类</td>\n",
       "      <td>护肤品</td>\n",
       "      <td>否</td>\n",
       "    </tr>\n",
       "    <tr>\n",
       "      <td>1</td>\n",
       "      <td>2016/11/14</td>\n",
       "      <td>A18177105952</td>\n",
       "      <td>CHANDO/自然堂凝时鲜颜肌活乳液120ML 淡化细纹补水滋润专柜正品</td>\n",
       "      <td>194.0</td>\n",
       "      <td>8122.0</td>\n",
       "      <td>1492.0</td>\n",
       "      <td>自然堂</td>\n",
       "      <td>[CHANDO, /, 自然, 堂, 凝, 时鲜, 颜肌活, 乳液, 120ML,  , 淡...</td>\n",
       "      <td>乳液类</td>\n",
       "      <td>护肤品</td>\n",
       "      <td>否</td>\n",
       "    </tr>\n",
       "  </tbody>\n",
       "</table>\n",
       "</div>"
      ],
      "text/plain": [
       "  update_time            id                                 title  price  \\\n",
       "0  2016/11/14  A18164178225   CHANDO/自然堂 雪域精粹纯粹滋润霜50g 补水保湿 滋润水润面霜  139.0   \n",
       "1  2016/11/14  A18177105952  CHANDO/自然堂凝时鲜颜肌活乳液120ML 淡化细纹补水滋润专柜正品  194.0   \n",
       "\n",
       "   sale_count  comment_count   店名  \\\n",
       "0     26719.0         2704.0  自然堂   \n",
       "1      8122.0         1492.0  自然堂   \n",
       "\n",
       "                                       item_name_cut sub_type_all  \\\n",
       "0  [CHANDO, /, 自然, 堂,  , 雪域, 精粹, 纯粹, 滋润霜, 50g,  ,...          面霜类   \n",
       "1  [CHANDO, /, 自然, 堂, 凝, 时鲜, 颜肌活, 乳液, 120ML,  , 淡...          乳液类   \n",
       "\n",
       "  main_type_all 是否男士专用  \n",
       "0           护肤品      否  \n",
       "1           护肤品      否  "
      ]
     },
     "execution_count": 283,
     "metadata": {},
     "output_type": "execute_result"
    }
   ],
   "source": [
    "data.head(2)"
   ]
  },
  {
   "cell_type": "code",
   "execution_count": 284,
   "metadata": {
    "ExecuteTime": {
     "end_time": "2020-03-12T09:48:05.215968Z",
     "start_time": "2020-03-12T09:48:05.114036Z"
    },
    "id": "EB725349FBD04A16990622045DFE2AF7",
    "jupyter": {},
    "scrolled": false,
    "slideshow": {
     "slide_type": "slide"
    },
    "tags": []
   },
   "outputs": [
    {
     "data": {
      "text/plain": [
       "0    3713941.0\n",
       "1    1575668.0\n",
       "Name: 销售额, dtype: float64"
      ]
     },
     "execution_count": 284,
     "metadata": {},
     "output_type": "execute_result"
    }
   ],
   "source": [
    "# 销售额=销售量*价格\n",
    "data['销售额'] = data.sale_count * data.price\n",
    "data['销售额'].head(2)"
   ]
  },
  {
   "cell_type": "code",
   "execution_count": 285,
   "metadata": {
    "ExecuteTime": {
     "end_time": "2020-03-12T09:48:10.998385Z",
     "start_time": "2020-03-12T09:48:10.969403Z"
    }
   },
   "outputs": [
    {
     "data": {
      "text/html": [
       "<div>\n",
       "<style scoped>\n",
       "    .dataframe tbody tr th:only-of-type {\n",
       "        vertical-align: middle;\n",
       "    }\n",
       "\n",
       "    .dataframe tbody tr th {\n",
       "        vertical-align: top;\n",
       "    }\n",
       "\n",
       "    .dataframe thead th {\n",
       "        text-align: right;\n",
       "    }\n",
       "</style>\n",
       "<table border=\"1\" class=\"dataframe\">\n",
       "  <thead>\n",
       "    <tr style=\"text-align: right;\">\n",
       "      <th></th>\n",
       "      <th>update_time</th>\n",
       "      <th>id</th>\n",
       "      <th>title</th>\n",
       "      <th>price</th>\n",
       "      <th>sale_count</th>\n",
       "      <th>comment_count</th>\n",
       "      <th>店名</th>\n",
       "      <th>item_name_cut</th>\n",
       "      <th>sub_type_all</th>\n",
       "      <th>main_type_all</th>\n",
       "      <th>是否男士专用</th>\n",
       "      <th>销售额</th>\n",
       "    </tr>\n",
       "  </thead>\n",
       "  <tbody>\n",
       "    <tr>\n",
       "      <td>0</td>\n",
       "      <td>2016/11/14</td>\n",
       "      <td>A18164178225</td>\n",
       "      <td>CHANDO/自然堂 雪域精粹纯粹滋润霜50g 补水保湿 滋润水润面霜</td>\n",
       "      <td>139.0</td>\n",
       "      <td>26719.0</td>\n",
       "      <td>2704.0</td>\n",
       "      <td>自然堂</td>\n",
       "      <td>[CHANDO, /, 自然, 堂,  , 雪域, 精粹, 纯粹, 滋润霜, 50g,  ,...</td>\n",
       "      <td>面霜类</td>\n",
       "      <td>护肤品</td>\n",
       "      <td>否</td>\n",
       "      <td>3713941.0</td>\n",
       "    </tr>\n",
       "    <tr>\n",
       "      <td>1</td>\n",
       "      <td>2016/11/14</td>\n",
       "      <td>A18177105952</td>\n",
       "      <td>CHANDO/自然堂凝时鲜颜肌活乳液120ML 淡化细纹补水滋润专柜正品</td>\n",
       "      <td>194.0</td>\n",
       "      <td>8122.0</td>\n",
       "      <td>1492.0</td>\n",
       "      <td>自然堂</td>\n",
       "      <td>[CHANDO, /, 自然, 堂, 凝, 时鲜, 颜肌活, 乳液, 120ML,  , 淡...</td>\n",
       "      <td>乳液类</td>\n",
       "      <td>护肤品</td>\n",
       "      <td>否</td>\n",
       "      <td>1575668.0</td>\n",
       "    </tr>\n",
       "  </tbody>\n",
       "</table>\n",
       "</div>"
      ],
      "text/plain": [
       "  update_time            id                                 title  price  \\\n",
       "0  2016/11/14  A18164178225   CHANDO/自然堂 雪域精粹纯粹滋润霜50g 补水保湿 滋润水润面霜  139.0   \n",
       "1  2016/11/14  A18177105952  CHANDO/自然堂凝时鲜颜肌活乳液120ML 淡化细纹补水滋润专柜正品  194.0   \n",
       "\n",
       "   sale_count  comment_count   店名  \\\n",
       "0     26719.0         2704.0  自然堂   \n",
       "1      8122.0         1492.0  自然堂   \n",
       "\n",
       "                                       item_name_cut sub_type_all  \\\n",
       "0  [CHANDO, /, 自然, 堂,  , 雪域, 精粹, 纯粹, 滋润霜, 50g,  ,...          面霜类   \n",
       "1  [CHANDO, /, 自然, 堂, 凝, 时鲜, 颜肌活, 乳液, 120ML,  , 淡...          乳液类   \n",
       "\n",
       "  main_type_all 是否男士专用        销售额  \n",
       "0           护肤品      否  3713941.0  \n",
       "1           护肤品      否  1575668.0  "
      ]
     },
     "execution_count": 285,
     "metadata": {},
     "output_type": "execute_result"
    }
   ],
   "source": [
    "data.head(2)"
   ]
  },
  {
   "cell_type": "markdown",
   "metadata": {
    "id": "06FD76B9AFFE4096A44785DE427C9D25",
    "jupyter": {},
    "slideshow": {
     "slide_type": "slide"
    },
    "tags": []
   },
   "source": [
    "## 购买日期索引"
   ]
  },
  {
   "cell_type": "code",
   "execution_count": 288,
   "metadata": {
    "ExecuteTime": {
     "end_time": "2020-03-12T09:49:08.403810Z",
     "start_time": "2020-03-12T09:49:08.366834Z"
    },
    "id": "62AB93F073194525823C9841E503B53D",
    "jupyter": {},
    "scrolled": false,
    "slideshow": {
     "slide_type": "slide"
    },
    "tags": []
   },
   "outputs": [],
   "source": [
    "# 转换时间格式\n",
    "data['update_time'] = pd.to_datetime(data['update_time'])"
   ]
  },
  {
   "cell_type": "code",
   "execution_count": 289,
   "metadata": {
    "ExecuteTime": {
     "end_time": "2020-03-12T09:49:10.238674Z",
     "start_time": "2020-03-12T09:49:10.209692Z"
    }
   },
   "outputs": [
    {
     "name": "stdout",
     "output_type": "stream",
     "text": [
      "<class 'pandas.core.frame.DataFrame'>\n",
      "RangeIndex: 27512 entries, 0 to 27511\n",
      "Data columns (total 12 columns):\n",
      "update_time      27512 non-null datetime64[ns]\n",
      "id               27512 non-null object\n",
      "title            27512 non-null object\n",
      "price            27512 non-null float64\n",
      "sale_count       27512 non-null float64\n",
      "comment_count    27512 non-null float64\n",
      "店名               27512 non-null object\n",
      "item_name_cut    27512 non-null object\n",
      "sub_type_all     27512 non-null object\n",
      "main_type_all    27512 non-null object\n",
      "是否男士专用           27512 non-null object\n",
      "销售额              27512 non-null float64\n",
      "dtypes: datetime64[ns](1), float64(4), object(7)\n",
      "memory usage: 2.5+ MB\n"
     ]
    }
   ],
   "source": [
    "data.info()"
   ]
  },
  {
   "cell_type": "code",
   "execution_count": 290,
   "metadata": {
    "ExecuteTime": {
     "end_time": "2020-03-12T09:49:15.198599Z",
     "start_time": "2020-03-12T09:49:15.173614Z"
    },
    "id": "4F3AB6E83CA747DC8DCE4D68777C1D56",
    "jupyter": {},
    "scrolled": false,
    "slideshow": {
     "slide_type": "slide"
    },
    "tags": []
   },
   "outputs": [
    {
     "data": {
      "text/plain": [
       "0   2016-11-14\n",
       "1   2016-11-14\n",
       "Name: update_time, dtype: datetime64[ns]"
      ]
     },
     "execution_count": 290,
     "metadata": {},
     "output_type": "execute_result"
    }
   ],
   "source": [
    "data['update_time'][0:2]"
   ]
  },
  {
   "cell_type": "code",
   "execution_count": 291,
   "metadata": {
    "ExecuteTime": {
     "end_time": "2020-03-12T09:49:27.210154Z",
     "start_time": "2020-03-12T09:49:27.147196Z"
    },
    "id": "4EBD1BC2EDD0431CA5D292F4E3D0F8F0",
    "jupyter": {},
    "scrolled": true,
    "slideshow": {
     "slide_type": "slide"
    },
    "tags": []
   },
   "outputs": [
    {
     "data": {
      "text/html": [
       "<div>\n",
       "<style scoped>\n",
       "    .dataframe tbody tr th:only-of-type {\n",
       "        vertical-align: middle;\n",
       "    }\n",
       "\n",
       "    .dataframe tbody tr th {\n",
       "        vertical-align: top;\n",
       "    }\n",
       "\n",
       "    .dataframe thead th {\n",
       "        text-align: right;\n",
       "    }\n",
       "</style>\n",
       "<table border=\"1\" class=\"dataframe\">\n",
       "  <thead>\n",
       "    <tr style=\"text-align: right;\">\n",
       "      <th></th>\n",
       "      <th>id</th>\n",
       "      <th>title</th>\n",
       "      <th>price</th>\n",
       "      <th>sale_count</th>\n",
       "      <th>comment_count</th>\n",
       "      <th>店名</th>\n",
       "      <th>item_name_cut</th>\n",
       "      <th>sub_type_all</th>\n",
       "      <th>main_type_all</th>\n",
       "      <th>是否男士专用</th>\n",
       "      <th>销售额</th>\n",
       "    </tr>\n",
       "    <tr>\n",
       "      <th>update_time</th>\n",
       "      <th></th>\n",
       "      <th></th>\n",
       "      <th></th>\n",
       "      <th></th>\n",
       "      <th></th>\n",
       "      <th></th>\n",
       "      <th></th>\n",
       "      <th></th>\n",
       "      <th></th>\n",
       "      <th></th>\n",
       "      <th></th>\n",
       "    </tr>\n",
       "  </thead>\n",
       "  <tbody>\n",
       "    <tr>\n",
       "      <td>2016-11-14</td>\n",
       "      <td>A18164178225</td>\n",
       "      <td>CHANDO/自然堂 雪域精粹纯粹滋润霜50g 补水保湿 滋润水润面霜</td>\n",
       "      <td>139.0</td>\n",
       "      <td>26719.0</td>\n",
       "      <td>2704.0</td>\n",
       "      <td>自然堂</td>\n",
       "      <td>[CHANDO, /, 自然, 堂,  , 雪域, 精粹, 纯粹, 滋润霜, 50g,  ,...</td>\n",
       "      <td>面霜类</td>\n",
       "      <td>护肤品</td>\n",
       "      <td>否</td>\n",
       "      <td>3713941.0</td>\n",
       "    </tr>\n",
       "    <tr>\n",
       "      <td>2016-11-14</td>\n",
       "      <td>A18177105952</td>\n",
       "      <td>CHANDO/自然堂凝时鲜颜肌活乳液120ML 淡化细纹补水滋润专柜正品</td>\n",
       "      <td>194.0</td>\n",
       "      <td>8122.0</td>\n",
       "      <td>1492.0</td>\n",
       "      <td>自然堂</td>\n",
       "      <td>[CHANDO, /, 自然, 堂, 凝, 时鲜, 颜肌活, 乳液, 120ML,  , 淡...</td>\n",
       "      <td>乳液类</td>\n",
       "      <td>护肤品</td>\n",
       "      <td>否</td>\n",
       "      <td>1575668.0</td>\n",
       "    </tr>\n",
       "  </tbody>\n",
       "</table>\n",
       "</div>"
      ],
      "text/plain": [
       "                       id                                 title  price  \\\n",
       "update_time                                                              \n",
       "2016-11-14   A18164178225   CHANDO/自然堂 雪域精粹纯粹滋润霜50g 补水保湿 滋润水润面霜  139.0   \n",
       "2016-11-14   A18177105952  CHANDO/自然堂凝时鲜颜肌活乳液120ML 淡化细纹补水滋润专柜正品  194.0   \n",
       "\n",
       "             sale_count  comment_count   店名  \\\n",
       "update_time                                   \n",
       "2016-11-14      26719.0         2704.0  自然堂   \n",
       "2016-11-14       8122.0         1492.0  自然堂   \n",
       "\n",
       "                                                 item_name_cut sub_type_all  \\\n",
       "update_time                                                                   \n",
       "2016-11-14   [CHANDO, /, 自然, 堂,  , 雪域, 精粹, 纯粹, 滋润霜, 50g,  ,...          面霜类   \n",
       "2016-11-14   [CHANDO, /, 自然, 堂, 凝, 时鲜, 颜肌活, 乳液, 120ML,  , 淡...          乳液类   \n",
       "\n",
       "            main_type_all 是否男士专用        销售额  \n",
       "update_time                                  \n",
       "2016-11-14            护肤品      否  3713941.0  \n",
       "2016-11-14            护肤品      否  1575668.0  "
      ]
     },
     "execution_count": 291,
     "metadata": {},
     "output_type": "execute_result"
    }
   ],
   "source": [
    "# 将时间设置为新的index\n",
    "data = data.set_index('update_time')\n",
    "data.head(2)"
   ]
  },
  {
   "cell_type": "markdown",
   "metadata": {},
   "source": [
    "## 日期 特征"
   ]
  },
  {
   "cell_type": "code",
   "execution_count": 292,
   "metadata": {
    "ExecuteTime": {
     "end_time": "2020-03-12T09:50:36.483225Z",
     "start_time": "2020-03-12T09:50:36.403275Z"
    },
    "id": "C91B8D72BFDC42318F1574B56A29800B",
    "jupyter": {},
    "scrolled": true,
    "slideshow": {
     "slide_type": "slide"
    },
    "tags": []
   },
   "outputs": [
    {
     "data": {
      "text/html": [
       "<div>\n",
       "<style scoped>\n",
       "    .dataframe tbody tr th:only-of-type {\n",
       "        vertical-align: middle;\n",
       "    }\n",
       "\n",
       "    .dataframe tbody tr th {\n",
       "        vertical-align: top;\n",
       "    }\n",
       "\n",
       "    .dataframe thead th {\n",
       "        text-align: right;\n",
       "    }\n",
       "</style>\n",
       "<table border=\"1\" class=\"dataframe\">\n",
       "  <thead>\n",
       "    <tr style=\"text-align: right;\">\n",
       "      <th></th>\n",
       "      <th>id</th>\n",
       "      <th>title</th>\n",
       "      <th>price</th>\n",
       "      <th>sale_count</th>\n",
       "      <th>comment_count</th>\n",
       "      <th>店名</th>\n",
       "      <th>item_name_cut</th>\n",
       "      <th>sub_type_all</th>\n",
       "      <th>main_type_all</th>\n",
       "      <th>是否男士专用</th>\n",
       "      <th>销售额</th>\n",
       "      <th>day</th>\n",
       "    </tr>\n",
       "    <tr>\n",
       "      <th>update_time</th>\n",
       "      <th></th>\n",
       "      <th></th>\n",
       "      <th></th>\n",
       "      <th></th>\n",
       "      <th></th>\n",
       "      <th></th>\n",
       "      <th></th>\n",
       "      <th></th>\n",
       "      <th></th>\n",
       "      <th></th>\n",
       "      <th></th>\n",
       "      <th></th>\n",
       "    </tr>\n",
       "  </thead>\n",
       "  <tbody>\n",
       "    <tr>\n",
       "      <td>2016-11-14</td>\n",
       "      <td>A18164178225</td>\n",
       "      <td>CHANDO/自然堂 雪域精粹纯粹滋润霜50g 补水保湿 滋润水润面霜</td>\n",
       "      <td>139.0</td>\n",
       "      <td>26719.0</td>\n",
       "      <td>2704.0</td>\n",
       "      <td>自然堂</td>\n",
       "      <td>[CHANDO, /, 自然, 堂,  , 雪域, 精粹, 纯粹, 滋润霜, 50g,  ,...</td>\n",
       "      <td>面霜类</td>\n",
       "      <td>护肤品</td>\n",
       "      <td>否</td>\n",
       "      <td>3713941.0</td>\n",
       "      <td>14</td>\n",
       "    </tr>\n",
       "    <tr>\n",
       "      <td>2016-11-14</td>\n",
       "      <td>A18177105952</td>\n",
       "      <td>CHANDO/自然堂凝时鲜颜肌活乳液120ML 淡化细纹补水滋润专柜正品</td>\n",
       "      <td>194.0</td>\n",
       "      <td>8122.0</td>\n",
       "      <td>1492.0</td>\n",
       "      <td>自然堂</td>\n",
       "      <td>[CHANDO, /, 自然, 堂, 凝, 时鲜, 颜肌活, 乳液, 120ML,  , 淡...</td>\n",
       "      <td>乳液类</td>\n",
       "      <td>护肤品</td>\n",
       "      <td>否</td>\n",
       "      <td>1575668.0</td>\n",
       "      <td>14</td>\n",
       "    </tr>\n",
       "  </tbody>\n",
       "</table>\n",
       "</div>"
      ],
      "text/plain": [
       "                       id                                 title  price  \\\n",
       "update_time                                                              \n",
       "2016-11-14   A18164178225   CHANDO/自然堂 雪域精粹纯粹滋润霜50g 补水保湿 滋润水润面霜  139.0   \n",
       "2016-11-14   A18177105952  CHANDO/自然堂凝时鲜颜肌活乳液120ML 淡化细纹补水滋润专柜正品  194.0   \n",
       "\n",
       "             sale_count  comment_count   店名  \\\n",
       "update_time                                   \n",
       "2016-11-14      26719.0         2704.0  自然堂   \n",
       "2016-11-14       8122.0         1492.0  自然堂   \n",
       "\n",
       "                                                 item_name_cut sub_type_all  \\\n",
       "update_time                                                                   \n",
       "2016-11-14   [CHANDO, /, 自然, 堂,  , 雪域, 精粹, 纯粹, 滋润霜, 50g,  ,...          面霜类   \n",
       "2016-11-14   [CHANDO, /, 自然, 堂, 凝, 时鲜, 颜肌活, 乳液, 120ML,  , 淡...          乳液类   \n",
       "\n",
       "            main_type_all 是否男士专用        销售额  day  \n",
       "update_time                                       \n",
       "2016-11-14            护肤品      否  3713941.0   14  \n",
       "2016-11-14            护肤品      否  1575668.0   14  "
      ]
     },
     "execution_count": 292,
     "metadata": {},
     "output_type": "execute_result"
    }
   ],
   "source": [
    "# 新增时间“天”为一列\n",
    "data['day'] = data.index.day\n",
    "data.head(2)"
   ]
  },
  {
   "cell_type": "code",
   "execution_count": 293,
   "metadata": {
    "ExecuteTime": {
     "end_time": "2020-03-12T09:56:03.400350Z",
     "start_time": "2020-03-12T09:56:03.367371Z"
    }
   },
   "outputs": [
    {
     "data": {
      "text/html": [
       "<div>\n",
       "<style scoped>\n",
       "    .dataframe tbody tr th:only-of-type {\n",
       "        vertical-align: middle;\n",
       "    }\n",
       "\n",
       "    .dataframe tbody tr th {\n",
       "        vertical-align: top;\n",
       "    }\n",
       "\n",
       "    .dataframe thead th {\n",
       "        text-align: right;\n",
       "    }\n",
       "</style>\n",
       "<table border=\"1\" class=\"dataframe\">\n",
       "  <thead>\n",
       "    <tr style=\"text-align: right;\">\n",
       "      <th></th>\n",
       "      <th>id</th>\n",
       "      <th>title</th>\n",
       "      <th>price</th>\n",
       "      <th>sale_count</th>\n",
       "      <th>comment_count</th>\n",
       "      <th>店名</th>\n",
       "      <th>item_name_cut</th>\n",
       "      <th>sub_type_all</th>\n",
       "      <th>main_type_all</th>\n",
       "      <th>是否男士专用</th>\n",
       "      <th>销售额</th>\n",
       "      <th>day</th>\n",
       "    </tr>\n",
       "    <tr>\n",
       "      <th>update_time</th>\n",
       "      <th></th>\n",
       "      <th></th>\n",
       "      <th></th>\n",
       "      <th></th>\n",
       "      <th></th>\n",
       "      <th></th>\n",
       "      <th></th>\n",
       "      <th></th>\n",
       "      <th></th>\n",
       "      <th></th>\n",
       "      <th></th>\n",
       "      <th></th>\n",
       "    </tr>\n",
       "  </thead>\n",
       "  <tbody>\n",
       "    <tr>\n",
       "      <td>2016-11-14</td>\n",
       "      <td>A18164178225</td>\n",
       "      <td>CHANDO/自然堂 雪域精粹纯粹滋润霜50g 补水保湿 滋润水润面霜</td>\n",
       "      <td>139.0</td>\n",
       "      <td>26719.0</td>\n",
       "      <td>2704.0</td>\n",
       "      <td>自然堂</td>\n",
       "      <td>[CHANDO, /, 自然, 堂,  , 雪域, 精粹, 纯粹, 滋润霜, 50g,  ,...</td>\n",
       "      <td>面霜类</td>\n",
       "      <td>护肤品</td>\n",
       "      <td>否</td>\n",
       "      <td>3713941.0</td>\n",
       "      <td>14</td>\n",
       "    </tr>\n",
       "    <tr>\n",
       "      <td>2016-11-14</td>\n",
       "      <td>A18177105952</td>\n",
       "      <td>CHANDO/自然堂凝时鲜颜肌活乳液120ML 淡化细纹补水滋润专柜正品</td>\n",
       "      <td>194.0</td>\n",
       "      <td>8122.0</td>\n",
       "      <td>1492.0</td>\n",
       "      <td>自然堂</td>\n",
       "      <td>[CHANDO, /, 自然, 堂, 凝, 时鲜, 颜肌活, 乳液, 120ML,  , 淡...</td>\n",
       "      <td>乳液类</td>\n",
       "      <td>护肤品</td>\n",
       "      <td>否</td>\n",
       "      <td>1575668.0</td>\n",
       "      <td>14</td>\n",
       "    </tr>\n",
       "  </tbody>\n",
       "</table>\n",
       "</div>"
      ],
      "text/plain": [
       "                       id                                 title  price  \\\n",
       "update_time                                                              \n",
       "2016-11-14   A18164178225   CHANDO/自然堂 雪域精粹纯粹滋润霜50g 补水保湿 滋润水润面霜  139.0   \n",
       "2016-11-14   A18177105952  CHANDO/自然堂凝时鲜颜肌活乳液120ML 淡化细纹补水滋润专柜正品  194.0   \n",
       "\n",
       "             sale_count  comment_count   店名  \\\n",
       "update_time                                   \n",
       "2016-11-14      26719.0         2704.0  自然堂   \n",
       "2016-11-14       8122.0         1492.0  自然堂   \n",
       "\n",
       "                                                 item_name_cut sub_type_all  \\\n",
       "update_time                                                                   \n",
       "2016-11-14   [CHANDO, /, 自然, 堂,  , 雪域, 精粹, 纯粹, 滋润霜, 50g,  ,...          面霜类   \n",
       "2016-11-14   [CHANDO, /, 自然, 堂, 凝, 时鲜, 颜肌活, 乳液, 120ML,  , 淡...          乳液类   \n",
       "\n",
       "            main_type_all 是否男士专用        销售额  day  \n",
       "update_time                                       \n",
       "2016-11-14            护肤品      否  3713941.0   14  \n",
       "2016-11-14            护肤品      否  1575668.0   14  "
      ]
     },
     "execution_count": 293,
     "metadata": {},
     "output_type": "execute_result"
    }
   ],
   "source": [
    "import copy \n",
    "df7 = copy.deepcopy(data)\n",
    "df7.head(2)"
   ]
  },
  {
   "cell_type": "markdown",
   "metadata": {
    "id": "44749CCE56EC46C7A44DFCDE8E68B71F",
    "jupyter": {},
    "mdEditEnable": false,
    "slideshow": {
     "slide_type": "slide"
    },
    "tags": []
   },
   "source": [
    "## 导出数据表格"
   ]
  },
  {
   "cell_type": "code",
   "execution_count": 294,
   "metadata": {
    "ExecuteTime": {
     "end_time": "2020-03-12T09:56:13.037377Z",
     "start_time": "2020-03-12T09:56:13.008397Z"
    },
    "id": "31E24ADBD67B447D97567AB6C3D4B1A0",
    "jupyter": {},
    "scrolled": false,
    "slideshow": {
     "slide_type": "slide"
    },
    "tags": []
   },
   "outputs": [
    {
     "data": {
      "text/html": [
       "<div>\n",
       "<style scoped>\n",
       "    .dataframe tbody tr th:only-of-type {\n",
       "        vertical-align: middle;\n",
       "    }\n",
       "\n",
       "    .dataframe tbody tr th {\n",
       "        vertical-align: top;\n",
       "    }\n",
       "\n",
       "    .dataframe thead th {\n",
       "        text-align: right;\n",
       "    }\n",
       "</style>\n",
       "<table border=\"1\" class=\"dataframe\">\n",
       "  <thead>\n",
       "    <tr style=\"text-align: right;\">\n",
       "      <th></th>\n",
       "      <th>id</th>\n",
       "      <th>title</th>\n",
       "      <th>price</th>\n",
       "      <th>sale_count</th>\n",
       "      <th>comment_count</th>\n",
       "      <th>店名</th>\n",
       "      <th>sub_type_all</th>\n",
       "      <th>main_type_all</th>\n",
       "      <th>是否男士专用</th>\n",
       "      <th>销售额</th>\n",
       "      <th>day</th>\n",
       "    </tr>\n",
       "    <tr>\n",
       "      <th>update_time</th>\n",
       "      <th></th>\n",
       "      <th></th>\n",
       "      <th></th>\n",
       "      <th></th>\n",
       "      <th></th>\n",
       "      <th></th>\n",
       "      <th></th>\n",
       "      <th></th>\n",
       "      <th></th>\n",
       "      <th></th>\n",
       "      <th></th>\n",
       "    </tr>\n",
       "  </thead>\n",
       "  <tbody>\n",
       "    <tr>\n",
       "      <td>2016-11-14</td>\n",
       "      <td>A18164178225</td>\n",
       "      <td>CHANDO/自然堂 雪域精粹纯粹滋润霜50g 补水保湿 滋润水润面霜</td>\n",
       "      <td>139.0</td>\n",
       "      <td>26719.0</td>\n",
       "      <td>2704.0</td>\n",
       "      <td>自然堂</td>\n",
       "      <td>面霜类</td>\n",
       "      <td>护肤品</td>\n",
       "      <td>否</td>\n",
       "      <td>3713941.0</td>\n",
       "      <td>14</td>\n",
       "    </tr>\n",
       "    <tr>\n",
       "      <td>2016-11-14</td>\n",
       "      <td>A18177105952</td>\n",
       "      <td>CHANDO/自然堂凝时鲜颜肌活乳液120ML 淡化细纹补水滋润专柜正品</td>\n",
       "      <td>194.0</td>\n",
       "      <td>8122.0</td>\n",
       "      <td>1492.0</td>\n",
       "      <td>自然堂</td>\n",
       "      <td>乳液类</td>\n",
       "      <td>护肤品</td>\n",
       "      <td>否</td>\n",
       "      <td>1575668.0</td>\n",
       "      <td>14</td>\n",
       "    </tr>\n",
       "  </tbody>\n",
       "</table>\n",
       "</div>"
      ],
      "text/plain": [
       "                       id                                 title  price  \\\n",
       "update_time                                                              \n",
       "2016-11-14   A18164178225   CHANDO/自然堂 雪域精粹纯粹滋润霜50g 补水保湿 滋润水润面霜  139.0   \n",
       "2016-11-14   A18177105952  CHANDO/自然堂凝时鲜颜肌活乳液120ML 淡化细纹补水滋润专柜正品  194.0   \n",
       "\n",
       "             sale_count  comment_count   店名 sub_type_all main_type_all 是否男士专用  \\\n",
       "update_time                                                                     \n",
       "2016-11-14      26719.0         2704.0  自然堂          面霜类           护肤品      否   \n",
       "2016-11-14       8122.0         1492.0  自然堂          乳液类           护肤品      否   \n",
       "\n",
       "                   销售额  day  \n",
       "update_time                  \n",
       "2016-11-14   3713941.0   14  \n",
       "2016-11-14   1575668.0   14  "
      ]
     },
     "execution_count": 294,
     "metadata": {},
     "output_type": "execute_result"
    }
   ],
   "source": [
    "# 删除中文分词的一列\n",
    "del data['item_name_cut']\n",
    "data.head(2)"
   ]
  },
  {
   "cell_type": "code",
   "execution_count": 295,
   "metadata": {
    "ExecuteTime": {
     "end_time": "2020-03-12T09:56:37.254371Z",
     "start_time": "2020-03-12T09:56:37.199403Z"
    },
    "id": "CC5E4DF3820B447C98E56CF71144F434",
    "jupyter": {},
    "slideshow": {
     "slide_type": "slide"
    },
    "tags": []
   },
   "outputs": [
    {
     "name": "stdout",
     "output_type": "stream",
     "text": [
      "<class 'pandas.core.frame.DataFrame'>\n",
      "DatetimeIndex: 27512 entries, 2016-11-14 to 2016-11-05\n",
      "Data columns (total 11 columns):\n",
      "id               27512 non-null object\n",
      "title            27512 non-null object\n",
      "price            27512 non-null float64\n",
      "sale_count       27512 non-null float64\n",
      "comment_count    27512 non-null float64\n",
      "店名               27512 non-null object\n",
      "sub_type_all     27512 non-null object\n",
      "main_type_all    27512 non-null object\n",
      "是否男士专用           27512 non-null object\n",
      "销售额              27512 non-null float64\n",
      "day              27512 non-null int64\n",
      "dtypes: float64(4), int64(1), object(6)\n",
      "memory usage: 2.5+ MB\n"
     ]
    }
   ],
   "source": [
    "data.info()"
   ]
  },
  {
   "cell_type": "code",
   "execution_count": 297,
   "metadata": {
    "ExecuteTime": {
     "end_time": "2020-03-12T09:59:42.458595Z",
     "start_time": "2020-03-12T09:59:28.449277Z"
    },
    "id": "C694DC629203434189CF276775F673CB",
    "jupyter": {},
    "mdEditEnable": false,
    "slideshow": {
     "slide_type": "slide"
    },
    "tags": []
   },
   "outputs": [],
   "source": [
    "# 保存清理好的数据为Excel格式\n",
    "\n",
    "data.to_excel('clearn_1212.xls',sheet_name='clean_data')"
   ]
  },
  {
   "cell_type": "code",
   "execution_count": 298,
   "metadata": {
    "ExecuteTime": {
     "end_time": "2020-03-12T10:00:06.568657Z",
     "start_time": "2020-03-12T10:00:06.538678Z"
    }
   },
   "outputs": [
    {
     "data": {
      "text/html": [
       "<div>\n",
       "<style scoped>\n",
       "    .dataframe tbody tr th:only-of-type {\n",
       "        vertical-align: middle;\n",
       "    }\n",
       "\n",
       "    .dataframe tbody tr th {\n",
       "        vertical-align: top;\n",
       "    }\n",
       "\n",
       "    .dataframe thead th {\n",
       "        text-align: right;\n",
       "    }\n",
       "</style>\n",
       "<table border=\"1\" class=\"dataframe\">\n",
       "  <thead>\n",
       "    <tr style=\"text-align: right;\">\n",
       "      <th></th>\n",
       "      <th>id</th>\n",
       "      <th>title</th>\n",
       "      <th>price</th>\n",
       "      <th>sale_count</th>\n",
       "      <th>comment_count</th>\n",
       "      <th>店名</th>\n",
       "      <th>sub_type_all</th>\n",
       "      <th>main_type_all</th>\n",
       "      <th>是否男士专用</th>\n",
       "      <th>销售额</th>\n",
       "      <th>day</th>\n",
       "    </tr>\n",
       "    <tr>\n",
       "      <th>update_time</th>\n",
       "      <th></th>\n",
       "      <th></th>\n",
       "      <th></th>\n",
       "      <th></th>\n",
       "      <th></th>\n",
       "      <th></th>\n",
       "      <th></th>\n",
       "      <th></th>\n",
       "      <th></th>\n",
       "      <th></th>\n",
       "      <th></th>\n",
       "    </tr>\n",
       "  </thead>\n",
       "  <tbody>\n",
       "    <tr>\n",
       "      <td>2016-11-14</td>\n",
       "      <td>A18164178225</td>\n",
       "      <td>CHANDO/自然堂 雪域精粹纯粹滋润霜50g 补水保湿 滋润水润面霜</td>\n",
       "      <td>139.0</td>\n",
       "      <td>26719.0</td>\n",
       "      <td>2704.0</td>\n",
       "      <td>自然堂</td>\n",
       "      <td>面霜类</td>\n",
       "      <td>护肤品</td>\n",
       "      <td>否</td>\n",
       "      <td>3713941.0</td>\n",
       "      <td>14</td>\n",
       "    </tr>\n",
       "    <tr>\n",
       "      <td>2016-11-14</td>\n",
       "      <td>A18177105952</td>\n",
       "      <td>CHANDO/自然堂凝时鲜颜肌活乳液120ML 淡化细纹补水滋润专柜正品</td>\n",
       "      <td>194.0</td>\n",
       "      <td>8122.0</td>\n",
       "      <td>1492.0</td>\n",
       "      <td>自然堂</td>\n",
       "      <td>乳液类</td>\n",
       "      <td>护肤品</td>\n",
       "      <td>否</td>\n",
       "      <td>1575668.0</td>\n",
       "      <td>14</td>\n",
       "    </tr>\n",
       "  </tbody>\n",
       "</table>\n",
       "</div>"
      ],
      "text/plain": [
       "                       id                                 title  price  \\\n",
       "update_time                                                              \n",
       "2016-11-14   A18164178225   CHANDO/自然堂 雪域精粹纯粹滋润霜50g 补水保湿 滋润水润面霜  139.0   \n",
       "2016-11-14   A18177105952  CHANDO/自然堂凝时鲜颜肌活乳液120ML 淡化细纹补水滋润专柜正品  194.0   \n",
       "\n",
       "             sale_count  comment_count   店名 sub_type_all main_type_all 是否男士专用  \\\n",
       "update_time                                                                     \n",
       "2016-11-14      26719.0         2704.0  自然堂          面霜类           护肤品      否   \n",
       "2016-11-14       8122.0         1492.0  自然堂          乳液类           护肤品      否   \n",
       "\n",
       "                   销售额  day  \n",
       "update_time                  \n",
       "2016-11-14   3713941.0   14  \n",
       "2016-11-14   1575668.0   14  "
      ]
     },
     "execution_count": 298,
     "metadata": {},
     "output_type": "execute_result"
    }
   ],
   "source": [
    "import copy \n",
    "df8 = copy.deepcopy(data)\n",
    "df8.head(2)"
   ]
  },
  {
   "cell_type": "markdown",
   "metadata": {
    "id": "D500FACA9C5D4DC88AFD379CB8E4CA4C",
    "jupyter": {},
    "mdEditEnable": false,
    "slideshow": {
     "slide_type": "slide"
    },
    "tags": []
   },
   "source": [
    "# 可视化绘图"
   ]
  },
  {
   "cell_type": "code",
   "execution_count": 300,
   "metadata": {
    "ExecuteTime": {
     "end_time": "2020-03-12T10:00:57.880854Z",
     "start_time": "2020-03-12T10:00:57.872860Z"
    },
    "id": "928BCC8AE5504E4B8119A95733E946F1",
    "jupyter": {},
    "scrolled": false,
    "slideshow": {
     "slide_type": "slide"
    },
    "tags": []
   },
   "outputs": [
    {
     "data": {
      "text/plain": [
       "Index(['id', 'title', 'price', 'sale_count', 'comment_count', '店名',\n",
       "       'sub_type_all', 'main_type_all', '是否男士专用', '销售额', 'day'],\n",
       "      dtype='object')"
      ]
     },
     "execution_count": 300,
     "metadata": {},
     "output_type": "execute_result"
    }
   ],
   "source": [
    "data.columns"
   ]
  },
  {
   "cell_type": "code",
   "execution_count": 301,
   "metadata": {
    "ExecuteTime": {
     "end_time": "2020-03-12T10:01:04.694632Z",
     "start_time": "2020-03-12T10:01:04.670648Z"
    },
    "id": "3A17BA76BE4B44178749F0BB3BDD302D",
    "jupyter": {},
    "scrolled": false,
    "slideshow": {
     "slide_type": "slide"
    },
    "tags": []
   },
   "outputs": [
    {
     "data": {
      "text/html": [
       "<div>\n",
       "<style scoped>\n",
       "    .dataframe tbody tr th:only-of-type {\n",
       "        vertical-align: middle;\n",
       "    }\n",
       "\n",
       "    .dataframe tbody tr th {\n",
       "        vertical-align: top;\n",
       "    }\n",
       "\n",
       "    .dataframe thead th {\n",
       "        text-align: right;\n",
       "    }\n",
       "</style>\n",
       "<table border=\"1\" class=\"dataframe\">\n",
       "  <thead>\n",
       "    <tr style=\"text-align: right;\">\n",
       "      <th></th>\n",
       "      <th>id</th>\n",
       "      <th>title</th>\n",
       "      <th>price</th>\n",
       "      <th>sale_count</th>\n",
       "      <th>comment_count</th>\n",
       "      <th>店名</th>\n",
       "      <th>sub_type_all</th>\n",
       "      <th>main_type_all</th>\n",
       "      <th>是否男士专用</th>\n",
       "      <th>销售额</th>\n",
       "      <th>day</th>\n",
       "    </tr>\n",
       "    <tr>\n",
       "      <th>update_time</th>\n",
       "      <th></th>\n",
       "      <th></th>\n",
       "      <th></th>\n",
       "      <th></th>\n",
       "      <th></th>\n",
       "      <th></th>\n",
       "      <th></th>\n",
       "      <th></th>\n",
       "      <th></th>\n",
       "      <th></th>\n",
       "      <th></th>\n",
       "    </tr>\n",
       "  </thead>\n",
       "  <tbody>\n",
       "    <tr>\n",
       "      <td>2016-11-14</td>\n",
       "      <td>A18164178225</td>\n",
       "      <td>CHANDO/自然堂 雪域精粹纯粹滋润霜50g 补水保湿 滋润水润面霜</td>\n",
       "      <td>139.0</td>\n",
       "      <td>26719.0</td>\n",
       "      <td>2704.0</td>\n",
       "      <td>自然堂</td>\n",
       "      <td>面霜类</td>\n",
       "      <td>护肤品</td>\n",
       "      <td>否</td>\n",
       "      <td>3713941.0</td>\n",
       "      <td>14</td>\n",
       "    </tr>\n",
       "    <tr>\n",
       "      <td>2016-11-14</td>\n",
       "      <td>A18177105952</td>\n",
       "      <td>CHANDO/自然堂凝时鲜颜肌活乳液120ML 淡化细纹补水滋润专柜正品</td>\n",
       "      <td>194.0</td>\n",
       "      <td>8122.0</td>\n",
       "      <td>1492.0</td>\n",
       "      <td>自然堂</td>\n",
       "      <td>乳液类</td>\n",
       "      <td>护肤品</td>\n",
       "      <td>否</td>\n",
       "      <td>1575668.0</td>\n",
       "      <td>14</td>\n",
       "    </tr>\n",
       "  </tbody>\n",
       "</table>\n",
       "</div>"
      ],
      "text/plain": [
       "                       id                                 title  price  \\\n",
       "update_time                                                              \n",
       "2016-11-14   A18164178225   CHANDO/自然堂 雪域精粹纯粹滋润霜50g 补水保湿 滋润水润面霜  139.0   \n",
       "2016-11-14   A18177105952  CHANDO/自然堂凝时鲜颜肌活乳液120ML 淡化细纹补水滋润专柜正品  194.0   \n",
       "\n",
       "             sale_count  comment_count   店名 sub_type_all main_type_all 是否男士专用  \\\n",
       "update_time                                                                     \n",
       "2016-11-14      26719.0         2704.0  自然堂          面霜类           护肤品      否   \n",
       "2016-11-14       8122.0         1492.0  自然堂          乳液类           护肤品      否   \n",
       "\n",
       "                   销售额  day  \n",
       "update_time                  \n",
       "2016-11-14   3713941.0   14  \n",
       "2016-11-14   1575668.0   14  "
      ]
     },
     "execution_count": 301,
     "metadata": {},
     "output_type": "execute_result"
    }
   ],
   "source": [
    "data.head(2)"
   ]
  },
  {
   "cell_type": "markdown",
   "metadata": {
    "id": "C826ABA0906A44E1842C2A448D5B89D4",
    "jupyter": {},
    "mdEditEnable": false,
    "slideshow": {
     "slide_type": "slide"
    },
    "tags": []
   },
   "source": [
    "## 各品牌SKU数"
   ]
  },
  {
   "cell_type": "markdown",
   "metadata": {
    "id": "EABC554FA9AD45B68282F155910CF719",
    "jupyter": {},
    "slideshow": {
     "slide_type": "slide"
    },
    "tags": []
   },
   "source": [
    "悦诗风吟的商品数量最多，其次为佰草集、欧莱雅"
   ]
  },
  {
   "cell_type": "code",
   "execution_count": 310,
   "metadata": {
    "ExecuteTime": {
     "end_time": "2020-03-12T10:04:08.301384Z",
     "start_time": "2020-03-12T10:04:07.869654Z"
    },
    "id": "75F0622EFF1D403C93B9FF3D40C8FA65",
    "jupyter": {},
    "scrolled": true,
    "slideshow": {
     "slide_type": "slide"
    },
    "tags": []
   },
   "outputs": [
    {
     "data": {
      "image/png": "[encoded data removed]",
      "text/plain": [
       "<Figure size 720x288 with 1 Axes>"
      ]
     },
     "metadata": {
      "needs_background": "light"
     },
     "output_type": "display_data"
    }
   ],
   "source": [
    "plt.figure(figsize=(10,4))\n",
    "\n",
    "# 计算各店铺的商品数量\n",
    "data[u'店名'].value_counts().sort_values(ascending=False).plot.bar(width=0.8,alpha=0.6,color='b')\n",
    "\n",
    "plt.title(u'商品品牌SKU单品数量',fontsize=18)\n",
    "plt.ylabel(u'商品数量',fontsize=14)\n",
    "plt.show();"
   ]
  },
  {
   "cell_type": "markdown",
   "metadata": {
    "id": "86A54AB972484AC382C8204D69EC1C4D",
    "jupyter": {},
    "slideshow": {
     "slide_type": "slide"
    },
    "tags": []
   },
   "source": [
    "## 总销量和总销售额"
   ]
  },
  {
   "cell_type": "markdown",
   "metadata": {
    "id": "0747C2149C374A0E9D52288D60F68F5B",
    "jupyter": {},
    "slideshow": {
     "slide_type": "slide"
    },
    "tags": []
   },
   "source": [
    "- 相宜本草的销售量和销售额都是最高的\n",
    "- 销量第二至第五，分别为美宝莲、悦诗风吟、妮维雅、欧莱雅\n",
    "- 销售额第二至第五，分别为欧莱雅、佰草集、美宝莲、悦诗风吟\n",
    "- 宝莲、悦诗风吟、欧莱雅都在销量、销售额前五中"
   ]
  },
  {
   "cell_type": "code",
   "execution_count": 313,
   "metadata": {
    "ExecuteTime": {
     "end_time": "2020-03-12T10:04:48.402534Z",
     "start_time": "2020-03-12T10:04:47.634011Z"
    },
    "id": "16A67534318441C988CBC5C962E6588D",
    "jupyter": {},
    "slideshow": {
     "slide_type": "slide"
    },
    "tags": []
   },
   "outputs": [
    {
     "data": {
      "image/png": "[encoded data removed]",
      "text/plain": [
       "<Figure size 864x720 with 2 Axes>"
      ]
     },
     "metadata": {
      "needs_background": "light"
     },
     "output_type": "display_data"
    }
   ],
   "source": [
    "fig,axes = plt.subplots(1,2,figsize=(12,10))\n",
    "\n",
    "ax1 = data.groupby(u'店名').sale_count.sum().sort_values(ascending=True).plot(kind='barh',ax=axes[0],width=0.6)\n",
    "ax1.set_title(u'品牌总销售量',fontsize=12)\n",
    "ax1.set_xlabel(u'总销售量')\n",
    "\n",
    "ax2 = data.groupby(u'店名')[u'销售额'].sum().sort_values(ascending=True).plot(kind='barh',ax=axes[1],width=0.6)\n",
    "ax2.set_title(u'品牌总销售额',fontsize=12)\n",
    "ax2.set_xlabel(u'总销售额')\n",
    "\n",
    "plt.subplots_adjust(wspace=1.8)\n",
    "plt.show()"
   ]
  },
  {
   "cell_type": "markdown",
   "metadata": {
    "id": "FFE02D50BB2F42A68DBF44FD9A154E12",
    "jupyter": {},
    "mdEditEnable": false,
    "slideshow": {
     "slide_type": "slide"
    },
    "tags": []
   },
   "source": [
    "## 类别销售量销售额透视表"
   ]
  },
  {
   "cell_type": "code",
   "execution_count": 314,
   "metadata": {
    "ExecuteTime": {
     "end_time": "2020-03-12T10:05:56.161543Z",
     "start_time": "2020-03-12T10:05:56.134562Z"
    },
    "id": "F9E8C5DD9E704969B21E680BB07FE820",
    "jupyter": {},
    "scrolled": false,
    "slideshow": {
     "slide_type": "slide"
    },
    "tags": []
   },
   "outputs": [
    {
     "data": {
      "text/html": [
       "<div>\n",
       "<style scoped>\n",
       "    .dataframe tbody tr th:only-of-type {\n",
       "        vertical-align: middle;\n",
       "    }\n",
       "\n",
       "    .dataframe tbody tr th {\n",
       "        vertical-align: top;\n",
       "    }\n",
       "\n",
       "    .dataframe thead th {\n",
       "        text-align: right;\n",
       "    }\n",
       "</style>\n",
       "<table border=\"1\" class=\"dataframe\">\n",
       "  <thead>\n",
       "    <tr style=\"text-align: right;\">\n",
       "      <th></th>\n",
       "      <th>id</th>\n",
       "      <th>title</th>\n",
       "      <th>price</th>\n",
       "      <th>sale_count</th>\n",
       "      <th>comment_count</th>\n",
       "      <th>店名</th>\n",
       "      <th>sub_type_all</th>\n",
       "      <th>main_type_all</th>\n",
       "      <th>是否男士专用</th>\n",
       "      <th>销售额</th>\n",
       "      <th>day</th>\n",
       "    </tr>\n",
       "    <tr>\n",
       "      <th>update_time</th>\n",
       "      <th></th>\n",
       "      <th></th>\n",
       "      <th></th>\n",
       "      <th></th>\n",
       "      <th></th>\n",
       "      <th></th>\n",
       "      <th></th>\n",
       "      <th></th>\n",
       "      <th></th>\n",
       "      <th></th>\n",
       "      <th></th>\n",
       "    </tr>\n",
       "  </thead>\n",
       "  <tbody>\n",
       "    <tr>\n",
       "      <td>2016-11-14</td>\n",
       "      <td>A18164178225</td>\n",
       "      <td>CHANDO/自然堂 雪域精粹纯粹滋润霜50g 补水保湿 滋润水润面霜</td>\n",
       "      <td>139.0</td>\n",
       "      <td>26719.0</td>\n",
       "      <td>2704.0</td>\n",
       "      <td>自然堂</td>\n",
       "      <td>面霜类</td>\n",
       "      <td>护肤品</td>\n",
       "      <td>否</td>\n",
       "      <td>3713941.0</td>\n",
       "      <td>14</td>\n",
       "    </tr>\n",
       "    <tr>\n",
       "      <td>2016-11-14</td>\n",
       "      <td>A18177105952</td>\n",
       "      <td>CHANDO/自然堂凝时鲜颜肌活乳液120ML 淡化细纹补水滋润专柜正品</td>\n",
       "      <td>194.0</td>\n",
       "      <td>8122.0</td>\n",
       "      <td>1492.0</td>\n",
       "      <td>自然堂</td>\n",
       "      <td>乳液类</td>\n",
       "      <td>护肤品</td>\n",
       "      <td>否</td>\n",
       "      <td>1575668.0</td>\n",
       "      <td>14</td>\n",
       "    </tr>\n",
       "  </tbody>\n",
       "</table>\n",
       "</div>"
      ],
      "text/plain": [
       "                       id                                 title  price  \\\n",
       "update_time                                                              \n",
       "2016-11-14   A18164178225   CHANDO/自然堂 雪域精粹纯粹滋润霜50g 补水保湿 滋润水润面霜  139.0   \n",
       "2016-11-14   A18177105952  CHANDO/自然堂凝时鲜颜肌活乳液120ML 淡化细纹补水滋润专柜正品  194.0   \n",
       "\n",
       "             sale_count  comment_count   店名 sub_type_all main_type_all 是否男士专用  \\\n",
       "update_time                                                                     \n",
       "2016-11-14      26719.0         2704.0  自然堂          面霜类           护肤品      否   \n",
       "2016-11-14       8122.0         1492.0  自然堂          乳液类           护肤品      否   \n",
       "\n",
       "                   销售额  day  \n",
       "update_time                  \n",
       "2016-11-14   3713941.0   14  \n",
       "2016-11-14   1575668.0   14  "
      ]
     },
     "execution_count": 314,
     "metadata": {},
     "output_type": "execute_result"
    }
   ],
   "source": [
    "data.head(2)"
   ]
  },
  {
   "cell_type": "code",
   "execution_count": 318,
   "metadata": {
    "ExecuteTime": {
     "end_time": "2020-03-12T10:06:48.697985Z",
     "start_time": "2020-03-12T10:06:48.681997Z"
    },
    "id": "5FD59F2E77D4484BB74DB58CFB927857",
    "jupyter": {},
    "scrolled": false,
    "slideshow": {
     "slide_type": "slide"
    },
    "tags": []
   },
   "outputs": [
    {
     "data": {
      "text/plain": [
       "(main_type_all\n",
       " 其他     133453819.0\n",
       " 化妆品     43079714.0\n",
       " 护肤品    133363023.0\n",
       " Name: sale_count, dtype: float64,\n",
       " Index(['其他', '化妆品', '护肤品'], dtype='object', name='main_type_all'),\n",
       " array([1.33453819e+08, 4.30797140e+07, 1.33363023e+08]))"
      ]
     },
     "execution_count": 318,
     "metadata": {},
     "output_type": "execute_result"
    }
   ],
   "source": [
    "data1 = data.groupby('main_type_all')['sale_count'].sum()\n",
    "\n",
    "data1,data1.index,data1.values"
   ]
  },
  {
   "cell_type": "code",
   "execution_count": null,
   "metadata": {},
   "outputs": [],
   "source": [
    "pd.pivot_table(data,index=['update_time']).head(2)"
   ]
  },
  {
   "cell_type": "code",
   "execution_count": 319,
   "metadata": {
    "ExecuteTime": {
     "end_time": "2020-03-12T10:06:59.092543Z",
     "start_time": "2020-03-12T10:06:59.074554Z"
    }
   },
   "outputs": [
    {
     "data": {
      "text/plain": [
       "(sub_type_all\n",
       " 乳液类      11974994.0\n",
       " 修容类        339687.0\n",
       " 其他      133453819.0\n",
       " 化妆水      24766531.0\n",
       " 口红类      12732472.0\n",
       " 底妆类      23083538.0\n",
       " 清洁类      59701823.0\n",
       " 眼部彩妆      6924017.0\n",
       " 眼部护理      8404318.0\n",
       " 精华类       2010843.0\n",
       " 防晒类       8669759.0\n",
       " 面霜类      17834755.0\n",
       " Name: sale_count, dtype: float64,\n",
       " Index(['乳液类', '修容类', '其他', '化妆水', '口红类', '底妆类', '清洁类', '眼部彩妆', '眼部护理', '精华类',\n",
       "        '防晒类', '面霜类'],\n",
       "       dtype='object', name='sub_type_all'),\n",
       " array([1.19749940e+07, 3.39687000e+05, 1.33453819e+08, 2.47665310e+07,\n",
       "        1.27324720e+07, 2.30835380e+07, 5.97018230e+07, 6.92401700e+06,\n",
       "        8.40431800e+06, 2.01084300e+06, 8.66975900e+06, 1.78347550e+07]))"
      ]
     },
     "execution_count": 319,
     "metadata": {},
     "output_type": "execute_result"
    }
   ],
   "source": [
    "data2 = data.groupby('sub_type_all')['sale_count'].sum()\n",
    "\n",
    "data2,data2.index,data2.values"
   ]
  },
  {
   "cell_type": "code",
   "execution_count": 324,
   "metadata": {
    "ExecuteTime": {
     "end_time": "2020-03-12T10:09:48.842345Z",
     "start_time": "2020-03-12T10:09:48.796377Z"
    },
    "scrolled": false
   },
   "outputs": [
    {
     "data": {
      "text/html": [
       "<div>\n",
       "<style scoped>\n",
       "    .dataframe tbody tr th:only-of-type {\n",
       "        vertical-align: middle;\n",
       "    }\n",
       "\n",
       "    .dataframe tbody tr th {\n",
       "        vertical-align: top;\n",
       "    }\n",
       "\n",
       "    .dataframe thead th {\n",
       "        text-align: right;\n",
       "    }\n",
       "</style>\n",
       "<table border=\"1\" class=\"dataframe\">\n",
       "  <thead>\n",
       "    <tr style=\"text-align: right;\">\n",
       "      <th></th>\n",
       "      <th></th>\n",
       "      <th>comment_count</th>\n",
       "      <th>day</th>\n",
       "      <th>price</th>\n",
       "      <th>sale_count</th>\n",
       "      <th>销售额</th>\n",
       "    </tr>\n",
       "    <tr>\n",
       "      <th>main_type_all</th>\n",
       "      <th>sub_type_all</th>\n",
       "      <th></th>\n",
       "      <th></th>\n",
       "      <th></th>\n",
       "      <th></th>\n",
       "      <th></th>\n",
       "    </tr>\n",
       "  </thead>\n",
       "  <tbody>\n",
       "    <tr>\n",
       "      <td>其他</td>\n",
       "      <td>其他</td>\n",
       "      <td>847.814809</td>\n",
       "      <td>9.018779</td>\n",
       "      <td>348.697381</td>\n",
       "      <td>10187.314427</td>\n",
       "      <td>1.487128e+06</td>\n",
       "    </tr>\n",
       "    <tr>\n",
       "      <td rowspan=\"4\" valign=\"top\">化妆品</td>\n",
       "      <td>修容类</td>\n",
       "      <td>1259.078125</td>\n",
       "      <td>9.171875</td>\n",
       "      <td>193.171875</td>\n",
       "      <td>5307.609375</td>\n",
       "      <td>7.389214e+05</td>\n",
       "    </tr>\n",
       "    <tr>\n",
       "      <td>口红类</td>\n",
       "      <td>1669.879720</td>\n",
       "      <td>9.019580</td>\n",
       "      <td>198.878615</td>\n",
       "      <td>17807.653147</td>\n",
       "      <td>1.876899e+06</td>\n",
       "    </tr>\n",
       "    <tr>\n",
       "      <td>底妆类</td>\n",
       "      <td>1537.416201</td>\n",
       "      <td>9.093296</td>\n",
       "      <td>319.658659</td>\n",
       "      <td>12895.831285</td>\n",
       "      <td>1.897789e+06</td>\n",
       "    </tr>\n",
       "    <tr>\n",
       "      <td>眼部彩妆</td>\n",
       "      <td>797.473510</td>\n",
       "      <td>9.127483</td>\n",
       "      <td>205.951821</td>\n",
       "      <td>11463.604305</td>\n",
       "      <td>1.006300e+06</td>\n",
       "    </tr>\n",
       "    <tr>\n",
       "      <td rowspan=\"7\" valign=\"top\">护肤品</td>\n",
       "      <td>乳液类</td>\n",
       "      <td>723.030325</td>\n",
       "      <td>9.161243</td>\n",
       "      <td>300.165932</td>\n",
       "      <td>8857.244083</td>\n",
       "      <td>1.501916e+06</td>\n",
       "    </tr>\n",
       "    <tr>\n",
       "      <td>化妆水</td>\n",
       "      <td>1239.151918</td>\n",
       "      <td>9.193862</td>\n",
       "      <td>225.084598</td>\n",
       "      <td>12668.302302</td>\n",
       "      <td>2.078835e+06</td>\n",
       "    </tr>\n",
       "    <tr>\n",
       "      <td>清洁类</td>\n",
       "      <td>2124.069131</td>\n",
       "      <td>9.098563</td>\n",
       "      <td>251.912611</td>\n",
       "      <td>20431.835387</td>\n",
       "      <td>1.648575e+06</td>\n",
       "    </tr>\n",
       "    <tr>\n",
       "      <td>眼部护理</td>\n",
       "      <td>530.155296</td>\n",
       "      <td>8.948833</td>\n",
       "      <td>568.848285</td>\n",
       "      <td>7544.271095</td>\n",
       "      <td>2.014615e+06</td>\n",
       "    </tr>\n",
       "    <tr>\n",
       "      <td>精华类</td>\n",
       "      <td>298.015131</td>\n",
       "      <td>8.955983</td>\n",
       "      <td>778.603851</td>\n",
       "      <td>2765.946355</td>\n",
       "      <td>1.060277e+06</td>\n",
       "    </tr>\n",
       "    <tr>\n",
       "      <td>防晒类</td>\n",
       "      <td>2230.319838</td>\n",
       "      <td>9.018219</td>\n",
       "      <td>189.728340</td>\n",
       "      <td>17550.119433</td>\n",
       "      <td>1.375219e+06</td>\n",
       "    </tr>\n",
       "    <tr>\n",
       "      <td>面霜类</td>\n",
       "      <td>409.363364</td>\n",
       "      <td>8.948037</td>\n",
       "      <td>637.011469</td>\n",
       "      <td>6667.198131</td>\n",
       "      <td>1.047977e+06</td>\n",
       "    </tr>\n",
       "  </tbody>\n",
       "</table>\n",
       "</div>"
      ],
      "text/plain": [
       "                            comment_count       day       price    sale_count  \\\n",
       "main_type_all sub_type_all                                                      \n",
       "其他            其他               847.814809  9.018779  348.697381  10187.314427   \n",
       "化妆品           修容类             1259.078125  9.171875  193.171875   5307.609375   \n",
       "              口红类             1669.879720  9.019580  198.878615  17807.653147   \n",
       "              底妆类             1537.416201  9.093296  319.658659  12895.831285   \n",
       "              眼部彩妆             797.473510  9.127483  205.951821  11463.604305   \n",
       "护肤品           乳液类              723.030325  9.161243  300.165932   8857.244083   \n",
       "              化妆水             1239.151918  9.193862  225.084598  12668.302302   \n",
       "              清洁类             2124.069131  9.098563  251.912611  20431.835387   \n",
       "              眼部护理             530.155296  8.948833  568.848285   7544.271095   \n",
       "              精华类              298.015131  8.955983  778.603851   2765.946355   \n",
       "              防晒类             2230.319838  9.018219  189.728340  17550.119433   \n",
       "              面霜类              409.363364  8.948037  637.011469   6667.198131   \n",
       "\n",
       "                                     销售额  \n",
       "main_type_all sub_type_all                \n",
       "其他            其他            1.487128e+06  \n",
       "化妆品           修容类           7.389214e+05  \n",
       "              口红类           1.876899e+06  \n",
       "              底妆类           1.897789e+06  \n",
       "              眼部彩妆          1.006300e+06  \n",
       "护肤品           乳液类           1.501916e+06  \n",
       "              化妆水           2.078835e+06  \n",
       "              清洁类           1.648575e+06  \n",
       "              眼部护理          2.014615e+06  \n",
       "              精华类           1.060277e+06  \n",
       "              防晒类           1.375219e+06  \n",
       "              面霜类           1.047977e+06  "
      ]
     },
     "execution_count": 324,
     "metadata": {},
     "output_type": "execute_result"
    }
   ],
   "source": [
    "pd.pivot_table(data,index=['main_type_all','sub_type_all'])"
   ]
  },
  {
   "cell_type": "code",
   "execution_count": 334,
   "metadata": {
    "ExecuteTime": {
     "end_time": "2020-03-12T10:31:18.412174Z",
     "start_time": "2020-03-12T10:31:18.322234Z"
    }
   },
   "outputs": [
    {
     "data": {
      "text/html": [
       "<div>\n",
       "<style scoped>\n",
       "    .dataframe tbody tr th:only-of-type {\n",
       "        vertical-align: middle;\n",
       "    }\n",
       "\n",
       "    .dataframe tbody tr th {\n",
       "        vertical-align: top;\n",
       "    }\n",
       "\n",
       "    .dataframe thead tr th {\n",
       "        text-align: left;\n",
       "    }\n",
       "\n",
       "    .dataframe thead tr:last-of-type th {\n",
       "        text-align: right;\n",
       "    }\n",
       "</style>\n",
       "<table border=\"1\" class=\"dataframe\">\n",
       "  <thead>\n",
       "    <tr>\n",
       "      <th></th>\n",
       "      <th></th>\n",
       "      <th colspan=\"10\" halign=\"left\">price</th>\n",
       "      <th colspan=\"10\" halign=\"left\">sale_count</th>\n",
       "    </tr>\n",
       "    <tr>\n",
       "      <th></th>\n",
       "      <th>day</th>\n",
       "      <th>5</th>\n",
       "      <th>6</th>\n",
       "      <th>7</th>\n",
       "      <th>8</th>\n",
       "      <th>9</th>\n",
       "      <th>10</th>\n",
       "      <th>11</th>\n",
       "      <th>12</th>\n",
       "      <th>13</th>\n",
       "      <th>14</th>\n",
       "      <th>5</th>\n",
       "      <th>6</th>\n",
       "      <th>7</th>\n",
       "      <th>8</th>\n",
       "      <th>9</th>\n",
       "      <th>10</th>\n",
       "      <th>11</th>\n",
       "      <th>12</th>\n",
       "      <th>13</th>\n",
       "      <th>14</th>\n",
       "    </tr>\n",
       "    <tr>\n",
       "      <th>main_type_all</th>\n",
       "      <th>sub_type_all</th>\n",
       "      <th></th>\n",
       "      <th></th>\n",
       "      <th></th>\n",
       "      <th></th>\n",
       "      <th></th>\n",
       "      <th></th>\n",
       "      <th></th>\n",
       "      <th></th>\n",
       "      <th></th>\n",
       "      <th></th>\n",
       "      <th></th>\n",
       "      <th></th>\n",
       "      <th></th>\n",
       "      <th></th>\n",
       "      <th></th>\n",
       "      <th></th>\n",
       "      <th></th>\n",
       "      <th></th>\n",
       "      <th></th>\n",
       "      <th></th>\n",
       "    </tr>\n",
       "  </thead>\n",
       "  <tbody>\n",
       "    <tr>\n",
       "      <td>其他</td>\n",
       "      <td>其他</td>\n",
       "      <td>373.226577</td>\n",
       "      <td>368.675288</td>\n",
       "      <td>371.077756</td>\n",
       "      <td>358.373653</td>\n",
       "      <td>362.849947</td>\n",
       "      <td>372.118088</td>\n",
       "      <td>323.491070</td>\n",
       "      <td>306.950615</td>\n",
       "      <td>288.929047</td>\n",
       "      <td>300.965467</td>\n",
       "      <td>9149.953826</td>\n",
       "      <td>9252.844692</td>\n",
       "      <td>9179.557278</td>\n",
       "      <td>9219.702184</td>\n",
       "      <td>9502.057895</td>\n",
       "      <td>8983.582786</td>\n",
       "      <td>12500.625668</td>\n",
       "      <td>12384.880083</td>\n",
       "      <td>12216.030738</td>\n",
       "      <td>12414.342324</td>\n",
       "    </tr>\n",
       "    <tr>\n",
       "      <td rowspan=\"4\" valign=\"top\">化妆品</td>\n",
       "      <td>修容类</td>\n",
       "      <td>196.000000</td>\n",
       "      <td>196.000000</td>\n",
       "      <td>196.000000</td>\n",
       "      <td>196.000000</td>\n",
       "      <td>196.000000</td>\n",
       "      <td>196.000000</td>\n",
       "      <td>191.714286</td>\n",
       "      <td>185.200000</td>\n",
       "      <td>185.200000</td>\n",
       "      <td>187.400000</td>\n",
       "      <td>4696.285714</td>\n",
       "      <td>4720.000000</td>\n",
       "      <td>4746.000000</td>\n",
       "      <td>4774.285714</td>\n",
       "      <td>4806.714286</td>\n",
       "      <td>4856.857143</td>\n",
       "      <td>5950.714286</td>\n",
       "      <td>6566.600000</td>\n",
       "      <td>6493.800000</td>\n",
       "      <td>6505.800000</td>\n",
       "    </tr>\n",
       "    <tr>\n",
       "      <td>口红类</td>\n",
       "      <td>211.521829</td>\n",
       "      <td>209.283214</td>\n",
       "      <td>210.985366</td>\n",
       "      <td>208.178193</td>\n",
       "      <td>208.178193</td>\n",
       "      <td>206.082805</td>\n",
       "      <td>185.059153</td>\n",
       "      <td>175.980577</td>\n",
       "      <td>170.381636</td>\n",
       "      <td>171.245094</td>\n",
       "      <td>15602.621951</td>\n",
       "      <td>15488.309524</td>\n",
       "      <td>15775.792683</td>\n",
       "      <td>15620.939759</td>\n",
       "      <td>15645.831325</td>\n",
       "      <td>15779.426829</td>\n",
       "      <td>20718.576271</td>\n",
       "      <td>23161.442308</td>\n",
       "      <td>23207.200000</td>\n",
       "      <td>23890.226415</td>\n",
       "    </tr>\n",
       "    <tr>\n",
       "      <td>底妆类</td>\n",
       "      <td>330.960199</td>\n",
       "      <td>327.273171</td>\n",
       "      <td>326.296482</td>\n",
       "      <td>325.582915</td>\n",
       "      <td>321.368932</td>\n",
       "      <td>324.530806</td>\n",
       "      <td>314.367742</td>\n",
       "      <td>310.097744</td>\n",
       "      <td>300.450704</td>\n",
       "      <td>298.841727</td>\n",
       "      <td>11230.288557</td>\n",
       "      <td>11297.492683</td>\n",
       "      <td>11552.492462</td>\n",
       "      <td>11642.482412</td>\n",
       "      <td>11504.475728</td>\n",
       "      <td>11286.540284</td>\n",
       "      <td>15273.251613</td>\n",
       "      <td>16405.533835</td>\n",
       "      <td>16180.197183</td>\n",
       "      <td>16519.453237</td>\n",
       "    </tr>\n",
       "    <tr>\n",
       "      <td>眼部彩妆</td>\n",
       "      <td>219.594118</td>\n",
       "      <td>219.594118</td>\n",
       "      <td>219.594118</td>\n",
       "      <td>210.334328</td>\n",
       "      <td>210.334328</td>\n",
       "      <td>214.667647</td>\n",
       "      <td>186.688679</td>\n",
       "      <td>175.638298</td>\n",
       "      <td>190.163265</td>\n",
       "      <td>190.775510</td>\n",
       "      <td>10345.044118</td>\n",
       "      <td>10348.808824</td>\n",
       "      <td>10352.220588</td>\n",
       "      <td>10511.388060</td>\n",
       "      <td>10516.238806</td>\n",
       "      <td>10367.632353</td>\n",
       "      <td>13469.415094</td>\n",
       "      <td>14122.553191</td>\n",
       "      <td>13481.061224</td>\n",
       "      <td>13486.183673</td>\n",
       "    </tr>\n",
       "    <tr>\n",
       "      <td rowspan=\"7\" valign=\"top\">护肤品</td>\n",
       "      <td>乳液类</td>\n",
       "      <td>309.315298</td>\n",
       "      <td>309.010662</td>\n",
       "      <td>316.939728</td>\n",
       "      <td>308.837400</td>\n",
       "      <td>308.930268</td>\n",
       "      <td>302.787792</td>\n",
       "      <td>271.810940</td>\n",
       "      <td>292.179820</td>\n",
       "      <td>284.132679</td>\n",
       "      <td>280.224909</td>\n",
       "      <td>8270.344371</td>\n",
       "      <td>8311.695364</td>\n",
       "      <td>7861.435374</td>\n",
       "      <td>8657.926667</td>\n",
       "      <td>8740.013423</td>\n",
       "      <td>7966.129870</td>\n",
       "      <td>9755.350427</td>\n",
       "      <td>9681.333333</td>\n",
       "      <td>9594.196429</td>\n",
       "      <td>10883.509091</td>\n",
       "    </tr>\n",
       "    <tr>\n",
       "      <td>化妆水</td>\n",
       "      <td>228.871698</td>\n",
       "      <td>233.210092</td>\n",
       "      <td>233.097653</td>\n",
       "      <td>230.616590</td>\n",
       "      <td>228.782488</td>\n",
       "      <td>229.413077</td>\n",
       "      <td>218.682575</td>\n",
       "      <td>212.459554</td>\n",
       "      <td>212.935030</td>\n",
       "      <td>212.071145</td>\n",
       "      <td>10929.915094</td>\n",
       "      <td>11048.325688</td>\n",
       "      <td>9812.793427</td>\n",
       "      <td>11919.267281</td>\n",
       "      <td>11949.751152</td>\n",
       "      <td>11279.932127</td>\n",
       "      <td>14611.772455</td>\n",
       "      <td>16689.891720</td>\n",
       "      <td>15696.473054</td>\n",
       "      <td>15641.548193</td>\n",
       "    </tr>\n",
       "    <tr>\n",
       "      <td>清洁类</td>\n",
       "      <td>281.777591</td>\n",
       "      <td>278.273958</td>\n",
       "      <td>282.298116</td>\n",
       "      <td>276.142576</td>\n",
       "      <td>271.864548</td>\n",
       "      <td>291.389043</td>\n",
       "      <td>218.048167</td>\n",
       "      <td>194.237948</td>\n",
       "      <td>176.889181</td>\n",
       "      <td>178.547489</td>\n",
       "      <td>18878.375000</td>\n",
       "      <td>18632.095238</td>\n",
       "      <td>18917.249240</td>\n",
       "      <td>18970.230303</td>\n",
       "      <td>19031.933735</td>\n",
       "      <td>18323.759259</td>\n",
       "      <td>13210.948207</td>\n",
       "      <td>27504.580786</td>\n",
       "      <td>27372.650862</td>\n",
       "      <td>28333.025974</td>\n",
       "    </tr>\n",
       "    <tr>\n",
       "      <td>眼部护理</td>\n",
       "      <td>596.267176</td>\n",
       "      <td>594.340909</td>\n",
       "      <td>594.953846</td>\n",
       "      <td>596.704545</td>\n",
       "      <td>590.038760</td>\n",
       "      <td>585.458647</td>\n",
       "      <td>582.442000</td>\n",
       "      <td>495.973333</td>\n",
       "      <td>480.192308</td>\n",
       "      <td>469.088608</td>\n",
       "      <td>7498.938931</td>\n",
       "      <td>8151.515152</td>\n",
       "      <td>8301.615385</td>\n",
       "      <td>8231.454545</td>\n",
       "      <td>8423.403101</td>\n",
       "      <td>8447.172932</td>\n",
       "      <td>5240.242105</td>\n",
       "      <td>6494.333333</td>\n",
       "      <td>6290.935897</td>\n",
       "      <td>6259.632911</td>\n",
       "    </tr>\n",
       "    <tr>\n",
       "      <td>精华类</td>\n",
       "      <td>794.930233</td>\n",
       "      <td>794.930233</td>\n",
       "      <td>798.164706</td>\n",
       "      <td>811.694118</td>\n",
       "      <td>804.752941</td>\n",
       "      <td>808.302326</td>\n",
       "      <td>807.666667</td>\n",
       "      <td>743.020408</td>\n",
       "      <td>674.490566</td>\n",
       "      <td>652.788462</td>\n",
       "      <td>2331.313953</td>\n",
       "      <td>2340.476744</td>\n",
       "      <td>2376.470588</td>\n",
       "      <td>2399.294118</td>\n",
       "      <td>2410.694118</td>\n",
       "      <td>2397.523256</td>\n",
       "      <td>3118.050000</td>\n",
       "      <td>3987.469388</td>\n",
       "      <td>3760.830189</td>\n",
       "      <td>4043.076923</td>\n",
       "    </tr>\n",
       "    <tr>\n",
       "      <td>防晒类</td>\n",
       "      <td>198.217241</td>\n",
       "      <td>198.217241</td>\n",
       "      <td>196.725000</td>\n",
       "      <td>198.185965</td>\n",
       "      <td>198.185965</td>\n",
       "      <td>198.185965</td>\n",
       "      <td>180.560000</td>\n",
       "      <td>172.760000</td>\n",
       "      <td>164.831579</td>\n",
       "      <td>165.621053</td>\n",
       "      <td>16043.103448</td>\n",
       "      <td>16044.793103</td>\n",
       "      <td>16588.482143</td>\n",
       "      <td>16318.052632</td>\n",
       "      <td>16319.350877</td>\n",
       "      <td>16320.982456</td>\n",
       "      <td>15023.125000</td>\n",
       "      <td>20273.314286</td>\n",
       "      <td>23401.289474</td>\n",
       "      <td>23403.631579</td>\n",
       "    </tr>\n",
       "    <tr>\n",
       "      <td>面霜类</td>\n",
       "      <td>659.684548</td>\n",
       "      <td>661.199812</td>\n",
       "      <td>664.149872</td>\n",
       "      <td>654.718516</td>\n",
       "      <td>667.782611</td>\n",
       "      <td>672.525994</td>\n",
       "      <td>678.640439</td>\n",
       "      <td>556.435158</td>\n",
       "      <td>522.031531</td>\n",
       "      <td>529.372094</td>\n",
       "      <td>6249.121495</td>\n",
       "      <td>6308.811912</td>\n",
       "      <td>6297.060897</td>\n",
       "      <td>6510.377419</td>\n",
       "      <td>6490.337580</td>\n",
       "      <td>5589.406940</td>\n",
       "      <td>6165.248780</td>\n",
       "      <td>7766.610526</td>\n",
       "      <td>7582.831633</td>\n",
       "      <td>9412.570681</td>\n",
       "    </tr>\n",
       "  </tbody>\n",
       "</table>\n",
       "</div>"
      ],
      "text/plain": [
       "                                 price                                      \\\n",
       "day                                 5           6           7           8    \n",
       "main_type_all sub_type_all                                                   \n",
       "其他            其他            373.226577  368.675288  371.077756  358.373653   \n",
       "化妆品           修容类           196.000000  196.000000  196.000000  196.000000   \n",
       "              口红类           211.521829  209.283214  210.985366  208.178193   \n",
       "              底妆类           330.960199  327.273171  326.296482  325.582915   \n",
       "              眼部彩妆          219.594118  219.594118  219.594118  210.334328   \n",
       "护肤品           乳液类           309.315298  309.010662  316.939728  308.837400   \n",
       "              化妆水           228.871698  233.210092  233.097653  230.616590   \n",
       "              清洁类           281.777591  278.273958  282.298116  276.142576   \n",
       "              眼部护理          596.267176  594.340909  594.953846  596.704545   \n",
       "              精华类           794.930233  794.930233  798.164706  811.694118   \n",
       "              防晒类           198.217241  198.217241  196.725000  198.185965   \n",
       "              面霜类           659.684548  661.199812  664.149872  654.718516   \n",
       "\n",
       "                                                                            \\\n",
       "day                                 9           10          11          12   \n",
       "main_type_all sub_type_all                                                   \n",
       "其他            其他            362.849947  372.118088  323.491070  306.950615   \n",
       "化妆品           修容类           196.000000  196.000000  191.714286  185.200000   \n",
       "              口红类           208.178193  206.082805  185.059153  175.980577   \n",
       "              底妆类           321.368932  324.530806  314.367742  310.097744   \n",
       "              眼部彩妆          210.334328  214.667647  186.688679  175.638298   \n",
       "护肤品           乳液类           308.930268  302.787792  271.810940  292.179820   \n",
       "              化妆水           228.782488  229.413077  218.682575  212.459554   \n",
       "              清洁类           271.864548  291.389043  218.048167  194.237948   \n",
       "              眼部护理          590.038760  585.458647  582.442000  495.973333   \n",
       "              精华类           804.752941  808.302326  807.666667  743.020408   \n",
       "              防晒类           198.185965  198.185965  180.560000  172.760000   \n",
       "              面霜类           667.782611  672.525994  678.640439  556.435158   \n",
       "\n",
       "                                                      sale_count  \\\n",
       "day                                 13          14            5    \n",
       "main_type_all sub_type_all                                         \n",
       "其他            其他            288.929047  300.965467   9149.953826   \n",
       "化妆品           修容类           185.200000  187.400000   4696.285714   \n",
       "              口红类           170.381636  171.245094  15602.621951   \n",
       "              底妆类           300.450704  298.841727  11230.288557   \n",
       "              眼部彩妆          190.163265  190.775510  10345.044118   \n",
       "护肤品           乳液类           284.132679  280.224909   8270.344371   \n",
       "              化妆水           212.935030  212.071145  10929.915094   \n",
       "              清洁类           176.889181  178.547489  18878.375000   \n",
       "              眼部护理          480.192308  469.088608   7498.938931   \n",
       "              精华类           674.490566  652.788462   2331.313953   \n",
       "              防晒类           164.831579  165.621053  16043.103448   \n",
       "              面霜类           522.031531  529.372094   6249.121495   \n",
       "\n",
       "                                                                      \\\n",
       "day                                   6             7             8    \n",
       "main_type_all sub_type_all                                             \n",
       "其他            其他             9252.844692   9179.557278   9219.702184   \n",
       "化妆品           修容类            4720.000000   4746.000000   4774.285714   \n",
       "              口红类           15488.309524  15775.792683  15620.939759   \n",
       "              底妆类           11297.492683  11552.492462  11642.482412   \n",
       "              眼部彩妆          10348.808824  10352.220588  10511.388060   \n",
       "护肤品           乳液类            8311.695364   7861.435374   8657.926667   \n",
       "              化妆水           11048.325688   9812.793427  11919.267281   \n",
       "              清洁类           18632.095238  18917.249240  18970.230303   \n",
       "              眼部护理           8151.515152   8301.615385   8231.454545   \n",
       "              精华类            2340.476744   2376.470588   2399.294118   \n",
       "              防晒类           16044.793103  16588.482143  16318.052632   \n",
       "              面霜类            6308.811912   6297.060897   6510.377419   \n",
       "\n",
       "                                                                      \\\n",
       "day                                   9             10            11   \n",
       "main_type_all sub_type_all                                             \n",
       "其他            其他             9502.057895   8983.582786  12500.625668   \n",
       "化妆品           修容类            4806.714286   4856.857143   5950.714286   \n",
       "              口红类           15645.831325  15779.426829  20718.576271   \n",
       "              底妆类           11504.475728  11286.540284  15273.251613   \n",
       "              眼部彩妆          10516.238806  10367.632353  13469.415094   \n",
       "护肤品           乳液类            8740.013423   7966.129870   9755.350427   \n",
       "              化妆水           11949.751152  11279.932127  14611.772455   \n",
       "              清洁类           19031.933735  18323.759259  13210.948207   \n",
       "              眼部护理           8423.403101   8447.172932   5240.242105   \n",
       "              精华类            2410.694118   2397.523256   3118.050000   \n",
       "              防晒类           16319.350877  16320.982456  15023.125000   \n",
       "              面霜类            6490.337580   5589.406940   6165.248780   \n",
       "\n",
       "                                                                      \n",
       "day                                   12            13            14  \n",
       "main_type_all sub_type_all                                            \n",
       "其他            其他            12384.880083  12216.030738  12414.342324  \n",
       "化妆品           修容类            6566.600000   6493.800000   6505.800000  \n",
       "              口红类           23161.442308  23207.200000  23890.226415  \n",
       "              底妆类           16405.533835  16180.197183  16519.453237  \n",
       "              眼部彩妆          14122.553191  13481.061224  13486.183673  \n",
       "护肤品           乳液类            9681.333333   9594.196429  10883.509091  \n",
       "              化妆水           16689.891720  15696.473054  15641.548193  \n",
       "              清洁类           27504.580786  27372.650862  28333.025974  \n",
       "              眼部护理           6494.333333   6290.935897   6259.632911  \n",
       "              精华类            3987.469388   3760.830189   4043.076923  \n",
       "              防晒类           20273.314286  23401.289474  23403.631579  \n",
       "              面霜类            7766.610526   7582.831633   9412.570681  "
      ]
     },
     "execution_count": 334,
     "metadata": {},
     "output_type": "execute_result"
    }
   ],
   "source": [
    "pd.pivot_table(data,index=['main_type_all','sub_type_all'],columns = ['day'],values = ['price','sale_count'])"
   ]
  },
  {
   "cell_type": "code",
   "execution_count": 336,
   "metadata": {
    "ExecuteTime": {
     "end_time": "2020-03-12T10:31:44.899760Z",
     "start_time": "2020-03-12T10:31:44.844795Z"
    }
   },
   "outputs": [
    {
     "data": {
      "text/html": [
       "<div>\n",
       "<style scoped>\n",
       "    .dataframe tbody tr th:only-of-type {\n",
       "        vertical-align: middle;\n",
       "    }\n",
       "\n",
       "    .dataframe tbody tr th {\n",
       "        vertical-align: top;\n",
       "    }\n",
       "\n",
       "    .dataframe thead th {\n",
       "        text-align: right;\n",
       "    }\n",
       "</style>\n",
       "<table border=\"1\" class=\"dataframe\">\n",
       "  <thead>\n",
       "    <tr style=\"text-align: right;\">\n",
       "      <th></th>\n",
       "      <th></th>\n",
       "      <th></th>\n",
       "      <th>price</th>\n",
       "      <th>sale_count</th>\n",
       "    </tr>\n",
       "    <tr>\n",
       "      <th>main_type_all</th>\n",
       "      <th>sub_type_all</th>\n",
       "      <th>day</th>\n",
       "      <th></th>\n",
       "      <th></th>\n",
       "    </tr>\n",
       "  </thead>\n",
       "  <tbody>\n",
       "    <tr>\n",
       "      <td rowspan=\"5\" valign=\"top\">其他</td>\n",
       "      <td rowspan=\"5\" valign=\"top\">其他</td>\n",
       "      <td>5</td>\n",
       "      <td>373.226577</td>\n",
       "      <td>9149.953826</td>\n",
       "    </tr>\n",
       "    <tr>\n",
       "      <td>6</td>\n",
       "      <td>368.675288</td>\n",
       "      <td>9252.844692</td>\n",
       "    </tr>\n",
       "    <tr>\n",
       "      <td>7</td>\n",
       "      <td>371.077756</td>\n",
       "      <td>9179.557278</td>\n",
       "    </tr>\n",
       "    <tr>\n",
       "      <td>8</td>\n",
       "      <td>358.373653</td>\n",
       "      <td>9219.702184</td>\n",
       "    </tr>\n",
       "    <tr>\n",
       "      <td>9</td>\n",
       "      <td>362.849947</td>\n",
       "      <td>9502.057895</td>\n",
       "    </tr>\n",
       "    <tr>\n",
       "      <td>...</td>\n",
       "      <td>...</td>\n",
       "      <td>...</td>\n",
       "      <td>...</td>\n",
       "      <td>...</td>\n",
       "    </tr>\n",
       "    <tr>\n",
       "      <td rowspan=\"5\" valign=\"top\">护肤品</td>\n",
       "      <td rowspan=\"5\" valign=\"top\">面霜类</td>\n",
       "      <td>10</td>\n",
       "      <td>672.525994</td>\n",
       "      <td>5589.406940</td>\n",
       "    </tr>\n",
       "    <tr>\n",
       "      <td>11</td>\n",
       "      <td>678.640439</td>\n",
       "      <td>6165.248780</td>\n",
       "    </tr>\n",
       "    <tr>\n",
       "      <td>12</td>\n",
       "      <td>556.435158</td>\n",
       "      <td>7766.610526</td>\n",
       "    </tr>\n",
       "    <tr>\n",
       "      <td>13</td>\n",
       "      <td>522.031531</td>\n",
       "      <td>7582.831633</td>\n",
       "    </tr>\n",
       "    <tr>\n",
       "      <td>14</td>\n",
       "      <td>529.372094</td>\n",
       "      <td>9412.570681</td>\n",
       "    </tr>\n",
       "  </tbody>\n",
       "</table>\n",
       "<p>120 rows × 2 columns</p>\n",
       "</div>"
      ],
      "text/plain": [
       "                                     price   sale_count\n",
       "main_type_all sub_type_all day                         \n",
       "其他            其他           5    373.226577  9149.953826\n",
       "                           6    368.675288  9252.844692\n",
       "                           7    371.077756  9179.557278\n",
       "                           8    358.373653  9219.702184\n",
       "                           9    362.849947  9502.057895\n",
       "...                                    ...          ...\n",
       "护肤品           面霜类          10   672.525994  5589.406940\n",
       "                           11   678.640439  6165.248780\n",
       "                           12   556.435158  7766.610526\n",
       "                           13   522.031531  7582.831633\n",
       "                           14   529.372094  9412.570681\n",
       "\n",
       "[120 rows x 2 columns]"
      ]
     },
     "execution_count": 336,
     "metadata": {},
     "output_type": "execute_result"
    }
   ],
   "source": [
    "pd.pivot_table(data,index=['main_type_all','sub_type_all','day'],values = ['price','sale_count'])"
   ]
  },
  {
   "cell_type": "code",
   "execution_count": 340,
   "metadata": {
    "ExecuteTime": {
     "end_time": "2020-03-12T10:33:59.034633Z",
     "start_time": "2020-03-12T10:33:58.927701Z"
    },
    "scrolled": false
   },
   "outputs": [
    {
     "data": {
      "text/html": [
       "<div>\n",
       "<style scoped>\n",
       "    .dataframe tbody tr th:only-of-type {\n",
       "        vertical-align: middle;\n",
       "    }\n",
       "\n",
       "    .dataframe tbody tr th {\n",
       "        vertical-align: top;\n",
       "    }\n",
       "\n",
       "    .dataframe thead tr th {\n",
       "        text-align: left;\n",
       "    }\n",
       "\n",
       "    .dataframe thead tr:last-of-type th {\n",
       "        text-align: right;\n",
       "    }\n",
       "</style>\n",
       "<table border=\"1\" class=\"dataframe\">\n",
       "  <thead>\n",
       "    <tr>\n",
       "      <th></th>\n",
       "      <th></th>\n",
       "      <th colspan=\"20\" halign=\"left\">sum</th>\n",
       "    </tr>\n",
       "    <tr>\n",
       "      <th></th>\n",
       "      <th></th>\n",
       "      <th colspan=\"10\" halign=\"left\">price</th>\n",
       "      <th colspan=\"10\" halign=\"left\">sale_count</th>\n",
       "    </tr>\n",
       "    <tr>\n",
       "      <th></th>\n",
       "      <th>day</th>\n",
       "      <th>5</th>\n",
       "      <th>6</th>\n",
       "      <th>7</th>\n",
       "      <th>8</th>\n",
       "      <th>9</th>\n",
       "      <th>10</th>\n",
       "      <th>11</th>\n",
       "      <th>12</th>\n",
       "      <th>13</th>\n",
       "      <th>14</th>\n",
       "      <th>5</th>\n",
       "      <th>6</th>\n",
       "      <th>7</th>\n",
       "      <th>8</th>\n",
       "      <th>9</th>\n",
       "      <th>10</th>\n",
       "      <th>11</th>\n",
       "      <th>12</th>\n",
       "      <th>13</th>\n",
       "      <th>14</th>\n",
       "    </tr>\n",
       "    <tr>\n",
       "      <th>main_type_all</th>\n",
       "      <th>sub_type_all</th>\n",
       "      <th></th>\n",
       "      <th></th>\n",
       "      <th></th>\n",
       "      <th></th>\n",
       "      <th></th>\n",
       "      <th></th>\n",
       "      <th></th>\n",
       "      <th></th>\n",
       "      <th></th>\n",
       "      <th></th>\n",
       "      <th></th>\n",
       "      <th></th>\n",
       "      <th></th>\n",
       "      <th></th>\n",
       "      <th></th>\n",
       "      <th></th>\n",
       "      <th></th>\n",
       "      <th></th>\n",
       "      <th></th>\n",
       "      <th></th>\n",
       "    </tr>\n",
       "  </thead>\n",
       "  <tbody>\n",
       "    <tr>\n",
       "      <td>其他</td>\n",
       "      <td>其他</td>\n",
       "      <td>565811.49</td>\n",
       "      <td>562598.49</td>\n",
       "      <td>550679.39</td>\n",
       "      <td>541502.59</td>\n",
       "      <td>551531.92</td>\n",
       "      <td>566363.73</td>\n",
       "      <td>362956.98</td>\n",
       "      <td>294365.64</td>\n",
       "      <td>281994.75</td>\n",
       "      <td>290130.71</td>\n",
       "      <td>13871330.0</td>\n",
       "      <td>14119841.0</td>\n",
       "      <td>13622463.0</td>\n",
       "      <td>13930970.0</td>\n",
       "      <td>14443128.0</td>\n",
       "      <td>13673013.0</td>\n",
       "      <td>14025702.0</td>\n",
       "      <td>11877100.0</td>\n",
       "      <td>11922846.0</td>\n",
       "      <td>11967426.0</td>\n",
       "    </tr>\n",
       "    <tr>\n",
       "      <td rowspan=\"4\" valign=\"top\">化妆品</td>\n",
       "      <td>修容类</td>\n",
       "      <td>1372.00</td>\n",
       "      <td>1372.00</td>\n",
       "      <td>1372.00</td>\n",
       "      <td>1372.00</td>\n",
       "      <td>1372.00</td>\n",
       "      <td>1372.00</td>\n",
       "      <td>1342.00</td>\n",
       "      <td>926.00</td>\n",
       "      <td>926.00</td>\n",
       "      <td>937.00</td>\n",
       "      <td>32874.0</td>\n",
       "      <td>33040.0</td>\n",
       "      <td>33222.0</td>\n",
       "      <td>33420.0</td>\n",
       "      <td>33647.0</td>\n",
       "      <td>33998.0</td>\n",
       "      <td>41655.0</td>\n",
       "      <td>32833.0</td>\n",
       "      <td>32469.0</td>\n",
       "      <td>32529.0</td>\n",
       "    </tr>\n",
       "    <tr>\n",
       "      <td>口红类</td>\n",
       "      <td>17344.79</td>\n",
       "      <td>17579.79</td>\n",
       "      <td>17300.80</td>\n",
       "      <td>17278.79</td>\n",
       "      <td>17278.79</td>\n",
       "      <td>16898.79</td>\n",
       "      <td>10918.49</td>\n",
       "      <td>9150.99</td>\n",
       "      <td>9370.99</td>\n",
       "      <td>9075.99</td>\n",
       "      <td>1279415.0</td>\n",
       "      <td>1301018.0</td>\n",
       "      <td>1293615.0</td>\n",
       "      <td>1296538.0</td>\n",
       "      <td>1298604.0</td>\n",
       "      <td>1293913.0</td>\n",
       "      <td>1222396.0</td>\n",
       "      <td>1204395.0</td>\n",
       "      <td>1276396.0</td>\n",
       "      <td>1266182.0</td>\n",
       "    </tr>\n",
       "    <tr>\n",
       "      <td>底妆类</td>\n",
       "      <td>66523.00</td>\n",
       "      <td>67091.00</td>\n",
       "      <td>64933.00</td>\n",
       "      <td>64791.00</td>\n",
       "      <td>66202.00</td>\n",
       "      <td>68476.00</td>\n",
       "      <td>48727.00</td>\n",
       "      <td>41243.00</td>\n",
       "      <td>42664.00</td>\n",
       "      <td>41539.00</td>\n",
       "      <td>2257288.0</td>\n",
       "      <td>2315986.0</td>\n",
       "      <td>2298946.0</td>\n",
       "      <td>2316854.0</td>\n",
       "      <td>2369922.0</td>\n",
       "      <td>2381460.0</td>\n",
       "      <td>2367354.0</td>\n",
       "      <td>2181936.0</td>\n",
       "      <td>2297588.0</td>\n",
       "      <td>2296204.0</td>\n",
       "    </tr>\n",
       "    <tr>\n",
       "      <td>眼部彩妆</td>\n",
       "      <td>14932.40</td>\n",
       "      <td>14932.40</td>\n",
       "      <td>14932.40</td>\n",
       "      <td>14092.40</td>\n",
       "      <td>14092.40</td>\n",
       "      <td>14597.40</td>\n",
       "      <td>9894.50</td>\n",
       "      <td>8255.00</td>\n",
       "      <td>9318.00</td>\n",
       "      <td>9348.00</td>\n",
       "      <td>703463.0</td>\n",
       "      <td>703719.0</td>\n",
       "      <td>703951.0</td>\n",
       "      <td>704263.0</td>\n",
       "      <td>704588.0</td>\n",
       "      <td>704999.0</td>\n",
       "      <td>713879.0</td>\n",
       "      <td>663760.0</td>\n",
       "      <td>660572.0</td>\n",
       "      <td>660823.0</td>\n",
       "    </tr>\n",
       "    <tr>\n",
       "      <td rowspan=\"7\" valign=\"top\">护肤品</td>\n",
       "      <td>乳液类</td>\n",
       "      <td>46706.61</td>\n",
       "      <td>46660.61</td>\n",
       "      <td>46590.14</td>\n",
       "      <td>46325.61</td>\n",
       "      <td>46030.61</td>\n",
       "      <td>46629.32</td>\n",
       "      <td>31801.88</td>\n",
       "      <td>32431.96</td>\n",
       "      <td>31822.86</td>\n",
       "      <td>30824.74</td>\n",
       "      <td>1248822.0</td>\n",
       "      <td>1255066.0</td>\n",
       "      <td>1155631.0</td>\n",
       "      <td>1298689.0</td>\n",
       "      <td>1302262.0</td>\n",
       "      <td>1226784.0</td>\n",
       "      <td>1141376.0</td>\n",
       "      <td>1074628.0</td>\n",
       "      <td>1074550.0</td>\n",
       "      <td>1197186.0</td>\n",
       "    </tr>\n",
       "    <tr>\n",
       "      <td>化妆水</td>\n",
       "      <td>48520.80</td>\n",
       "      <td>50839.80</td>\n",
       "      <td>49649.80</td>\n",
       "      <td>50043.80</td>\n",
       "      <td>49645.80</td>\n",
       "      <td>50700.29</td>\n",
       "      <td>36519.99</td>\n",
       "      <td>33356.15</td>\n",
       "      <td>35560.15</td>\n",
       "      <td>35203.81</td>\n",
       "      <td>2317142.0</td>\n",
       "      <td>2408535.0</td>\n",
       "      <td>2090125.0</td>\n",
       "      <td>2586481.0</td>\n",
       "      <td>2593096.0</td>\n",
       "      <td>2492865.0</td>\n",
       "      <td>2440166.0</td>\n",
       "      <td>2620313.0</td>\n",
       "      <td>2621311.0</td>\n",
       "      <td>2596497.0</td>\n",
       "    </tr>\n",
       "    <tr>\n",
       "      <td>清洁类</td>\n",
       "      <td>92423.05</td>\n",
       "      <td>93500.05</td>\n",
       "      <td>92876.08</td>\n",
       "      <td>91127.05</td>\n",
       "      <td>90259.03</td>\n",
       "      <td>94410.05</td>\n",
       "      <td>54730.09</td>\n",
       "      <td>44480.49</td>\n",
       "      <td>41038.29</td>\n",
       "      <td>41244.47</td>\n",
       "      <td>6192107.0</td>\n",
       "      <td>6260384.0</td>\n",
       "      <td>6223775.0</td>\n",
       "      <td>6260176.0</td>\n",
       "      <td>6318602.0</td>\n",
       "      <td>5936898.0</td>\n",
       "      <td>3315948.0</td>\n",
       "      <td>6298549.0</td>\n",
       "      <td>6350455.0</td>\n",
       "      <td>6544929.0</td>\n",
       "    </tr>\n",
       "    <tr>\n",
       "      <td>眼部护理</td>\n",
       "      <td>78111.00</td>\n",
       "      <td>78453.00</td>\n",
       "      <td>77344.00</td>\n",
       "      <td>78765.00</td>\n",
       "      <td>76115.00</td>\n",
       "      <td>77866.00</td>\n",
       "      <td>55331.99</td>\n",
       "      <td>37198.00</td>\n",
       "      <td>37455.00</td>\n",
       "      <td>37058.00</td>\n",
       "      <td>982361.0</td>\n",
       "      <td>1076000.0</td>\n",
       "      <td>1079210.0</td>\n",
       "      <td>1086552.0</td>\n",
       "      <td>1086619.0</td>\n",
       "      <td>1123474.0</td>\n",
       "      <td>497823.0</td>\n",
       "      <td>487075.0</td>\n",
       "      <td>490693.0</td>\n",
       "      <td>494511.0</td>\n",
       "    </tr>\n",
       "    <tr>\n",
       "      <td>精华类</td>\n",
       "      <td>68364.00</td>\n",
       "      <td>68364.00</td>\n",
       "      <td>67844.00</td>\n",
       "      <td>68994.00</td>\n",
       "      <td>68404.00</td>\n",
       "      <td>69514.00</td>\n",
       "      <td>48460.00</td>\n",
       "      <td>36408.00</td>\n",
       "      <td>35748.00</td>\n",
       "      <td>33945.00</td>\n",
       "      <td>200493.0</td>\n",
       "      <td>201281.0</td>\n",
       "      <td>202000.0</td>\n",
       "      <td>203940.0</td>\n",
       "      <td>204909.0</td>\n",
       "      <td>206187.0</td>\n",
       "      <td>187083.0</td>\n",
       "      <td>195386.0</td>\n",
       "      <td>199324.0</td>\n",
       "      <td>210240.0</td>\n",
       "    </tr>\n",
       "    <tr>\n",
       "      <td>防晒类</td>\n",
       "      <td>11496.60</td>\n",
       "      <td>11496.60</td>\n",
       "      <td>11016.60</td>\n",
       "      <td>11296.60</td>\n",
       "      <td>11296.60</td>\n",
       "      <td>11296.60</td>\n",
       "      <td>7222.40</td>\n",
       "      <td>6046.60</td>\n",
       "      <td>6263.60</td>\n",
       "      <td>6293.60</td>\n",
       "      <td>930500.0</td>\n",
       "      <td>930598.0</td>\n",
       "      <td>928955.0</td>\n",
       "      <td>930129.0</td>\n",
       "      <td>930203.0</td>\n",
       "      <td>930296.0</td>\n",
       "      <td>600925.0</td>\n",
       "      <td>709566.0</td>\n",
       "      <td>889249.0</td>\n",
       "      <td>889338.0</td>\n",
       "    </tr>\n",
       "    <tr>\n",
       "      <td>面霜类</td>\n",
       "      <td>211758.74</td>\n",
       "      <td>210922.74</td>\n",
       "      <td>207214.76</td>\n",
       "      <td>202962.74</td>\n",
       "      <td>209683.74</td>\n",
       "      <td>213190.74</td>\n",
       "      <td>139121.29</td>\n",
       "      <td>105722.68</td>\n",
       "      <td>102318.18</td>\n",
       "      <td>101110.07</td>\n",
       "      <td>2005968.0</td>\n",
       "      <td>2012511.0</td>\n",
       "      <td>1964683.0</td>\n",
       "      <td>2018217.0</td>\n",
       "      <td>2037966.0</td>\n",
       "      <td>1771842.0</td>\n",
       "      <td>1263876.0</td>\n",
       "      <td>1475656.0</td>\n",
       "      <td>1486235.0</td>\n",
       "      <td>1797801.0</td>\n",
       "    </tr>\n",
       "  </tbody>\n",
       "</table>\n",
       "</div>"
      ],
      "text/plain": [
       "                                  sum                                   \\\n",
       "                                price                                    \n",
       "day                                5          6          7          8    \n",
       "main_type_all sub_type_all                                               \n",
       "其他            其他            565811.49  562598.49  550679.39  541502.59   \n",
       "化妆品           修容类             1372.00    1372.00    1372.00    1372.00   \n",
       "              口红类            17344.79   17579.79   17300.80   17278.79   \n",
       "              底妆类            66523.00   67091.00   64933.00   64791.00   \n",
       "              眼部彩妆           14932.40   14932.40   14932.40   14092.40   \n",
       "护肤品           乳液类            46706.61   46660.61   46590.14   46325.61   \n",
       "              化妆水            48520.80   50839.80   49649.80   50043.80   \n",
       "              清洁类            92423.05   93500.05   92876.08   91127.05   \n",
       "              眼部护理           78111.00   78453.00   77344.00   78765.00   \n",
       "              精华类            68364.00   68364.00   67844.00   68994.00   \n",
       "              防晒类            11496.60   11496.60   11016.60   11296.60   \n",
       "              面霜类           211758.74  210922.74  207214.76  202962.74   \n",
       "\n",
       "                                                                        \\\n",
       "                                                                         \n",
       "day                                9          10         11         12   \n",
       "main_type_all sub_type_all                                               \n",
       "其他            其他            551531.92  566363.73  362956.98  294365.64   \n",
       "化妆品           修容类             1372.00    1372.00    1342.00     926.00   \n",
       "              口红类            17278.79   16898.79   10918.49    9150.99   \n",
       "              底妆类            66202.00   68476.00   48727.00   41243.00   \n",
       "              眼部彩妆           14092.40   14597.40    9894.50    8255.00   \n",
       "护肤品           乳液类            46030.61   46629.32   31801.88   32431.96   \n",
       "              化妆水            49645.80   50700.29   36519.99   33356.15   \n",
       "              清洁类            90259.03   94410.05   54730.09   44480.49   \n",
       "              眼部护理           76115.00   77866.00   55331.99   37198.00   \n",
       "              精华类            68404.00   69514.00   48460.00   36408.00   \n",
       "              防晒类            11296.60   11296.60    7222.40    6046.60   \n",
       "              面霜类           209683.74  213190.74  139121.29  105722.68   \n",
       "\n",
       "                                                                          \\\n",
       "                                                  sale_count               \n",
       "day                                13         14          5           6    \n",
       "main_type_all sub_type_all                                                 \n",
       "其他            其他            281994.75  290130.71  13871330.0  14119841.0   \n",
       "化妆品           修容类              926.00     937.00     32874.0     33040.0   \n",
       "              口红类             9370.99    9075.99   1279415.0   1301018.0   \n",
       "              底妆类            42664.00   41539.00   2257288.0   2315986.0   \n",
       "              眼部彩妆            9318.00    9348.00    703463.0    703719.0   \n",
       "护肤品           乳液类            31822.86   30824.74   1248822.0   1255066.0   \n",
       "              化妆水            35560.15   35203.81   2317142.0   2408535.0   \n",
       "              清洁类            41038.29   41244.47   6192107.0   6260384.0   \n",
       "              眼部护理           37455.00   37058.00    982361.0   1076000.0   \n",
       "              精华类            35748.00   33945.00    200493.0    201281.0   \n",
       "              防晒类             6263.60    6293.60    930500.0    930598.0   \n",
       "              面霜类           102318.18  101110.07   2005968.0   2012511.0   \n",
       "\n",
       "                                                                            \\\n",
       "                                                                             \n",
       "day                                 7           8           9           10   \n",
       "main_type_all sub_type_all                                                   \n",
       "其他            其他            13622463.0  13930970.0  14443128.0  13673013.0   \n",
       "化妆品           修容类              33222.0     33420.0     33647.0     33998.0   \n",
       "              口红类            1293615.0   1296538.0   1298604.0   1293913.0   \n",
       "              底妆类            2298946.0   2316854.0   2369922.0   2381460.0   \n",
       "              眼部彩妆            703951.0    704263.0    704588.0    704999.0   \n",
       "护肤品           乳液类            1155631.0   1298689.0   1302262.0   1226784.0   \n",
       "              化妆水            2090125.0   2586481.0   2593096.0   2492865.0   \n",
       "              清洁类            6223775.0   6260176.0   6318602.0   5936898.0   \n",
       "              眼部护理           1079210.0   1086552.0   1086619.0   1123474.0   \n",
       "              精华类             202000.0    203940.0    204909.0    206187.0   \n",
       "              防晒类             928955.0    930129.0    930203.0    930296.0   \n",
       "              面霜类            1964683.0   2018217.0   2037966.0   1771842.0   \n",
       "\n",
       "                                                                            \n",
       "                                                                            \n",
       "day                                 11          12          13          14  \n",
       "main_type_all sub_type_all                                                  \n",
       "其他            其他            14025702.0  11877100.0  11922846.0  11967426.0  \n",
       "化妆品           修容类              41655.0     32833.0     32469.0     32529.0  \n",
       "              口红类            1222396.0   1204395.0   1276396.0   1266182.0  \n",
       "              底妆类            2367354.0   2181936.0   2297588.0   2296204.0  \n",
       "              眼部彩妆            713879.0    663760.0    660572.0    660823.0  \n",
       "护肤品           乳液类            1141376.0   1074628.0   1074550.0   1197186.0  \n",
       "              化妆水            2440166.0   2620313.0   2621311.0   2596497.0  \n",
       "              清洁类            3315948.0   6298549.0   6350455.0   6544929.0  \n",
       "              眼部护理            497823.0    487075.0    490693.0    494511.0  \n",
       "              精华类             187083.0    195386.0    199324.0    210240.0  \n",
       "              防晒类             600925.0    709566.0    889249.0    889338.0  \n",
       "              面霜类            1263876.0   1475656.0   1486235.0   1797801.0  "
      ]
     },
     "execution_count": 340,
     "metadata": {},
     "output_type": "execute_result"
    }
   ],
   "source": [
    "pd.pivot_table(data,index=['main_type_all','sub_type_all'],columns = ['day'],values = ['price','sale_count'],aggfunc=[np.sum])"
   ]
  },
  {
   "cell_type": "markdown",
   "metadata": {
    "ExecuteTime": {
     "end_time": "2020-03-12T10:39:45.641835Z",
     "start_time": "2020-03-12T10:39:45.638836Z"
    }
   },
   "source": [
    "## 销售量及金额饼图占比"
   ]
  },
  {
   "cell_type": "code",
   "execution_count": 353,
   "metadata": {
    "ExecuteTime": {
     "end_time": "2020-03-12T10:39:17.041557Z",
     "start_time": "2020-03-12T10:39:16.528881Z"
    },
    "id": "4884C8EB835B4C0EA4F34444713AE37A",
    "jupyter": {},
    "scrolled": true,
    "slideshow": {
     "slide_type": "slide"
    },
    "tags": []
   },
   "outputs": [
    {
     "data": {
      "image/png": "[encoded data removed]",
      "text/plain": [
       "<Figure size 864x864 with 2 Axes>"
      ]
     },
     "metadata": {},
     "output_type": "display_data"
    }
   ],
   "source": [
    "fig,axes = plt.subplots(1,2,figsize=(12,12))\n",
    "\n",
    "colors = [\"#377eb8\", \"#4daf4a\", \"#984ea3\"]\n",
    "\n",
    "ax1 = data1.plot(   kind='pie',\n",
    "                    ax=axes[0],\n",
    "                    autopct='%.1f%%',\n",
    "                    # pctdistance=0.8,\n",
    "                    labels= data1.index,\n",
    "                    labeldistance = 1.05, \n",
    "                    startangle = 60, \n",
    "                    radius = 1.1, \n",
    "                    colors = colors,\n",
    "                    counterclock = False, \n",
    "                    # 是否逆时针，这里设置为顺时针方向\n",
    "                    wedgeprops = {'linewidth': 1.2, 'edgecolor':'k'},\n",
    "                    # 设置饼图内外边界的属性值\n",
    "                    # textprops = {'fontsize':10, 'color':'k'}, \n",
    "                    # 设置文本标签的属性值\n",
    "                    )\n",
    "                    \n",
    "ax1.set_title('一级品类别销售量占比',fontsize=12)\n",
    "\n",
    "data2 = data.groupby('sub_type_all')['sale_count'].sum()\n",
    "\n",
    "ax2 = data2.plot(kind='pie',ax=axes[1],autopct='%.1f%%', \n",
    "pctdistance=0.8, \n",
    "labels= data2.index,\n",
    "labeldistance = 1.05,\n",
    "startangle = 230, \n",
    "radius = 1.1, \n",
    "counterclock = False, \n",
    "wedgeprops = {'linewidth': 1.2, 'edgecolor':'k'},\n",
    "textprops = {'fontsize':10, 'color':'k'}, \n",
    ")\n",
    "\n",
    "ax2.set_title('二级品类销售量占比',fontsize=12)\n",
    "\n",
    "plt.show()"
   ]
  },
  {
   "cell_type": "markdown",
   "metadata": {
    "ExecuteTime": {
     "end_time": "2020-03-12T10:43:55.731848Z",
     "start_time": "2020-03-12T10:43:55.726852Z"
    }
   },
   "source": [
    "## 品牌一级品类总销量柱状图"
   ]
  },
  {
   "cell_type": "code",
   "execution_count": 362,
   "metadata": {
    "ExecuteTime": {
     "end_time": "2020-03-12T10:42:26.244305Z",
     "start_time": "2020-03-12T10:42:22.602563Z"
    },
    "id": "C1A99FB710EE4C7C83BB3BBD3CD1B012",
    "jupyter": {},
    "scrolled": false,
    "slideshow": {
     "slide_type": "slide"
    },
    "tags": []
   },
   "outputs": [
    {
     "data": {
      "image/png": "[encoded data removed]",
      "text/plain": [
       "<Figure size 1008x360 with 1 Axes>"
      ]
     },
     "metadata": {
      "needs_background": "light"
     },
     "output_type": "display_data"
    }
   ],
   "source": [
    "plt.figure(figsize=(14,5))\n",
    "# saturation饱和；饱和度；饱和状态\n",
    "sns.barplot(x='店名',y='sale_count',hue='main_type_all',data=data,saturation=0.75,ci=0)\n",
    "plt.title('各品牌各总类的总销量')\n",
    "plt.ylabel('销量')\n",
    "plt.show()"
   ]
  },
  {
   "cell_type": "markdown",
   "metadata": {},
   "source": [
    "## 品牌二级品类总销量柱状图"
   ]
  },
  {
   "cell_type": "code",
   "execution_count": 363,
   "metadata": {
    "ExecuteTime": {
     "end_time": "2020-03-12T10:42:52.272175Z",
     "start_time": "2020-03-12T10:42:42.292361Z"
    }
   },
   "outputs": [
    {
     "data": {
      "image/png": "[encoded data removed]",
      "text/plain": [
       "<Figure size 1008x360 with 1 Axes>"
      ]
     },
     "metadata": {
      "needs_background": "light"
     },
     "output_type": "display_data"
    }
   ],
   "source": [
    "plt.figure(figsize=(14,5))\n",
    "# saturation饱和；饱和度；饱和状态\n",
    "sns.barplot(x='店名',y='sale_count',hue='sub_type_all',data=data,saturation=0.75,ci=0)\n",
    "plt.title('品牌一级品类总销量')\n",
    "plt.ylabel('销量')\n",
    "plt.show()"
   ]
  },
  {
   "cell_type": "markdown",
   "metadata": {
    "id": "273D8957870F414A9D26EFCC607F9ABC",
    "jupyter": {},
    "mdEditEnable": false,
    "slideshow": {
     "slide_type": "slide"
    },
    "tags": []
   },
   "source": [
    "## 品牌评论热度"
   ]
  },
  {
   "cell_type": "code",
   "execution_count": 368,
   "metadata": {
    "ExecuteTime": {
     "end_time": "2020-03-12T10:46:55.079703Z",
     "start_time": "2020-03-12T10:46:55.054721Z"
    },
    "id": "00E3256E3B0D49548AFBB3FB99E11201",
    "jupyter": {},
    "scrolled": false,
    "slideshow": {
     "slide_type": "slide"
    },
    "tags": []
   },
   "outputs": [
    {
     "data": {
      "text/html": [
       "<div>\n",
       "<style scoped>\n",
       "    .dataframe tbody tr th:only-of-type {\n",
       "        vertical-align: middle;\n",
       "    }\n",
       "\n",
       "    .dataframe tbody tr th {\n",
       "        vertical-align: top;\n",
       "    }\n",
       "\n",
       "    .dataframe thead th {\n",
       "        text-align: right;\n",
       "    }\n",
       "</style>\n",
       "<table border=\"1\" class=\"dataframe\">\n",
       "  <thead>\n",
       "    <tr style=\"text-align: right;\">\n",
       "      <th></th>\n",
       "      <th>id</th>\n",
       "      <th>title</th>\n",
       "      <th>price</th>\n",
       "      <th>sale_count</th>\n",
       "      <th>comment_count</th>\n",
       "      <th>店名</th>\n",
       "      <th>sub_type_all</th>\n",
       "      <th>main_type_all</th>\n",
       "      <th>是否男士专用</th>\n",
       "      <th>销售额</th>\n",
       "      <th>day</th>\n",
       "    </tr>\n",
       "    <tr>\n",
       "      <th>update_time</th>\n",
       "      <th></th>\n",
       "      <th></th>\n",
       "      <th></th>\n",
       "      <th></th>\n",
       "      <th></th>\n",
       "      <th></th>\n",
       "      <th></th>\n",
       "      <th></th>\n",
       "      <th></th>\n",
       "      <th></th>\n",
       "      <th></th>\n",
       "    </tr>\n",
       "  </thead>\n",
       "  <tbody>\n",
       "    <tr>\n",
       "      <td>2016-11-14</td>\n",
       "      <td>A18164178225</td>\n",
       "      <td>CHANDO/自然堂 雪域精粹纯粹滋润霜50g 补水保湿 滋润水润面霜</td>\n",
       "      <td>139.0</td>\n",
       "      <td>26719.0</td>\n",
       "      <td>2704.0</td>\n",
       "      <td>自然堂</td>\n",
       "      <td>面霜类</td>\n",
       "      <td>护肤品</td>\n",
       "      <td>否</td>\n",
       "      <td>3713941.0</td>\n",
       "      <td>14</td>\n",
       "    </tr>\n",
       "  </tbody>\n",
       "</table>\n",
       "</div>"
      ],
      "text/plain": [
       "                       id                                title  price  \\\n",
       "update_time                                                             \n",
       "2016-11-14   A18164178225  CHANDO/自然堂 雪域精粹纯粹滋润霜50g 补水保湿 滋润水润面霜  139.0   \n",
       "\n",
       "             sale_count  comment_count   店名 sub_type_all main_type_all 是否男士专用  \\\n",
       "update_time                                                                     \n",
       "2016-11-14      26719.0         2704.0  自然堂          面霜类           护肤品      否   \n",
       "\n",
       "                   销售额  day  \n",
       "update_time                  \n",
       "2016-11-14   3713941.0   14  "
      ]
     },
     "execution_count": 368,
     "metadata": {},
     "output_type": "execute_result"
    }
   ],
   "source": [
    "data.head(1)"
   ]
  },
  {
   "cell_type": "code",
   "execution_count": 369,
   "metadata": {
    "ExecuteTime": {
     "end_time": "2020-03-12T10:47:20.398013Z",
     "start_time": "2020-03-12T10:47:20.327057Z"
    },
    "id": "22E1569D14B3450090321E14D2E034BD",
    "jupyter": {},
    "scrolled": false,
    "slideshow": {
     "slide_type": "slide"
    },
    "tags": []
   },
   "outputs": [
    {
     "data": {
      "text/plain": [
       "店名\n",
       "妮维雅     202930.0\n",
       "悦诗风吟     80392.0\n",
       "自然堂      39547.0\n",
       "雅漾       33882.0\n",
       "美宝莲      28778.0\n",
       "相宜本草     26037.0\n",
       "蜜丝佛陀     19392.0\n",
       "兰芝       16121.0\n",
       "佰草集      15960.0\n",
       "欧莱雅      15247.0\n",
       "雅诗兰黛     12935.0\n",
       "美加净       9294.0\n",
       "倩碧        7632.0\n",
       "兰蔻        6394.0\n",
       "欧珀莱       5597.0\n",
       "薇姿        3961.0\n",
       "雪花秀       3701.0\n",
       "娇兰        2450.0\n",
       "资生堂       1571.0\n",
       "植村秀          0.0\n",
       "玉兰油          0.0\n",
       "SKII         0.0\n",
       "Name: comment_count, dtype: float64"
      ]
     },
     "execution_count": 369,
     "metadata": {},
     "output_type": "execute_result"
    }
   ],
   "source": [
    "data.groupby('店名').comment_count.max().sort_values(ascending=False)"
   ]
  },
  {
   "cell_type": "code",
   "execution_count": 370,
   "metadata": {
    "ExecuteTime": {
     "end_time": "2020-03-12T10:48:00.572118Z",
     "start_time": "2020-03-12T10:48:00.533141Z"
    },
    "id": "4FE808203BDC479C81590083F27460A4",
    "jupyter": {},
    "scrolled": false,
    "slideshow": {
     "slide_type": "slide"
    },
    "tags": []
   },
   "outputs": [
    {
     "data": {
      "text/plain": [
       "店名\n",
       "雪花秀     0.0\n",
       "雅诗兰黛    0.0\n",
       "佰草集     0.0\n",
       "倩碧      0.0\n",
       "兰芝      0.0\n",
       "兰蔻      0.0\n",
       "妮维雅     0.0\n",
       "娇兰      0.0\n",
       "悦诗风吟    0.0\n",
       "植村秀     0.0\n",
       "欧珀莱     0.0\n",
       "欧莱雅     0.0\n",
       "玉兰油     0.0\n",
       "相宜本草    0.0\n",
       "美加净     0.0\n",
       "美宝莲     0.0\n",
       "自然堂     0.0\n",
       "薇姿      0.0\n",
       "蜜丝佛陀    0.0\n",
       "资生堂     0.0\n",
       "雅漾      0.0\n",
       "SKII    0.0\n",
       "Name: comment_count, dtype: float64"
      ]
     },
     "execution_count": 370,
     "metadata": {},
     "output_type": "execute_result"
    }
   ],
   "source": [
    "data.groupby('店名').comment_count.min().sort_values(ascending=False)"
   ]
  },
  {
   "cell_type": "code",
   "execution_count": 371,
   "metadata": {
    "ExecuteTime": {
     "end_time": "2020-03-12T10:48:27.242589Z",
     "start_time": "2020-03-12T10:48:26.804863Z"
    },
    "id": "9F078A9D975B4CC58DA48AEF96E8E2FE",
    "jupyter": {},
    "slideshow": {
     "slide_type": "slide"
    },
    "tags": []
   },
   "outputs": [
    {
     "data": {
      "image/png": "[encoded data removed]",
      "text/plain": [
       "<Figure size 864x360 with 1 Axes>"
      ]
     },
     "metadata": {
      "needs_background": "light"
     },
     "output_type": "display_data"
    }
   ],
   "source": [
    "plt.figure(figsize = (12,5))\n",
    "data.groupby('店名').comment_count.mean().sort_values(ascending=False).plot(kind='bar',width=0.8)\n",
    "plt.title('商品平均评论数')\n",
    "plt.ylabel('评论数')\n",
    "plt.show()"
   ]
  },
  {
   "cell_type": "code",
   "execution_count": 372,
   "metadata": {
    "ExecuteTime": {
     "end_time": "2020-03-12T10:48:50.310294Z",
     "start_time": "2020-03-12T10:48:49.907543Z"
    }
   },
   "outputs": [
    {
     "data": {
      "image/png": "[encoded data removed]",
      "text/plain": [
       "<Figure size 864x360 with 1 Axes>"
      ]
     },
     "metadata": {
      "needs_background": "light"
     },
     "output_type": "display_data"
    }
   ],
   "source": [
    "plt.figure(figsize = (12,5))\n",
    "data.groupby('店名').comment_count.max().sort_values(ascending=False).plot(kind='bar',width=0.8)\n",
    "plt.title('商品平均评论数')\n",
    "plt.ylabel('评论数')\n",
    "plt.show()"
   ]
  },
  {
   "cell_type": "code",
   "execution_count": 376,
   "metadata": {
    "ExecuteTime": {
     "end_time": "2020-03-12T10:49:39.272950Z",
     "start_time": "2020-03-12T10:49:39.254961Z"
    },
    "id": "7851F5556B6B4951839FEE37A98944E0",
    "jupyter": {},
    "scrolled": false,
    "slideshow": {
     "slide_type": "slide"
    },
    "tags": []
   },
   "outputs": [
    {
     "data": {
      "text/plain": [
       "店名\n",
       "悦诗风吟    3021\n",
       "佰草集     2264\n",
       "欧莱雅     1942\n",
       "雅诗兰黛    1810\n",
       "倩碧      1703\n",
       "美加净     1678\n",
       "欧珀莱     1359\n",
       "相宜本草    1313\n",
       "妮维雅     1299\n",
       "兰蔻      1285\n",
       "娇兰      1193\n",
       "自然堂     1175\n",
       "玉兰油     1131\n",
       "兰芝      1088\n",
       "美宝莲      825\n",
       "资生堂      821\n",
       "植村秀      750\n",
       "薇姿       746\n",
       "雅漾       663\n",
       "雪花秀      543\n",
       "SKII     469\n",
       "蜜丝佛陀     434\n",
       "Name: id, dtype: int64"
      ]
     },
     "execution_count": 376,
     "metadata": {},
     "output_type": "execute_result"
    }
   ],
   "source": [
    "data.groupby('店名').id.count().sort_values(ascending=False)"
   ]
  },
  {
   "cell_type": "code",
   "execution_count": 81,
   "metadata": {
    "id": "974F56500D12471892FDD41F0F9EF780",
    "jupyter": {},
    "scrolled": false,
    "slideshow": {
     "slide_type": "slide"
    },
    "tags": []
   },
   "outputs": [
    {
     "data": {
      "text/plain": [
       "Index(['SKII', '佰草集', '倩碧', '兰芝', '兰蔻', '妮维雅', '娇兰', '悦诗风吟', '植村秀', '欧珀莱',\n",
       "       '欧莱雅', '玉兰油', '相宜本草', '美加净', '美宝莲', '自然堂', '薇姿', '蜜丝佛陀', '资生堂', '雅漾',\n",
       "       '雅诗兰黛', '雪花秀'],\n",
       "      dtype='object', name='店名')"
      ]
     },
     "execution_count": 81,
     "metadata": {},
     "output_type": "execute_result"
    }
   ],
   "source": [
    "data.groupby('店名').id.count().index"
   ]
  },
  {
   "cell_type": "code",
   "execution_count": 80,
   "metadata": {
    "id": "5F9677CB669447A0820E502581B52B29",
    "jupyter": {},
    "scrolled": true,
    "slideshow": {
     "slide_type": "slide"
    },
    "tags": []
   },
   "outputs": [
    {
     "data": {
      "text/plain": [
       "Index(['SKII', '佰草集', '倩碧', '兰芝', '兰蔻', '妮维雅', '娇兰', '悦诗风吟', '植村秀', '欧珀莱',\n",
       "       '欧莱雅', '玉兰油', '相宜本草', '美加净', '美宝莲', '自然堂', '薇姿', '蜜丝佛陀', '资生堂', '雅漾',\n",
       "       '雅诗兰黛', '雪花秀'],\n",
       "      dtype='object', name='店名')"
      ]
     },
     "execution_count": 80,
     "metadata": {},
     "output_type": "execute_result"
    }
   ],
   "source": [
    "data.groupby('店名').price.count().index"
   ]
  },
  {
   "cell_type": "markdown",
   "metadata": {},
   "source": [
    "## 销售数量及金额散点图"
   ]
  },
  {
   "cell_type": "markdown",
   "metadata": {
    "id": "0A29A6033DE744D5A68A12B8192CD797",
    "jupyter": {},
    "slideshow": {
     "slide_type": "slide"
    },
    "tags": []
   },
   "source": [
    "- 热度与销量呈现一定的正相关\n",
    "- 美宝莲热度第一，销量第二，妮维雅热度第二，销量第四，两者价格均相对较低\n",
    "- 价格低的品牌热度和销量相对较高，价格高的品牌热度和销量相对较低"
   ]
  },
  {
   "cell_type": "code",
   "execution_count": 378,
   "metadata": {
    "ExecuteTime": {
     "end_time": "2020-03-12T10:52:39.463283Z",
     "start_time": "2020-03-12T10:52:38.937608Z"
    },
    "id": "1A23AE4B852D468084BD16F2CCEEA575",
    "jupyter": {},
    "slideshow": {
     "slide_type": "slide"
    },
    "tags": []
   },
   "outputs": [
    {
     "data": {
      "image/png": "[encoded data removed]",
      "text/plain": [
       "<Figure size 1080x432 with 1 Axes>"
      ]
     },
     "metadata": {
      "needs_background": "light"
     },
     "output_type": "display_data"
    }
   ],
   "source": [
    "plt.figure(figsize=(15,6))\n",
    "# Y轴 评论代表关注度，X轴 销售总量代表卖得好，图内散点圆圈大小代表价格\n",
    "x = data.groupby('店名')['sale_count'].mean()\n",
    "y = data.groupby('店名')['comment_count'].mean()\n",
    "s = data.groupby('店名')['price'].mean()\n",
    "txt = data.groupby('店名').id.count().index\n",
    "# hue:对输入数据进行分组的序列，使用不同颜色对各组的数据加以区分 # annotate注解；自动编号；批注 \n",
    "sns.scatterplot(x,y,size=s,hue=s,sizes=(100,1500),data=data)\n",
    "for i in range(len(txt)):\n",
    "    plt.annotate(txt[i],xy=(x[i],y[i]))\n",
    "plt.ylabel('热度')\n",
    "plt.xlabel('销量')\n",
    "plt.legend(loc='upper left')\n",
    "plt.show()"
   ]
  },
  {
   "cell_type": "markdown",
   "metadata": {
    "id": "45B256310F4F4478821DB125C256263E",
    "jupyter": {},
    "slideshow": {
     "slide_type": "slide"
    },
    "tags": []
   },
   "source": [
    "## 品牌价格箱线图"
   ]
  },
  {
   "cell_type": "code",
   "execution_count": 383,
   "metadata": {
    "ExecuteTime": {
     "end_time": "2020-03-12T11:04:51.393231Z",
     "start_time": "2020-03-12T11:04:50.441824Z"
    },
    "id": "FDBBD1AE4D4748B98F827D51A0C80655",
    "jupyter": {},
    "slideshow": {
     "slide_type": "slide"
    },
    "tags": []
   },
   "outputs": [
    {
     "data": {
      "image/png": "[encoded data removed]",
      "text/plain": [
       "<Figure size 1008x432 with 1 Axes>"
      ]
     },
     "metadata": {
      "needs_background": "light"
     },
     "output_type": "display_data"
    }
   ],
   "source": [
    "plt.figure(figsize=(14,6))\n",
    "sns.boxplot(x='店名',y='price',data=data)\n",
    "plt.ylim(0,2000)\n",
    "# Y轴刻度缩小为0-3000 展示美化\n",
    "plt.show()"
   ]
  },
  {
   "cell_type": "markdown",
   "metadata": {
    "ExecuteTime": {
     "end_time": "2020-03-12T11:06:18.338350Z",
     "start_time": "2020-03-12T11:06:18.335352Z"
    }
   },
   "source": [
    "## 品牌价格均值柱状图"
   ]
  },
  {
   "cell_type": "code",
   "execution_count": 384,
   "metadata": {
    "ExecuteTime": {
     "end_time": "2020-03-12T11:05:42.901311Z",
     "start_time": "2020-03-12T11:05:42.875328Z"
    },
    "id": "718A5970BA4A4BE28774C6029E46B576",
    "jupyter": {},
    "slideshow": {
     "slide_type": "slide"
    },
    "tags": []
   },
   "outputs": [
    {
     "data": {
      "text/plain": [
       "店名\n",
       "SKII    1011.727079\n",
       "佰草集      289.823171\n",
       "倩碧       346.092190\n",
       "兰芝       356.615809\n",
       "兰蔻       756.400778\n",
       "妮维雅       73.789053\n",
       "娇兰      1361.043588\n",
       "悦诗风吟     121.245945\n",
       "植村秀      311.786667\n",
       "欧珀莱      276.218543\n",
       "欧莱雅      167.282698\n",
       "玉兰油      329.657294\n",
       "相宜本草     122.958446\n",
       "美加净       44.694619\n",
       "美宝莲      148.757576\n",
       "自然堂      180.130213\n",
       "薇姿       281.085791\n",
       "蜜丝佛陀     142.118894\n",
       "资生堂      577.438490\n",
       "雅漾       212.618401\n",
       "雅诗兰黛     872.470718\n",
       "雪花秀      901.082873\n",
       "Name: price, dtype: float64"
      ]
     },
     "execution_count": 384,
     "metadata": {},
     "output_type": "execute_result"
    }
   ],
   "source": [
    "data.groupby('店名').price.sum()\n",
    "avg_price=data.groupby('店名').price.sum()/data.groupby('店名').price.count()\n",
    "avg_price"
   ]
  },
  {
   "cell_type": "code",
   "execution_count": 403,
   "metadata": {
    "ExecuteTime": {
     "end_time": "2020-03-12T11:13:34.297453Z",
     "start_time": "2020-03-12T11:13:33.882711Z"
    },
    "id": "4CDD62D40D3747F08154643BEAB99A44",
    "jupyter": {},
    "slideshow": {
     "slide_type": "slide"
    },
    "tags": []
   },
   "outputs": [
    {
     "data": {
      "image/png": "[encoded data removed]",
      "text/plain": [
       "<Figure size 864x432 with 1 Axes>"
      ]
     },
     "metadata": {
      "needs_background": "light"
     },
     "output_type": "display_data"
    }
   ],
   "source": [
    "fig = plt.figure(figsize=(12,6))\n",
    "avg_price.sort_values(ascending=False).plot(kind='bar',width=0.8,alpha=0.6,color='b',label='各品牌平均价格')\n",
    "\n",
    "# 均值线\n",
    "y1 = data['price'].mean()\n",
    "plt.axhline(y1,0,5,color='r',label='全品牌平均价格')\n",
    "\n",
    "# 中位数线\n",
    "y2 = data['price'].median()\n",
    "plt.axhline(y2,0,5,color='g',label='全品牌价格中位数')\n",
    "\n",
    "# 众数线\n",
    "y3 = data['price'].quantile(0.75)\n",
    "plt.axhline(y3,0,5,color='blue',label='全品牌价格四分之三价格')\n",
    "\n",
    "plt.ylabel('品牌平均价格')\n",
    "plt.title('品牌产品平均价格',fontsize=24)\n",
    "plt.legend(loc='best')\n",
    "plt.show()"
   ]
  },
  {
   "cell_type": "markdown",
   "metadata": {
    "id": "4766BA16E71A41569504EFBA82AAA309",
    "jupyter": {},
    "slideshow": {
     "slide_type": "slide"
    },
    "tags": []
   },
   "source": [
    "- 娇兰、SKII、雪花秀、雅诗兰黛、兰蔻、资生堂这几个国际大牌的产品价格很高，产品平均价格都在500以上，都是一线大牌； \n",
    "- 兰芝、倩碧、玉兰油、植村秀、佰草集、薇姿、雅漾的平均价格在300-400元左右，其中佰草集是最贵的国货品牌； \n",
    "- 美加净作为国货品牌，性价比高，平均价格最低，妮维雅的平均价格第二低，在100元左右； \n",
    "- 全品牌平均价格低于400元，除了前五个国际大牌其余品牌的平均价格都低于全品牌平均价格；"
   ]
  },
  {
   "cell_type": "markdown",
   "metadata": {
    "id": "DB65E2FD0745403DA9DC69AA407CC60E",
    "jupyter": {},
    "slideshow": {
     "slide_type": "slide"
    },
    "tags": []
   },
   "source": [
    "## 男性护肤品销量柱状图"
   ]
  },
  {
   "cell_type": "code",
   "execution_count": 436,
   "metadata": {
    "ExecuteTime": {
     "end_time": "2020-03-12T13:03:00.205234Z",
     "start_time": "2020-03-12T13:03:00.183246Z"
    }
   },
   "outputs": [
    {
     "data": {
      "text/html": [
       "<div>\n",
       "<style scoped>\n",
       "    .dataframe tbody tr th:only-of-type {\n",
       "        vertical-align: middle;\n",
       "    }\n",
       "\n",
       "    .dataframe tbody tr th {\n",
       "        vertical-align: top;\n",
       "    }\n",
       "\n",
       "    .dataframe thead th {\n",
       "        text-align: right;\n",
       "    }\n",
       "</style>\n",
       "<table border=\"1\" class=\"dataframe\">\n",
       "  <thead>\n",
       "    <tr style=\"text-align: right;\">\n",
       "      <th></th>\n",
       "      <th>id</th>\n",
       "      <th>title</th>\n",
       "      <th>price</th>\n",
       "      <th>sale_count</th>\n",
       "      <th>comment_count</th>\n",
       "      <th>店名</th>\n",
       "      <th>sub_type_all</th>\n",
       "      <th>main_type_all</th>\n",
       "      <th>是否男士专用</th>\n",
       "      <th>销售额</th>\n",
       "      <th>day</th>\n",
       "    </tr>\n",
       "    <tr>\n",
       "      <th>update_time</th>\n",
       "      <th></th>\n",
       "      <th></th>\n",
       "      <th></th>\n",
       "      <th></th>\n",
       "      <th></th>\n",
       "      <th></th>\n",
       "      <th></th>\n",
       "      <th></th>\n",
       "      <th></th>\n",
       "      <th></th>\n",
       "      <th></th>\n",
       "    </tr>\n",
       "  </thead>\n",
       "  <tbody>\n",
       "    <tr>\n",
       "      <td>2016-11-14</td>\n",
       "      <td>A18164178225</td>\n",
       "      <td>CHANDO/自然堂 雪域精粹纯粹滋润霜50g 补水保湿 滋润水润面霜</td>\n",
       "      <td>139.0</td>\n",
       "      <td>26719.0</td>\n",
       "      <td>2704.0</td>\n",
       "      <td>自然堂</td>\n",
       "      <td>面霜类</td>\n",
       "      <td>护肤品</td>\n",
       "      <td>否</td>\n",
       "      <td>3713941.0</td>\n",
       "      <td>14</td>\n",
       "    </tr>\n",
       "    <tr>\n",
       "      <td>2016-11-14</td>\n",
       "      <td>A18177105952</td>\n",
       "      <td>CHANDO/自然堂凝时鲜颜肌活乳液120ML 淡化细纹补水滋润专柜正品</td>\n",
       "      <td>194.0</td>\n",
       "      <td>8122.0</td>\n",
       "      <td>1492.0</td>\n",
       "      <td>自然堂</td>\n",
       "      <td>乳液类</td>\n",
       "      <td>护肤品</td>\n",
       "      <td>否</td>\n",
       "      <td>1575668.0</td>\n",
       "      <td>14</td>\n",
       "    </tr>\n",
       "  </tbody>\n",
       "</table>\n",
       "</div>"
      ],
      "text/plain": [
       "                       id                                 title  price  \\\n",
       "update_time                                                              \n",
       "2016-11-14   A18164178225   CHANDO/自然堂 雪域精粹纯粹滋润霜50g 补水保湿 滋润水润面霜  139.0   \n",
       "2016-11-14   A18177105952  CHANDO/自然堂凝时鲜颜肌活乳液120ML 淡化细纹补水滋润专柜正品  194.0   \n",
       "\n",
       "             sale_count  comment_count   店名 sub_type_all main_type_all 是否男士专用  \\\n",
       "update_time                                                                     \n",
       "2016-11-14      26719.0         2704.0  自然堂          面霜类           护肤品      否   \n",
       "2016-11-14       8122.0         1492.0  自然堂          乳液类           护肤品      否   \n",
       "\n",
       "                   销售额  day  \n",
       "update_time                  \n",
       "2016-11-14   3713941.0   14  \n",
       "2016-11-14   1575668.0   14  "
      ]
     },
     "execution_count": 436,
     "metadata": {},
     "output_type": "execute_result"
    }
   ],
   "source": [
    "data.head(2)"
   ]
  },
  {
   "cell_type": "code",
   "execution_count": 440,
   "metadata": {
    "ExecuteTime": {
     "end_time": "2020-03-12T13:04:18.627271Z",
     "start_time": "2020-03-12T13:04:17.241131Z"
    },
    "id": "A309DDBE57324318826AFD56687A8945",
    "jupyter": {},
    "slideshow": {
     "slide_type": "slide"
    },
    "tags": []
   },
   "outputs": [
    {
     "data": {
      "image/png": "[encoded data removed]",
      "text/plain": [
       "<Figure size 1080x360 with 1 Axes>"
      ]
     },
     "metadata": {
      "needs_background": "light"
     },
     "output_type": "display_data"
    }
   ],
   "source": [
    "gender_data=data[data['是否男士专用']=='是']\n",
    "\n",
    "gender_data_1=gender_data[(gender_data.main_type_all =='护肤品')| (gender_data.main_type_all=='化妆品')]\n",
    "\n",
    "plt.figure(figsize = (15,5))\n",
    "sns.barplot(x='店名',y='sale_count',hue='main_type_all',data =gender_data_1,saturation=0.75,ci=0,)\n",
    "plt.show()"
   ]
  },
  {
   "cell_type": "code",
   "execution_count": 441,
   "metadata": {
    "ExecuteTime": {
     "end_time": "2020-03-12T13:05:24.864914Z",
     "start_time": "2020-03-12T13:05:24.847926Z"
    }
   },
   "outputs": [
    {
     "data": {
      "text/plain": [
       "其他      13100\n",
       "清洁类      2922\n",
       "面霜类      2675\n",
       "化妆水      1955\n",
       "底妆类      1790\n",
       "乳液类      1352\n",
       "眼部护理     1114\n",
       "精华类       727\n",
       "口红类       715\n",
       "眼部彩妆      604\n",
       "防晒类       494\n",
       "修容类        64\n",
       "Name: sub_type_all, dtype: int64"
      ]
     },
     "execution_count": 441,
     "metadata": {},
     "output_type": "execute_result"
    }
   ],
   "source": [
    "data['sub_type_all'].value_counts()"
   ]
  },
  {
   "cell_type": "code",
   "execution_count": 442,
   "metadata": {
    "ExecuteTime": {
     "end_time": "2020-03-12T13:06:08.620232Z",
     "start_time": "2020-03-12T13:06:07.244088Z"
    },
    "scrolled": true
   },
   "outputs": [
    {
     "data": {
      "image/png": "[encoded data removed]",
      "text/plain": [
       "<Figure size 1080x360 with 1 Axes>"
      ]
     },
     "metadata": {
      "needs_background": "light"
     },
     "output_type": "display_data"
    }
   ],
   "source": [
    "gender_data=data[data['是否男士专用']=='是']\n",
    "\n",
    "gender_data_1=gender_data[(gender_data.sub_type_all =='清洁类')| (gender_data.sub_type_all=='面霜类')]\n",
    "\n",
    "plt.figure(figsize = (15,5))\n",
    "sns.barplot(x='店名',y='sale_count',hue='sub_type_all',data =gender_data_1,saturation=0.75,ci=0,)\n",
    "plt.show()"
   ]
  },
  {
   "cell_type": "markdown",
   "metadata": {},
   "source": [
    "## 男性销售额排名"
   ]
  },
  {
   "cell_type": "code",
   "execution_count": 443,
   "metadata": {
    "ExecuteTime": {
     "end_time": "2020-03-12T13:07:19.339177Z",
     "start_time": "2020-03-12T13:07:19.316191Z"
    }
   },
   "outputs": [
    {
     "data": {
      "text/html": [
       "<div>\n",
       "<style scoped>\n",
       "    .dataframe tbody tr th:only-of-type {\n",
       "        vertical-align: middle;\n",
       "    }\n",
       "\n",
       "    .dataframe tbody tr th {\n",
       "        vertical-align: top;\n",
       "    }\n",
       "\n",
       "    .dataframe thead th {\n",
       "        text-align: right;\n",
       "    }\n",
       "</style>\n",
       "<table border=\"1\" class=\"dataframe\">\n",
       "  <thead>\n",
       "    <tr style=\"text-align: right;\">\n",
       "      <th></th>\n",
       "      <th>id</th>\n",
       "      <th>title</th>\n",
       "      <th>price</th>\n",
       "      <th>sale_count</th>\n",
       "      <th>comment_count</th>\n",
       "      <th>店名</th>\n",
       "      <th>sub_type_all</th>\n",
       "      <th>main_type_all</th>\n",
       "      <th>是否男士专用</th>\n",
       "      <th>销售额</th>\n",
       "      <th>day</th>\n",
       "    </tr>\n",
       "    <tr>\n",
       "      <th>update_time</th>\n",
       "      <th></th>\n",
       "      <th></th>\n",
       "      <th></th>\n",
       "      <th></th>\n",
       "      <th></th>\n",
       "      <th></th>\n",
       "      <th></th>\n",
       "      <th></th>\n",
       "      <th></th>\n",
       "      <th></th>\n",
       "      <th></th>\n",
       "    </tr>\n",
       "  </thead>\n",
       "  <tbody>\n",
       "    <tr>\n",
       "      <td>2016-11-14</td>\n",
       "      <td>A18164178225</td>\n",
       "      <td>CHANDO/自然堂 雪域精粹纯粹滋润霜50g 补水保湿 滋润水润面霜</td>\n",
       "      <td>139.0</td>\n",
       "      <td>26719.0</td>\n",
       "      <td>2704.0</td>\n",
       "      <td>自然堂</td>\n",
       "      <td>面霜类</td>\n",
       "      <td>护肤品</td>\n",
       "      <td>否</td>\n",
       "      <td>3713941.0</td>\n",
       "      <td>14</td>\n",
       "    </tr>\n",
       "  </tbody>\n",
       "</table>\n",
       "</div>"
      ],
      "text/plain": [
       "                       id                                title  price  \\\n",
       "update_time                                                             \n",
       "2016-11-14   A18164178225  CHANDO/自然堂 雪域精粹纯粹滋润霜50g 补水保湿 滋润水润面霜  139.0   \n",
       "\n",
       "             sale_count  comment_count   店名 sub_type_all main_type_all 是否男士专用  \\\n",
       "update_time                                                                     \n",
       "2016-11-14      26719.0         2704.0  自然堂          面霜类           护肤品      否   \n",
       "\n",
       "                   销售额  day  \n",
       "update_time                  \n",
       "2016-11-14   3713941.0   14  "
      ]
     },
     "execution_count": 443,
     "metadata": {},
     "output_type": "execute_result"
    }
   ],
   "source": [
    "data.head(1)"
   ]
  },
  {
   "cell_type": "code",
   "execution_count": 446,
   "metadata": {
    "ExecuteTime": {
     "end_time": "2020-03-12T13:08:03.692861Z",
     "start_time": "2020-03-12T13:08:03.021275Z"
    },
    "id": "6814A396DD7D48DF86F02E9280176CAA",
    "jupyter": {},
    "slideshow": {
     "slide_type": "slide"
    },
    "tags": []
   },
   "outputs": [
    {
     "data": {
      "image/png": "[encoded data removed]",
      "text/plain": [
       "<Figure size 1080x360 with 2 Axes>"
      ]
     },
     "metadata": {
      "needs_background": "light"
     },
     "output_type": "display_data"
    }
   ],
   "source": [
    "f,[ax1,ax2]=plt.subplots(1,2,figsize=(15,5))\n",
    "\n",
    "gender_data.groupby('店名').sale_count.sum().sort_values(ascending=True).plot(kind='barh',width=0.8,ax=ax1)\n",
    "ax1.set_title('男士护肤品销量排名')\n",
    "\n",
    "gender_data.groupby('店名').销售额.sum().sort_values(ascending=True).plot(kind='barh',width=0.8,ax=ax2)\n",
    "ax2.set_title('男士护肤品销售额排名')\n",
    "\n",
    "plt.subplots_adjust(wspace=0.4)\n",
    "plt.show()"
   ]
  },
  {
   "cell_type": "markdown",
   "metadata": {
    "id": "66D94976235A4B11940CECE4FC5BC83F",
    "jupyter": {},
    "slideshow": {
     "slide_type": "slide"
    },
    "tags": []
   },
   "source": [
    "## 双11前后销售曲线图"
   ]
  },
  {
   "cell_type": "markdown",
   "metadata": {
    "id": "B9E7AA01C34E43299D6E4F2D93F377A4",
    "jupyter": {},
    "slideshow": {
     "slide_type": "slide"
    },
    "tags": []
   },
   "source": [
    "- 高峰在11号前几天，双十一之前商家提前预热，很大的优惠\n",
    "- 当天销量最低避免网络高峰，在双11号之前提前购买\n",
    "- 后3天，销量远不如双十一，逐步增长，商家持续打折有优惠，购物余热起作用"
   ]
  },
  {
   "cell_type": "code",
   "execution_count": 453,
   "metadata": {
    "ExecuteTime": {
     "end_time": "2020-03-12T13:13:31.614009Z",
     "start_time": "2020-03-12T13:13:31.371160Z"
    },
    "id": "10E842DA00FF49CC8D233E33FC57D903",
    "jupyter": {},
    "scrolled": false,
    "slideshow": {
     "slide_type": "slide"
    },
    "tags": []
   },
   "outputs": [
    {
     "data": {
      "image/png": "[encoded data removed]",
      "text/plain": [
       "<Figure size 1080x360 with 1 Axes>"
      ]
     },
     "metadata": {
      "needs_background": "light"
     },
     "output_type": "display_data"
    }
   ],
   "source": [
    "from matplotlib.pyplot import MultipleLocator\n",
    "# MultipleLocator多重定位器 5代表每隔5个\n",
    "\n",
    "plt.figure(figsize = (15,5))\n",
    "day_sale=data.groupby('day')['sale_count'].sum()\n",
    "day_sale.plot()\n",
    "# grid栅格；格子；格网\n",
    "plt.grid(linestyle=\"-.\",color=\"black\",axis=\"both\",alpha=0.5)\n",
    "\n",
    "x_major_locator=MultipleLocator(2)  \n",
    "# MultipleLocator(5)) 5代表每隔5个\n",
    "# 把x轴的刻度间隔设置为1，并存在变量里\n",
    "\n",
    "ax=plt.gca()  #ax为两条坐标轴的实例\n",
    "ax.xaxis.set_major_locator(x_major_locator)\n",
    "#把x轴的主刻度设置为1的倍数\n",
    "plt.xlabel('date（11 month）')\n",
    "plt.ylabel('sales')\n",
    "plt.show();"
   ]
  },
  {
   "cell_type": "code",
   "execution_count": null,
   "metadata": {
    "id": "692C8AE48070494383CBA801435A5825",
    "jupyter": {},
    "slideshow": {
     "slide_type": "slide"
    },
    "tags": []
   },
   "outputs": [],
   "source": []
  }
 ],
 "metadata": {
  "kernelspec": {
   "display_name": "Python 3",
   "language": "python",
   "name": "python3"
  },
  "language_info": {
   "codemirror_mode": {
    "name": "ipython",
    "version": 3
   },
   "file_extension": ".py",
   "mimetype": "text/x-python",
   "name": "python",
   "nbconvert_exporter": "python",
   "pygments_lexer": "ipython3",
   "version": "3.7.4"
  },
  "toc": {
   "base_numbering": 1,
   "nav_menu": {},
   "number_sections": true,
   "sideBar": true,
   "skip_h1_title": false,
   "title_cell": "Table of Contents",
   "title_sidebar": "Contents",
   "toc_cell": false,
   "toc_position": {
    "height": "calc(100% - 180px)",
    "left": "10px",
    "top": "150px",
    "width": "247.188px"
   },
   "toc_section_display": true,
   "toc_window_display": true
  }
 },
 "nbformat": 4,
 "nbformat_minor": 2
}
